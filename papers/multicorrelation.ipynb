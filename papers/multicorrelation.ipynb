{
 "cells": [
  {
   "cell_type": "code",
   "execution_count": 1,
   "metadata": {},
   "outputs": [],
   "source": [
    "import pandas as pd\n",
    "import seaborn as sns\n",
    "import numpy as np\n"
   ]
  },
  {
   "cell_type": "code",
   "execution_count": 7,
   "metadata": {},
   "outputs": [],
   "source": [
    "d = { 'c1' : np.random.randint(0, 10, 100), \n",
    "     'c2' : np.random.randint(0, 10, 100), \n",
    "     'c3' : np.random.randint(0, 10, 100)}"
   ]
  },
  {
   "cell_type": "code",
   "execution_count": 8,
   "metadata": {},
   "outputs": [],
   "source": [
    "df = pd.DataFrame(data=d)"
   ]
  },
  {
   "cell_type": "markdown",
   "metadata": {},
   "source": [
    "# Создаем линейно-зависимые фичи"
   ]
  },
  {
   "cell_type": "code",
   "execution_count": 10,
   "metadata": {},
   "outputs": [],
   "source": [
    "df['c4'] = df.c1 * 2.5\n",
    "df['c5'] = df.c2 / 4\n",
    "df['c6'] = 3 * df.c3 + 2\n",
    "df['c7'] = (df.c1 + df.c2 + df.c3) * 3"
   ]
  },
  {
   "cell_type": "markdown",
   "metadata": {},
   "source": [
    "# Парные коэффициенты корреляции \n",
    "\n",
    "\n",
    "$$ \\dfrac{(X*Y)_{average} - X_{average}*Y_{average}}{X_{std} * Y_{std}}   $$"
   ]
  },
  {
   "cell_type": "code",
   "execution_count": 12,
   "metadata": {},
   "outputs": [
    {
     "data": {
      "text/plain": [
       "<matplotlib.axes._subplots.AxesSubplot at 0x2180c450b38>"
      ]
     },
     "execution_count": 12,
     "metadata": {},
     "output_type": "execute_result"
    },
    {
     "data": {
      "image/png": "[encoded data removed]",
      "text/plain": [
       "<Figure size 432x288 with 2 Axes>"
      ]
     },
     "metadata": {},
     "output_type": "display_data"
    }
   ],
   "source": [
    "sns.heatmap(df.corr())"
   ]
  },
  {
   "cell_type": "code",
   "execution_count": 13,
   "metadata": {},
   "outputs": [
    {
     "data": {
      "text/html": [
       "<div>\n",
       "<style scoped>\n",
       "    .dataframe tbody tr th:only-of-type {\n",
       "        vertical-align: middle;\n",
       "    }\n",
       "\n",
       "    .dataframe tbody tr th {\n",
       "        vertical-align: top;\n",
       "    }\n",
       "\n",
       "    .dataframe thead th {\n",
       "        text-align: right;\n",
       "    }\n",
       "</style>\n",
       "<table border=\"1\" class=\"dataframe\">\n",
       "  <thead>\n",
       "    <tr style=\"text-align: right;\">\n",
       "      <th></th>\n",
       "      <th>c1</th>\n",
       "      <th>c2</th>\n",
       "      <th>c3</th>\n",
       "      <th>c4</th>\n",
       "      <th>c5</th>\n",
       "      <th>c6</th>\n",
       "      <th>c7</th>\n",
       "    </tr>\n",
       "  </thead>\n",
       "  <tbody>\n",
       "    <tr>\n",
       "      <th>c1</th>\n",
       "      <td>1.000000</td>\n",
       "      <td>0.050674</td>\n",
       "      <td>0.052098</td>\n",
       "      <td>1.000000</td>\n",
       "      <td>0.050674</td>\n",
       "      <td>0.052098</td>\n",
       "      <td>0.608609</td>\n",
       "    </tr>\n",
       "    <tr>\n",
       "      <th>c2</th>\n",
       "      <td>0.050674</td>\n",
       "      <td>1.000000</td>\n",
       "      <td>0.116517</td>\n",
       "      <td>0.050674</td>\n",
       "      <td>1.000000</td>\n",
       "      <td>0.116517</td>\n",
       "      <td>0.623474</td>\n",
       "    </tr>\n",
       "    <tr>\n",
       "      <th>c3</th>\n",
       "      <td>0.052098</td>\n",
       "      <td>0.116517</td>\n",
       "      <td>1.000000</td>\n",
       "      <td>0.052098</td>\n",
       "      <td>0.116517</td>\n",
       "      <td>1.000000</td>\n",
       "      <td>0.621974</td>\n",
       "    </tr>\n",
       "    <tr>\n",
       "      <th>c4</th>\n",
       "      <td>1.000000</td>\n",
       "      <td>0.050674</td>\n",
       "      <td>0.052098</td>\n",
       "      <td>1.000000</td>\n",
       "      <td>0.050674</td>\n",
       "      <td>0.052098</td>\n",
       "      <td>0.608609</td>\n",
       "    </tr>\n",
       "    <tr>\n",
       "      <th>c5</th>\n",
       "      <td>0.050674</td>\n",
       "      <td>1.000000</td>\n",
       "      <td>0.116517</td>\n",
       "      <td>0.050674</td>\n",
       "      <td>1.000000</td>\n",
       "      <td>0.116517</td>\n",
       "      <td>0.623474</td>\n",
       "    </tr>\n",
       "    <tr>\n",
       "      <th>c6</th>\n",
       "      <td>0.052098</td>\n",
       "      <td>0.116517</td>\n",
       "      <td>1.000000</td>\n",
       "      <td>0.052098</td>\n",
       "      <td>0.116517</td>\n",
       "      <td>1.000000</td>\n",
       "      <td>0.621974</td>\n",
       "    </tr>\n",
       "    <tr>\n",
       "      <th>c7</th>\n",
       "      <td>0.608609</td>\n",
       "      <td>0.623474</td>\n",
       "      <td>0.621974</td>\n",
       "      <td>0.608609</td>\n",
       "      <td>0.623474</td>\n",
       "      <td>0.621974</td>\n",
       "      <td>1.000000</td>\n",
       "    </tr>\n",
       "  </tbody>\n",
       "</table>\n",
       "</div>"
      ],
      "text/plain": [
       "          c1        c2        c3        c4        c5        c6        c7\n",
       "c1  1.000000  0.050674  0.052098  1.000000  0.050674  0.052098  0.608609\n",
       "c2  0.050674  1.000000  0.116517  0.050674  1.000000  0.116517  0.623474\n",
       "c3  0.052098  0.116517  1.000000  0.052098  0.116517  1.000000  0.621974\n",
       "c4  1.000000  0.050674  0.052098  1.000000  0.050674  0.052098  0.608609\n",
       "c5  0.050674  1.000000  0.116517  0.050674  1.000000  0.116517  0.623474\n",
       "c6  0.052098  0.116517  1.000000  0.052098  0.116517  1.000000  0.621974\n",
       "c7  0.608609  0.623474  0.621974  0.608609  0.623474  0.621974  1.000000"
      ]
     },
     "execution_count": 13,
     "metadata": {},
     "output_type": "execute_result"
    }
   ],
   "source": [
    "df.corr()"
   ]
  },
  {
   "cell_type": "code",
   "execution_count": 52,
   "metadata": {},
   "outputs": [
    {
     "data": {
      "text/plain": [
       "0.6025226343677544"
      ]
     },
     "execution_count": 52,
     "metadata": {},
     "output_type": "execute_result"
    }
   ],
   "source": [
    "((df.c1 * df.c7).mean() - df.c1.mean() * df.c7.mean()) / (df.c1.std() * df.c7.std())"
   ]
  },
  {
   "cell_type": "code",
   "execution_count": 54,
   "metadata": {},
   "outputs": [
    {
     "data": {
      "text/plain": [
       "0.0"
      ]
     },
     "execution_count": 54,
     "metadata": {},
     "output_type": "execute_result"
    }
   ],
   "source": [
    "np.linalg.det(np.array(df[:3].corr()))"
   ]
  },
  {
   "cell_type": "code",
   "execution_count": 88,
   "metadata": {},
   "outputs": [
    {
     "data": {
      "text/plain": [
       "287.9999999999998"
      ]
     },
     "execution_count": 88,
     "metadata": {},
     "output_type": "execute_result"
    }
   ],
   "source": [
    "np.linalg.det(np.array(df[['c1', 'c7']][:2]))"
   ]
  },
  {
   "cell_type": "code",
   "execution_count": 50,
   "metadata": {},
   "outputs": [
    {
     "data": {
      "text/plain": [
       "(3.0079188415872786, 9.047575757575755, 3.0079188415872786, 4.23)"
      ]
     },
     "execution_count": 50,
     "metadata": {},
     "output_type": "execute_result"
    }
   ],
   "source": [
    "df.c1.std(), df.c1.var(), df.c1.var()**0.5, df.c1.mean(), "
   ]
  }
 ],
 "metadata": {
  "kernelspec": {
   "display_name": "Python 3",
   "language": "python",
   "name": "python3"
  },
  "language_info": {
   "codemirror_mode": {
    "name": "ipython",
    "version": 3
   },
   "file_extension": ".py",
   "mimetype": "text/x-python",
   "name": "python",
   "nbconvert_exporter": "python",
   "pygments_lexer": "ipython3",
   "version": "3.6.5"
  }
 },
 "nbformat": 4,
 "nbformat_minor": 2
}
