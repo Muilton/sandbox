{
 "cells": [
  {
   "cell_type": "code",
   "execution_count": 16,
   "metadata": {},
   "outputs": [],
   "source": [
    "import numpy as np\n",
    "import pandas as pd\n",
    "from sklearn.model_selection import train_test_split # деление на обучающую и проверочную выборку\n",
    "from sklearn.preprocessing import OneHotEncoder # кодирует целочисленные значения у в массив\n",
    "from sklearn.metrics import accuracy_score # подсчет точности предсказаний"
   ]
  },
  {
   "cell_type": "markdown",
   "metadata": {},
   "source": [
    "# Подготовка данных"
   ]
  },
  {
   "cell_type": "code",
   "execution_count": 17,
   "metadata": {},
   "outputs": [
    {
     "data": {
      "text/plain": [
       "'\\nПосле всех преобразований получили размерности:\\nX - [29400x784]\\ny - [29400x1]\\ny_onehotenc - [29400x10]\\n\\nx_test - [12600x784]\\ny_test - [12600x1]\\n'"
      ]
     },
     "execution_count": 17,
     "metadata": {},
     "output_type": "execute_result"
    }
   ],
   "source": [
    "df = pd.read_csv('data/train.csv')\n",
    "\n",
    "df_X = df.drop('label', axis=1) \n",
    "df_y = df['label']\n",
    "\n",
    "# разделяем данные на обучающую и тестовую выборки\n",
    "train_x, test_x, train_y, test_y = train_test_split(df_X, df_y, test_size=0.3, random_state=20) \n",
    "\n",
    "# отложенные данные для теста после завершения обучения\n",
    "X_test = np.array(test_x) / 255 #  масштабируем чтобы значения были в даипозоне [0 - 1]\n",
    "y_test = np.array([test_y]).T\n",
    "\n",
    "# данные для обучения модели \n",
    "X = np.array(train_x) / 255 #  масштабируем чтобы значения были в даипозоне [0 - 1]\n",
    "y = np.array([train_y]).T\n",
    "y_onehotenc = OneHotEncoder().fit_transform(y).toarray() # для ф-ии ошибки MSE нужен OneHotEncoding"
   ]
  },
  {
   "cell_type": "markdown",
   "metadata": {},
   "source": [
    "# Функция активации и ее производная"
   ]
  },
  {
   "cell_type": "code",
   "execution_count": 18,
   "metadata": {},
   "outputs": [],
   "source": [
    "# ф-я активации, при флаге True возвращает производную (для подсчета градиента)\n",
    "def sigmoid(x, derivative=False):\n",
    "    if derivative == True:\n",
    "        return x * (1 - x) # возвращает производную ф-ии (см. математ. обоснование)\n",
    "    return 1 / (1 + np.exp(-x)) # возвращает значение ф-ии"
   ]
  },
  {
   "cell_type": "markdown",
   "metadata": {},
   "source": [
    "# Функция ошибки и ее производная"
   ]
  },
  {
   "cell_type": "code",
   "execution_count": 19,
   "metadata": {},
   "outputs": [],
   "source": [
    "# ф-я ошибки, при флаге True возвращает производную (для подсчета градиента)\n",
    "def loss(y, y_, derivative=False):\n",
    "    if derivative == True:\n",
    "        return y - y_ # возвращает производную ф-ии (см. математ. обоснование)\n",
    "    return (y - y_)**2 # возвращает значение ф-ии"
   ]
  },
  {
   "cell_type": "markdown",
   "metadata": {},
   "source": [
    "# Математическое обоснование"
   ]
  },
  {
   "cell_type": "markdown",
   "metadata": {},
   "source": [
    "Описание параметров:\n",
    " - Ф-я активации (activation) - $SIGMOID$ (logistic regression)\n",
    " - Ф-я ошибки (loss) - $MSE$ (mean squared error)\n",
    " - Оптимизатор (optimizer) - $SGD$ (Stochastic gradient descent)\n",
    " - Кол-во эпох обучения (epoch) - 3000\n",
    " - Размер батча обучения (batch) - 32\n",
    " - Размер шага обучения (learning rate) - 1e-4\n",
    "\n",
    "Ф-я активации СИГМОИД ($A$): $ \\frac{1}{(1+e^{-\\alpha})}$, где $\\alpha$ считается как $ X_{input} * w + b$\n",
    "\n",
    "Производная ф-ии активации: $dA = \\alpha*(1-\\alpha)$\n",
    "\n",
    "Ф-я ошибки MSE ($E$): $\\frac{\\sum{(y-y^{'})^2}}{n}$, где $y$ - правильный ответ, а $y^{'}$ - предсказания сети\n",
    "\n",
    "Производная ф-ии ошибки MSE: $dE = \\frac{-2 (y-y^{'})}{n}$\n",
    "\n",
    "Частная производная ф-ии ошибки по весам $w$:  $\\frac{dE}{dw} = dE * dA * X_{input}$ --- градиент весов\n",
    "\n",
    "Чатсная производная ф-ии ошибки по биасам $b$:  $\\frac{dE}{db} = dE * dA$  --- градиент биасов\n",
    "\n",
    "Уравнение обновления весов и биасов ($SGD$): $\\omega = \\omega - \\alpha * \\triangledown \\omega$ => $\\omega = \\omega + \\triangledown \\omega$, т.к. антиградиент с \"-\" и $-\\alpha$  дают \"+\". $\\alpha$ заменяем learning rate"
   ]
  },
  {
   "cell_type": "markdown",
   "metadata": {},
   "source": [
    "# Архитектура и обучение NN (1 слой)"
   ]
  },
  {
   "cell_type": "code",
   "execution_count": 26,
   "metadata": {},
   "outputs": [
    {
     "name": "stdout",
     "output_type": "stream",
     "text": [
      "Epoch 0. Error:0.19726575702031854\n",
      "Train score:  0.644421768707483\n",
      "Test score:  0.6360317460317461\n",
      "___________________________________________\n"
     ]
    },
    {
     "data": {
      "text/plain": [
       "'  \\n---- BEST RESULT ---\\nEpoch 2900. Error:0.03054380980069215\\nTrain score:  0.9192517006802721\\nTest score:  0.9145238095238095\\n'"
      ]
     },
     "execution_count": 26,
     "metadata": {},
     "output_type": "execute_result"
    }
   ],
   "source": [
    "epoches = 1000 # кол-во эпох обучения\n",
    "batch = 32 # размер батча\n",
    "lr = 1e-4 # learning rate\n",
    "weights = np.random.random((784,10)) / 1e4   # рандомно создаем матрицу весов и масштабируем\n",
    "bias = np.zeros((1,10))  # создаем матрицу нулевых биасов \n",
    "\n",
    "for _ in range(epoches):\n",
    "    for i in range(X.shape[0] // batch):\n",
    "        batch_ids = np.random.choice(X.shape[0], batch, replace=False) # список индексов батча\n",
    "        \n",
    "        y1_ = sigmoid(np.dot(X[batch_ids], weights) + bias) # делаем предсказание [batch X 10]\n",
    "\n",
    "        dA = sigmoid(y1_, True) # производная ф-ии активации [batch X 10]\n",
    "        dE = loss(y_onehotenc[batch_ids], y1_, True) # производная ф-ии ошибки\n",
    "\n",
    "        dE_dW = np.dot(X[batch_ids].T, (dE * dA)) # градиент изменения весов\n",
    "        dE_dB = np.mean((dE * dA), axis=0) # градиент изменения биасов (среднее значение)\n",
    "\n",
    "        weights += dE_dW * lr\n",
    "        bias += dE_dB.T * lr\n",
    "\n",
    "    if (_ % 100) == 0:  # показываем MSE каждые 100 эпох обучения\n",
    "        print(f\"Epoch {_}. Error:\" +  str(np.mean(np.abs(dE))))\n",
    "\n",
    "        # считаем точность на обученной выборке\n",
    "        train_predict_matrix =  sigmoid(np.dot(X, weights) + bias)\n",
    "        train_predict_vector = train_predict_matrix.argmax(axis=1).T\n",
    "        print(\"Train score: \", accuracy_score(y, train_predict_vector))    # without bias 0.9101700680272109\n",
    "\n",
    "        # проверка точности на отложенной выборке\n",
    "        test_predict_matrix = sigmoid(np.dot(X_test, weights) + bias)\n",
    "        test_predict_vector = test_predict_matrix.argmax(axis=1).T\n",
    "        print(\"Test score: \",  accuracy_score(y_test, test_predict_vector))   # without bias 0.901984126984127\n",
    "        \n",
    "        # разделитель\n",
    "        print(\"___________________________________________\")\n",
    "\n",
    "\n",
    "'''  \n",
    "---- BEST RESULT ---\n",
    "Epoch 2900. Error:0.03054380980069215\n",
    "Train score:  0.9192517006802721\n",
    "Test score:  0.9145238095238095\n",
    "'''"
   ]
  }
 ],
 "metadata": {
  "kernelspec": {
   "display_name": "Python 3",
   "language": "python",
   "name": "python3"
  },
  "language_info": {
   "codemirror_mode": {
    "name": "ipython",
    "version": 3
   },
   "file_extension": ".py",
   "mimetype": "text/x-python",
   "name": "python",
   "nbconvert_exporter": "python",
   "pygments_lexer": "ipython3",
   "version": "3.6.5"
  }
 },
 "nbformat": 4,
 "nbformat_minor": 2
}
