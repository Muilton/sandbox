{
 "cells": [
  {
   "cell_type": "code",
   "execution_count": 1,
   "metadata": {},
   "outputs": [],
   "source": [
    "import pandas as pd\n",
    "import numpy as np\n",
    "import matplotlib.pyplot as plt\n",
    "import os\n",
    "from sklearn.metrics import f1_score, confusion_matrix"
   ]
  },
  {
   "cell_type": "code",
   "execution_count": 43,
   "metadata": {},
   "outputs": [
    {
     "name": "stdout",
     "output_type": "stream",
     "text": [
      "upper_body,65,65,155,200 upper_body,60,54,148,197,0.926499962807\n",
      "upper_body,65,65,155,200 Blouse,60,54,148,197,0.686050772667\n",
      "upper_body,65,65,155,200 Top,60,54,148,197,0.171774163842\n",
      "\n",
      "\n",
      "Blouse,65,65,155,200 upper_body,60,54,148,197,0.926499962807\n",
      "Blouse,65,65,155,200 Blouse,60,54,148,197,0.686050772667\n",
      "Blouse,65,65,155,200 Top,60,54,148,197,0.171774163842\n",
      "\n",
      "\n",
      "upper_body,46,66,210,240 upper_body,41,62,204,244,0.978702604771\n",
      "upper_body,46,66,210,240 Blouse,41,62,204,244,0.420612543821\n",
      "upper_body,46,66,210,240 Sweater,41,62,204,244,0.229181498289\n",
      "upper_body,46,66,210,240 Top,41,62,204,244,0.123984828591\n",
      "\n",
      "\n",
      "Blouse,46,66,210,240 upper_body,41,62,204,244,0.978702604771\n",
      "Blouse,46,66,210,240 Blouse,41,62,204,244,0.420612543821\n",
      "Blouse,46,66,210,240 Sweater,41,62,204,244,0.229181498289\n",
      "Blouse,46,66,210,240 Top,41,62,204,244,0.123984828591\n",
      "\n",
      "\n",
      "upper_body,22,1,202,297 upper_body,8,-21,214,281,0.952847361565\n",
      "upper_body,22,1,202,297 Blouse,8,-21,214,281,0.808223664761\n",
      "\n",
      "\n",
      "Blouse,22,1,202,297 upper_body,8,-21,214,281,0.952847361565\n",
      "Blouse,22,1,202,297 Blouse,8,-21,214,281,0.808223664761\n",
      "\n",
      "\n",
      "upper_body,1,67,133,210 upper_body,-4,56,127,211,0.272685259581\n",
      "upper_body,1,67,133,210 Blouse,-4,56,127,211,0.212960243225\n",
      "\n",
      "\n",
      "Blouse,1,67,133,210 upper_body,-4,56,127,211,0.272685259581\n",
      "Blouse,1,67,133,210 Blouse,-4,56,127,211,0.212960243225\n",
      "\n",
      "\n",
      "upper_body,18,15,276,285 upper_body,12,-23,286,314,0.950143158436\n",
      "upper_body,18,15,276,285 Blouse,12,-23,286,314,0.822644352913\n",
      "upper_body,18,15,276,285 Top,12,-23,286,314,0.204120904207\n",
      "\n",
      "\n",
      "Blouse,18,15,276,285 upper_body,12,-23,286,314,0.950143158436\n",
      "Blouse,18,15,276,285 Blouse,12,-23,286,314,0.822644352913\n",
      "Blouse,18,15,276,285 Top,12,-23,286,314,0.204120904207\n",
      "\n",
      "\n",
      "upper_body,19,71,178,266 upper_body,18,75,172,258,0.973222672939\n",
      "upper_body,19,71,178,266 Blouse,18,75,172,258,0.876008570194\n",
      "\n",
      "\n",
      "Blouse,19,71,178,266 upper_body,18,75,172,258,0.973222672939\n",
      "Blouse,19,71,178,266 Blouse,18,75,172,258,0.876008570194\n",
      "\n",
      "\n",
      "\n",
      "\n",
      "\n",
      "\n",
      "upper_body,0,9,224,300 upper_body,-12,-31,224,320,0.766202688217\n",
      "upper_body,0,9,224,300 Blouse,-12,-31,224,320,0.738475739956\n",
      "\n",
      "\n",
      "Blouse,0,9,224,300 upper_body,-12,-31,224,320,0.766202688217\n",
      "Blouse,0,9,224,300 Blouse,-12,-31,224,320,0.738475739956\n",
      "\n",
      "\n",
      "upper_body,34,82,164,252 upper_body,18,71,168,249,0.975450873375\n",
      "upper_body,34,82,164,252 Blouse,18,71,168,249,0.862747251987\n",
      "\n",
      "\n",
      "Blouse,34,82,164,252 upper_body,18,71,168,249,0.975450873375\n",
      "Blouse,34,82,164,252 Blouse,18,71,168,249,0.862747251987\n",
      "\n",
      "\n"
     ]
    }
   ],
   "source": [
    "with open('test.txt', 'r') as file:\n",
    "    for string in file:\n",
    "        string_to_list = string.split('--')\n",
    "        list_of_marked = string_to_list[0].split(';')\n",
    "        list_of_recognized = string_to_list[1].split(';')\n",
    "            \n",
    "        for marked in list_of_marked:\n",
    "            for recognized in list_of_recognized[:-1]:\n",
    "                print(marked, recognized)\n",
    "            \n",
    "            print('\\n')\n",
    "        \n",
    "\n"
   ]
  },
  {
   "cell_type": "code",
   "execution_count": 27,
   "metadata": {},
   "outputs": [
    {
     "data": {
      "text/plain": [
       "1"
      ]
     },
     "execution_count": 27,
     "metadata": {},
     "output_type": "execute_result"
    }
   ],
   "source": []
  }
 ],
 "metadata": {
  "kernelspec": {
   "display_name": "Python 3",
   "language": "python",
   "name": "python3"
  },
  "language_info": {
   "codemirror_mode": {
    "name": "ipython",
    "version": 3
   },
   "file_extension": ".py",
   "mimetype": "text/x-python",
   "name": "python",
   "nbconvert_exporter": "python",
   "pygments_lexer": "ipython3",
   "version": "3.7.3"
  }
 },
 "nbformat": 4,
 "nbformat_minor": 2
}
