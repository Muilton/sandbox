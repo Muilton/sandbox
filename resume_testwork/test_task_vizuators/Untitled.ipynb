{
 "cells": [
  {
   "cell_type": "code",
   "execution_count": 1,
   "metadata": {},
   "outputs": [],
   "source": [
    "import numpy as np\n",
    "import pandas as pd\n",
    "from matplotlib import pyplot as plt"
   ]
  },
  {
   "cell_type": "code",
   "execution_count": 2,
   "metadata": {},
   "outputs": [
    {
     "name": "stderr",
     "output_type": "stream",
     "text": [
      "C:\\Anaconda3\\lib\\site-packages\\IPython\\core\\interactiveshell.py:2785: DtypeWarning: Columns (14) have mixed types. Specify dtype option on import or set low_memory=False.\n",
      "  interactivity=interactivity, compiler=compiler, result=result)\n"
     ]
    }
   ],
   "source": [
    "df = pd.read_csv('marathon_athlete_events.csv', sep=',')"
   ]
  },
  {
   "cell_type": "code",
   "execution_count": 93,
   "metadata": {},
   "outputs": [
    {
     "data": {
      "text/plain": [
       "11179"
      ]
     },
     "execution_count": 93,
     "metadata": {},
     "output_type": "execute_result"
    }
   ],
   "source": [
    "df[(df.Year == 2016) ]['ID'].nunique()"
   ]
  },
  {
   "cell_type": "code",
   "execution_count": null,
   "metadata": {},
   "outputs": [],
   "source": []
  },
  {
   "cell_type": "code",
   "execution_count": 83,
   "metadata": {},
   "outputs": [
    {
     "data": {
      "text/html": [
       "<div>\n",
       "<style scoped>\n",
       "    .dataframe tbody tr th:only-of-type {\n",
       "        vertical-align: middle;\n",
       "    }\n",
       "\n",
       "    .dataframe tbody tr th {\n",
       "        vertical-align: top;\n",
       "    }\n",
       "\n",
       "    .dataframe thead th {\n",
       "        text-align: right;\n",
       "    }\n",
       "</style>\n",
       "<table border=\"1\" class=\"dataframe\">\n",
       "  <thead>\n",
       "    <tr style=\"text-align: right;\">\n",
       "      <th></th>\n",
       "      <th>ID</th>\n",
       "      <th>Name</th>\n",
       "      <th>Age</th>\n",
       "      <th>Height</th>\n",
       "      <th>Weight</th>\n",
       "      <th>Team</th>\n",
       "      <th>NOC</th>\n",
       "      <th>Games</th>\n",
       "      <th>Year</th>\n",
       "      <th>Season</th>\n",
       "      <th>City</th>\n",
       "      <th>Sport</th>\n",
       "      <th>Event</th>\n",
       "      <th>Medal</th>\n",
       "      <th>region</th>\n",
       "    </tr>\n",
       "    <tr>\n",
       "      <th>Sex</th>\n",
       "      <th></th>\n",
       "      <th></th>\n",
       "      <th></th>\n",
       "      <th></th>\n",
       "      <th></th>\n",
       "      <th></th>\n",
       "      <th></th>\n",
       "      <th></th>\n",
       "      <th></th>\n",
       "      <th></th>\n",
       "      <th></th>\n",
       "      <th></th>\n",
       "      <th></th>\n",
       "      <th></th>\n",
       "      <th></th>\n",
       "    </tr>\n",
       "  </thead>\n",
       "  <tbody>\n",
       "    <tr>\n",
       "      <th>Female</th>\n",
       "      <td>6223</td>\n",
       "      <td>6223</td>\n",
       "      <td>6223</td>\n",
       "      <td>6156</td>\n",
       "      <td>6131</td>\n",
       "      <td>6223</td>\n",
       "      <td>6223</td>\n",
       "      <td>6223</td>\n",
       "      <td>6223</td>\n",
       "      <td>6223</td>\n",
       "      <td>6223</td>\n",
       "      <td>6223</td>\n",
       "      <td>6223</td>\n",
       "      <td>969</td>\n",
       "      <td>6218</td>\n",
       "    </tr>\n",
       "    <tr>\n",
       "      <th>Male</th>\n",
       "      <td>7465</td>\n",
       "      <td>7465</td>\n",
       "      <td>7465</td>\n",
       "      <td>7356</td>\n",
       "      <td>7334</td>\n",
       "      <td>7465</td>\n",
       "      <td>7465</td>\n",
       "      <td>7465</td>\n",
       "      <td>7465</td>\n",
       "      <td>7465</td>\n",
       "      <td>7465</td>\n",
       "      <td>7465</td>\n",
       "      <td>7465</td>\n",
       "      <td>1054</td>\n",
       "      <td>7457</td>\n",
       "    </tr>\n",
       "  </tbody>\n",
       "</table>\n",
       "</div>"
      ],
      "text/plain": [
       "          ID  Name   Age  Height  Weight  Team   NOC  Games  Year  Season  \\\n",
       "Sex                                                                         \n",
       "Female  6223  6223  6223    6156    6131  6223  6223   6223  6223    6223   \n",
       "Male    7465  7465  7465    7356    7334  7465  7465   7465  7465    7465   \n",
       "\n",
       "        City  Sport  Event  Medal  region  \n",
       "Sex                                        \n",
       "Female  6223   6223   6223    969    6218  \n",
       "Male    7465   7465   7465   1054    7457  "
      ]
     },
     "execution_count": 83,
     "metadata": {},
     "output_type": "execute_result"
    }
   ],
   "source": [
    "df[(df.Year == 2016)].groupby(by='Sex').count()"
   ]
  },
  {
   "cell_type": "code",
   "execution_count": 95,
   "metadata": {},
   "outputs": [
    {
     "data": {
      "text/plain": [
       "array([   22,    51,    55, ...,  5414, 39949, 39312], dtype=int64)"
      ]
     },
     "execution_count": 95,
     "metadata": {},
     "output_type": "execute_result"
    }
   ],
   "source": [
    "df[(df.Year == 2016)]['ID'].unique()"
   ]
  },
  {
   "cell_type": "code",
   "execution_count": 97,
   "metadata": {},
   "outputs": [
    {
     "data": {
      "text/plain": [
       "Name\n",
       "  Gabrielle Marie \"Gabby\" Adcock (White-)       [869]\n",
       " Th Anh                                       [29842]\n",
       "Aaron Arthur Cook                             [22835]\n",
       "Aaron Brown                                   [15460]\n",
       "Aaron Gate                                    [39016]\n",
       "Aaron John Royle                             [103079]\n",
       "Aaron Russell                                [103595]\n",
       "Aaron Younger                                [133243]\n",
       "Aauri Lorena Bokesa Abia                      [12909]\n",
       "Ababel Yeshaneh Birhane                      [132909]\n",
       "Abadi Hadis Embaye                            [44616]\n",
       "Abbas Qali                                    [97735]\n",
       "Abbey Weitzeil                               [129476]\n",
       "Abbos Rakhmonov                               [98502]\n",
       "Abbubaker Mobara                              [80730]\n",
       "Abby May Erceg                                [32815]\n",
       "Abdalelah Haroun Hassan                       [46110]\n",
       "Abdalla Yousif                               [133252]\n",
       "Abdel Aziz Mehelba                            [78176]\n",
       "Abdel Aziz Merzougui Noureddine               [78998]\n",
       "Abdel Rahman Salah Orabi Abdelgawwad         [104600]\n",
       "Abdelati El-Guesse                            [32000]\n",
       "Abdelaziz Mohamed Ahmed                       [80932]\n",
       "Abdelghani Demmou                             [27503]\n",
       "Abdelhafid Benchabla                           [9968]\n",
       "Abdelhalim Muhammad Abou                        [468]\n",
       "Abdelkader Chadi                              [19536]\n",
       "Abdelkebir Ouaddar                            [90052]\n",
       "Abdelkhalek El-Banna                          [31937]\n",
       "Abdellatif Mohamed Ahmed Mohamed              [80880]\n",
       "                                               ...   \n",
       "rika Alejandra Olivera de la Fuente           [88769]\n",
       "rika Cristiano dos Santos                     [32920]\n",
       "rika Cristina de Souza                        [32921]\n",
       "rika de Souza Miranda                         [80239]\n",
       "ron Gdorfalvi                                 [37855]\n",
       "ron Szilgyi                                  [117523]\n",
       "rsula Sarah Gonzlez Garate                    [41656]\n",
       "sa Nilla Maria Fischer                        [35526]\n",
       "scar Albeyro Figueroa Mosquera                [35261]\n",
       "scar Carrera Amandi                           [18534]\n",
       "scar Leonardo Salas Miranda                  [104635]\n",
       "scar Soliz Vilca                             [112935]\n",
       "sds Hjlmsdttir                                [48874]\n",
       "skhbayaryn Chagnaadorj                        [89789]\n",
       "smail Kele                                    [58485]\n",
       "talo Manzine Amaral Duarte Garfalo            [30228]\n",
       "tienne Hubert                                 [50735]\n",
       "ukasz Gierak                                  [40203]\n",
       "ukasz Grzeszczuk                              [43383]\n",
       "ukasz Krawczuk                                [63900]\n",
       "ukasz Kubot                                   [64547]\n",
       "ukasz Nowak                                   [87218]\n",
       "ukasz Przybytek                               [97328]\n",
       "urea Esther \"Aury\" Cruz                       [24032]\n",
       "urina Jaukovi                                 [54042]\n",
       "va Csernoviczki                               [24111]\n",
       "va Risztov                                   [101041]\n",
       "zge Bayrak                                     [8931]\n",
       "zlem Kaya                                     [58232]\n",
       "zzet Safer                                   [104222]\n",
       "Name: ID, Length: 11174, dtype: object"
      ]
     },
     "execution_count": 97,
     "metadata": {},
     "output_type": "execute_result"
    }
   ],
   "source": [
    "df[(df.Year == 2016)].groupby('Name')['ID'].unique()"
   ]
  },
  {
   "cell_type": "code",
   "execution_count": null,
   "metadata": {},
   "outputs": [],
   "source": []
  }
 ],
 "metadata": {
  "kernelspec": {
   "display_name": "Python 3",
   "language": "python",
   "name": "python3"
  },
  "language_info": {
   "codemirror_mode": {
    "name": "ipython",
    "version": 3
   },
   "file_extension": ".py",
   "mimetype": "text/x-python",
   "name": "python",
   "nbconvert_exporter": "python",
   "pygments_lexer": "ipython3",
   "version": "3.6.5"
  }
 },
 "nbformat": 4,
 "nbformat_minor": 2
}
