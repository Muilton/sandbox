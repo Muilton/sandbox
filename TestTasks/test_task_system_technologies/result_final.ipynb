{
 "cells": [
  {
   "cell_type": "code",
   "execution_count": 1,
   "metadata": {},
   "outputs": [],
   "source": [
    "import numpy as np\n",
    "import pandas as pd\n",
    "import matplotlib.pyplot as plt\n",
    "from sklearn.model_selection import train_test_split\n",
    "from sklearn.metrics import mean_absolute_error, mean_squared_error, mean_squared_log_error, make_scorer\n",
    "from sklearn.ensemble import GradientBoostingRegressor, RandomForestRegressor\n",
    "from sklearn.model_selection import GridSearchCV\n",
    "import warnings\n",
    "warnings.filterwarnings(\"ignore\", category=DeprecationWarning)"
   ]
  },
  {
   "cell_type": "markdown",
   "metadata": {},
   "source": [
    "# Функции "
   ]
  },
  {
   "cell_type": "code",
   "execution_count": 2,
   "metadata": {},
   "outputs": [],
   "source": [
    "# преобразывывает datetime в отдельные признаки и удаляет исходный. Вовзвращает преобразованный df\n",
    "\n",
    "def date_update(df):\n",
    "    df['datetime'] = pd.to_datetime(df['datetime']) \n",
    "    df['day'] = df.datetime.dt.day\n",
    "    df['month'] = df.datetime.dt.month\n",
    "    df['year'] = df.datetime.dt.year\n",
    "    df['hour'] = df.datetime.dt.hour\n",
    "    df['day_of_week'] = df.datetime.dt.dayofweek\n",
    "    df['week_of_year'] = df.datetime.dt.weekofyear\n",
    "    df = df.drop('datetime', axis=1)\n",
    "    \n",
    "    return df"
   ]
  },
  {
   "cell_type": "code",
   "execution_count": 3,
   "metadata": {},
   "outputs": [],
   "source": [
    "# ф-яя для onehotencoding через get_dummies\n",
    "\n",
    "def onehotencoding(df, categories):\n",
    "    for categor in categories:\n",
    "        df = pd.concat([df, pd.get_dummies(df[categor], prefix=categor)], axis=1)\n",
    "        \n",
    "    return df.drop(categories, axis=1)"
   ]
  },
  {
   "cell_type": "code",
   "execution_count": 4,
   "metadata": {},
   "outputs": [],
   "source": [
    "# ф-яя принимает датасет для обучения и прогнозы. Возвращает pd.Series с прогнозом. Также записывает в файл.\n",
    "\n",
    "def make_submission(x, y, x_pred):\n",
    "    \n",
    "    gbr = GradientBoostingRegressor(alpha=0.99, criterion='friedman_mse', init=None,\n",
    "                          learning_rate=0.1, loss='huber', max_depth=5,\n",
    "                          max_features='auto', max_leaf_nodes=None,\n",
    "                          min_impurity_decrease=0.0, min_impurity_split=None,\n",
    "                          min_samples_leaf=1, min_samples_split=6,\n",
    "                          min_weight_fraction_leaf=0.0, n_estimators=800,\n",
    "                          n_iter_no_change=None, presort='auto',\n",
    "                          subsample=1.0, tol=0.0001,\n",
    "                          validation_fraction=0.1, verbose=0, warm_start=False)\n",
    "    gbr.fit(x, np.log1p(y))\n",
    "    predict = gbr.predict(x_pred)\n",
    "    \n",
    "    submission = pd.DataFrame({\n",
    "        \"datetime\": pd.date_range('2012-12-20', '2013-3-19 23', freq='h'),\n",
    "        \"count\": [max(0, x) for x in np.round(np.exp(predict))]\n",
    "    })\n",
    "    submission.to_csv('bike_predictions_gbr.csv', index=False)\n",
    "    \n",
    "    return pd.Series([max(0, x) for x in np.round(np.exp(predict))])"
   ]
  },
  {
   "cell_type": "code",
   "execution_count": 5,
   "metadata": {},
   "outputs": [],
   "source": [
    "def make_submission_reg_plus_cas(x, y1, y2, x_pred):\n",
    "    gbr = GradientBoostingRegressor(alpha=0.99, criterion='friedman_mse', init=None,\n",
    "                          learning_rate=0.1, loss='huber', max_depth=5,\n",
    "                          max_features='auto', max_leaf_nodes=None,\n",
    "                          min_impurity_decrease=0.0, min_impurity_split=None,\n",
    "                          min_samples_leaf=1, min_samples_split=6,\n",
    "                          min_weight_fraction_leaf=0.0, n_estimators=800,\n",
    "                          n_iter_no_change=None, presort='auto',\n",
    "                          subsample=1.0, tol=0.0001,\n",
    "                          validation_fraction=0.1, verbose=0, warm_start=False)\n",
    "    \n",
    "    gbr.fit(x, np.log1p(y1))\n",
    "    predict1 = gbr.predict(x_pred)\n",
    "    \n",
    "    gbr.fit(x, np.log1p(y2))\n",
    "    predict2 = gbr.predict(x_pred)\n",
    "    \n",
    "    predict = np.where(np.round(np.exp(predict1))<0, 0, np.round(np.exp(predict1))) + np.where(np.round(np.exp(predict2))<0, 0, np.round(np.exp(predict2)))\n",
    "    \n",
    "    submission = pd.DataFrame({\n",
    "        \"datetime\": pd.date_range('2012-12-20', '2013-3-19 23', freq='h'),\n",
    "        \"count\": [max(0, x) for x in predict]\n",
    "    })\n",
    "    submission.to_csv('bike_predictions_gbm_separate_without_fe.csv', index=False)\n",
    "    \n",
    "    return pd.Series([max(0, x) for x in predict])"
   ]
  },
  {
   "cell_type": "markdown",
   "metadata": {},
   "source": [
    "# Обработка датасета для обучения"
   ]
  },
  {
   "cell_type": "code",
   "execution_count": 6,
   "metadata": {},
   "outputs": [],
   "source": [
    "# читаем данные\n",
    "x_test = pd.read_csv('test.csv') \n",
    "x_train = pd.read_csv('train.csv') "
   ]
  },
  {
   "cell_type": "code",
   "execution_count": 7,
   "metadata": {
    "scrolled": true
   },
   "outputs": [],
   "source": [
    "# преобразовываем дату и время в отдельные признаки\n",
    "\n",
    "x_train = date_update(x_train)\n",
    "x_test = date_update(x_test)"
   ]
  },
  {
   "cell_type": "code",
   "execution_count": 8,
   "metadata": {},
   "outputs": [],
   "source": [
    "# отдельно сохраняем целевые признаки и удаляем из обучающего датасета\n",
    "\n",
    "y_train_reg = x_train['registered']\n",
    "y_train_cas = x_train['casual']\n",
    "y_train = x_train['count']\n",
    "x_train = x_train.drop(['casual', 'registered', 'count'], axis=1)"
   ]
  },
  {
   "cell_type": "markdown",
   "metadata": {},
   "source": [
    "# Выбор модели\n",
    "\n",
    "Т.к. данный датасет известный и на кагле есть тестовые данные, то они и использовались для отбора преобразований и выбора модели.\n",
    "Лучшие результаты были достигнуты (GridSearchCV) с моделью GradientBoostingRegressor и следующими параметрами:\n",
    " - GradientBoostingRegressor(alpha=0.99, criterion='friedman_mse', learning_rate=0.1, loss='huber', max_depth=5, max_features='auto', min_samples_split=6, n_estimators=800)\n",
    " - Уменьшение ошибки также получилось разбив прогноз casual и registered на отдельные модели. (после просто суммировав)\n",
    " - Для прогноза используем логорифм целевой переменной np.log1p(), а обратно восстанавливает np.exp(). Дает существенное уменьшение ошибки.\n",
    " - Best Public Score on Kaggle - 0.38948 (метрика - RMSLE).\n"
   ]
  },
  {
   "cell_type": "code",
   "execution_count": 9,
   "metadata": {},
   "outputs": [],
   "source": [
    "# с помощью данной ф-ии производили кросс-валидацию модели и подбирали параметры\n",
    "\n",
    "def check_rmsle_gb(x, y):\n",
    "    x_t, x_v, y_t, y_v = train_test_split(x, y, test_size=0.2)\n",
    "    params={'n_estimators':[700],\n",
    "            'max_depth' : [5],\n",
    "            'loss' : ['huber'],\n",
    "            'learning_rate' : [0.1],\n",
    "            'alpha' : [0.99],\n",
    "            'max_features':[\"auto\"],\n",
    "            'min_samples_split' : [6]}\n",
    "    grid_gb = GridSearchCV(GradientBoostingRegressor(), param_grid=params, cv=5)\n",
    "    grid_gb.fit(x_t, np.log1p(y_t))\n",
    "    y_pred = grid_gb.best_estimator_.predict(x_v)\n",
    "    \n",
    "    error = np.sqrt(mean_squared_log_error(y_v, np.exp(np.where(y_pred<=0, 0., y_pred))))\n",
    "    \n",
    "    print(grid_gb.best_estimator_)\n",
    "    return error"
   ]
  },
  {
   "cell_type": "markdown",
   "metadata": {},
   "source": [
    "# Создае датасета для прогноза"
   ]
  },
  {
   "cell_type": "code",
   "execution_count": 10,
   "metadata": {},
   "outputs": [],
   "source": [
    "# создаем период с 2012-12-20 до 2013-3-19 с шагом в 1 час\n",
    "\n",
    "x_predict = pd.DataFrame({\"datetime\": pd.date_range('2012-12-20', '2013-3-19 23', freq='h')})"
   ]
  },
  {
   "cell_type": "code",
   "execution_count": 11,
   "metadata": {},
   "outputs": [],
   "source": [
    "# добавляем праздники\n",
    "\n",
    "from pandas.tseries.holiday import USFederalHolidayCalendar as calendar\n",
    "cal = calendar()\n",
    "cal.holidays('2012-12-20', '2013-3-19 23')\n",
    "x_predict['holiday'] = x_predict['datetime'].isin(cal.holidays('2012-12-20', '2013-3-19 23')).map({False : 0, True : 1})"
   ]
  },
  {
   "cell_type": "code",
   "execution_count": 12,
   "metadata": {},
   "outputs": [],
   "source": [
    "# преобразовываем дату и время в отдельные признаки также, как и данные для обучения\n",
    "\n",
    "x_predict = date_update(x_predict)"
   ]
  },
  {
   "cell_type": "code",
   "execution_count": 13,
   "metadata": {},
   "outputs": [],
   "source": [
    "# добавляем признак season\n",
    "\n",
    "x_predict['season'] = (x_predict['month'] % 12 + 3) // 3"
   ]
  },
  {
   "cell_type": "code",
   "execution_count": 14,
   "metadata": {},
   "outputs": [],
   "source": [
    "# добавляем признак рабочий день\n",
    "\n",
    "x_predict['workingday'] = (x_predict['day_of_week']<5).map({False : 0, True : 1}) # 0 - monday"
   ]
  },
  {
   "cell_type": "code",
   "execution_count": 15,
   "metadata": {},
   "outputs": [],
   "source": [
    "# добавляем признаки - погода, температура, ощущаемая температура, влажность и скорость ветра \n",
    "# (считались как средние показатели за 2 года этот же день и час из обучащющей выборки)\n",
    "\n",
    "x_full = pd.concat([x_train, x_test], ignore_index=True)\n",
    "\n",
    "\n",
    "def weather(x, y):\n",
    "   \n",
    "    a, b, c, d, e = [], [], [], [], []\n",
    "    \n",
    "    for i in x.index:\n",
    "        day = x[x.index == i]['day'].values[0]\n",
    "        month = x[x.index == i]['month'].values[0]\n",
    "        hour = x[x.index == i]['hour'].values[0]\n",
    "\n",
    "        weather = np.round(y[(y.day==day) & (y.month==month) & (y.hour==hour)]['weather'].values.mean())\n",
    "        temp = y[(y.day==day) & (y.month==month) & (y.hour==hour)]['temp'].values.mean()\n",
    "        atemp = y[(y.day==day) & (y.month==month) & (y.hour==hour)]['atemp'].values.mean()\n",
    "        humidity = np.round(y[(y.day==day) & (y.month==month) & (y.hour==hour)]['humidity'].values.mean())\n",
    "        wind = y[(y.day==day) & (y.month==month) & (y.hour==hour)]['windspeed'].values.mean()\n",
    "    \n",
    "        a.append(weather)\n",
    "        b.append(temp)\n",
    "        c.append(atemp)\n",
    "        d.append(humidity)\n",
    "        e.append(wind)\n",
    "\n",
    "    \n",
    "    \n",
    "    return a, b, c, d, e\n",
    "\n",
    "a, b, c, d, e = weather(x_predict, x_full)\n",
    "\n",
    "x_predict['weather'] = a\n",
    "x_predict['temp'] = b\n",
    "x_predict['atemp'] = c\n",
    "x_predict['humidity'] = d\n",
    "x_predict['windspeed'] = e"
   ]
  },
  {
   "cell_type": "markdown",
   "metadata": {},
   "source": [
    "# Прогноз и его оценка"
   ]
  },
  {
   "cell_type": "code",
   "execution_count": 16,
   "metadata": {},
   "outputs": [],
   "source": [
    "# для раздельного предсказания reg и casual\n",
    "\n",
    "y_predict = make_submission_reg_plus_cas(x_train.drop(['year'], axis=1), y_train_reg, y_train_cas, x_predict.drop(['year'], axis=1))"
   ]
  },
  {
   "cell_type": "code",
   "execution_count": 17,
   "metadata": {},
   "outputs": [],
   "source": [
    "def create_plot(df1, df2):\n",
    "    df = pd.concat([df1, df2], ignore_index=True)\n",
    "    plt.rcParams[\"figure.figsize\"] = (20,8)\n",
    "    return df.groupby(['year', 'month'])['count'].sum().plot.bar()"
   ]
  },
  {
   "cell_type": "code",
   "execution_count": 18,
   "metadata": {},
   "outputs": [],
   "source": [
    "x_train['count'] = y_train\n",
    "x_predict['count'] = y_predict"
   ]
  },
  {
   "cell_type": "code",
   "execution_count": 19,
   "metadata": {},
   "outputs": [
    {
     "name": "stderr",
     "output_type": "stream",
     "text": [
      "C:\\Anaconda3\\lib\\site-packages\\ipykernel_launcher.py:2: FutureWarning: Sorting because non-concatenation axis is not aligned. A future version\n",
      "of pandas will change to not sort by default.\n",
      "\n",
      "To accept the future behavior, pass 'sort=False'.\n",
      "\n",
      "To retain the current behavior and silence the warning, pass 'sort=True'.\n",
      "\n",
      "  \n"
     ]
    },
    {
     "data": {
      "text/plain": [
       "<matplotlib.axes._subplots.AxesSubplot at 0x2c8cb64d898>"
      ]
     },
     "execution_count": 19,
     "metadata": {},
     "output_type": "execute_result"
    },
    {
     "data": {
      "image/png": "[encoded data removed]",
      "text/plain": [
       "<Figure size 1440x576 with 1 Axes>"
      ]
     },
     "metadata": {
      "needs_background": "light"
     },
     "output_type": "display_data"
    }
   ],
   "source": [
    "# график суммы целевого признака сгруппированный по месяцам \n",
    "\n",
    "create_plot(x_train, x_predict)"
   ]
  },
  {
   "cell_type": "markdown",
   "metadata": {},
   "source": [
    "# Итог\n",
    "- Данные из датасета для обучения содержат инфомарцию только за первые 20 дней месяца.\n",
    "- Если проанализировать график видно, что модель берет примерно средние значение за 2 года(не забываем, что предсказывали ~30 дней, вместо 20 обучающей выборки), что говорит о том, что она не научилась учитывать рост общего количества из года в год.\n",
    "- Использование OneHotEncoding категориальных признаков незначительно уменьшило ошибку\n",
    "- Нормализация количественных признаков увеличило ошибку (т.к. в основе бустинга лежат деревья решений)\n",
    "- Из-за небольшого количества данных погодные условия могли быть спрогнозированы неудачно (подвержены выбросам)\n",
    "- Предсказание логарифма от целевого признака (вместо фактического его значения) очень значительно повлиял на уменьшение ошибки (RMSLE)\n",
    "- Библиотека XGBoost не использовалась т.к. не была указана в ТЗ.\n",
    "- Для прогноза погодных условий использовался также тестовый датасет с кагла\n",
    "\n",
    "\n",
    "P.S. На кагле в кернелах множество видов EDA анализа и не вижу смысла копировать его сюда."
   ]
  },
  {
   "cell_type": "code",
   "execution_count": null,
   "metadata": {},
   "outputs": [],
   "source": []
  }
 ],
 "metadata": {
  "kernelspec": {
   "display_name": "Python 3",
   "language": "python",
   "name": "python3"
  },
  "language_info": {
   "codemirror_mode": {
    "name": "ipython",
    "version": 3
   },
   "file_extension": ".py",
   "mimetype": "text/x-python",
   "name": "python",
   "nbconvert_exporter": "python",
   "pygments_lexer": "ipython3",
   "version": "3.7.3"
  }
 },
 "nbformat": 4,
 "nbformat_minor": 4
}
