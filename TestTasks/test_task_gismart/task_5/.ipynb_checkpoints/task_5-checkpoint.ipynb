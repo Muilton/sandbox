{
 "cells": [
  {
   "cell_type": "code",
   "execution_count": 1,
   "metadata": {},
   "outputs": [],
   "source": [
    "import pandas as pd\n",
    "import numpy as np\n",
    "import matplotlib.pyplot as plt\n",
    "import seaborn as sns"
   ]
  },
  {
   "cell_type": "code",
   "execution_count": 50,
   "metadata": {},
   "outputs": [],
   "source": [
    "df = pd.read_csv('data/test_task5 - test_task5.csv', error_bad_lines=False, thousands=',')"
   ]
  },
  {
   "cell_type": "code",
   "execution_count": 51,
   "metadata": {},
   "outputs": [],
   "source": [
    "df['Date'] = pd.to_datetime(df['Date'],format='%m/%d/%Y')"
   ]
  },
  {
   "cell_type": "code",
   "execution_count": 52,
   "metadata": {},
   "outputs": [],
   "source": [
    "df['Application price'] = [float(x[1:]) for x in df['Application price']]\n",
    "df['Marketing spend'] = [float(str(x[1:]).replace(',', '')) for x in df['Marketing spend']]\n",
    "df['Cost per install'] = [float(x[1:]) for x in df['Cost per install']]\n",
    "\n",
    "df.rename(index=str, inplace=True, columns={'Application price' : 'Application price($)',\n",
    "                                            'Marketing spend' : 'Marketing spend($)',\n",
    "                                            'Cost per install' : 'Cost per install($)'})"
   ]
  },
  {
   "cell_type": "code",
   "execution_count": 54,
   "metadata": {},
   "outputs": [
    {
     "data": {
      "text/html": [
       "<div>\n",
       "<style scoped>\n",
       "    .dataframe tbody tr th:only-of-type {\n",
       "        vertical-align: middle;\n",
       "    }\n",
       "\n",
       "    .dataframe tbody tr th {\n",
       "        vertical-align: top;\n",
       "    }\n",
       "\n",
       "    .dataframe thead th {\n",
       "        text-align: right;\n",
       "    }\n",
       "</style>\n",
       "<table border=\"1\" class=\"dataframe\">\n",
       "  <thead>\n",
       "    <tr style=\"text-align: right;\">\n",
       "      <th></th>\n",
       "      <th>Date</th>\n",
       "      <th>Day</th>\n",
       "      <th>Application price($)</th>\n",
       "      <th>Total app installs (marketing+organic from store)</th>\n",
       "      <th>Impressions</th>\n",
       "      <th>Clicks</th>\n",
       "      <th>Marketing spend($)</th>\n",
       "      <th>Installs from Marketing campaigns</th>\n",
       "      <th>Cost per install($)</th>\n",
       "    </tr>\n",
       "  </thead>\n",
       "  <tbody>\n",
       "    <tr>\n",
       "      <th>0</th>\n",
       "      <td>2016-02-05</td>\n",
       "      <td>Fri</td>\n",
       "      <td>9.99</td>\n",
       "      <td>581</td>\n",
       "      <td>1001408</td>\n",
       "      <td>21061</td>\n",
       "      <td>1539.76</td>\n",
       "      <td>435</td>\n",
       "      <td>3.54</td>\n",
       "    </tr>\n",
       "    <tr>\n",
       "      <th>1</th>\n",
       "      <td>2016-02-06</td>\n",
       "      <td>Sat</td>\n",
       "      <td>9.99</td>\n",
       "      <td>763</td>\n",
       "      <td>788496</td>\n",
       "      <td>20019</td>\n",
       "      <td>2376.65</td>\n",
       "      <td>697</td>\n",
       "      <td>3.41</td>\n",
       "    </tr>\n",
       "    <tr>\n",
       "      <th>2</th>\n",
       "      <td>2016-02-07</td>\n",
       "      <td>Sun</td>\n",
       "      <td>9.99</td>\n",
       "      <td>911</td>\n",
       "      <td>791029</td>\n",
       "      <td>21173</td>\n",
       "      <td>3112.73</td>\n",
       "      <td>785</td>\n",
       "      <td>3.97</td>\n",
       "    </tr>\n",
       "    <tr>\n",
       "      <th>3</th>\n",
       "      <td>2016-02-08</td>\n",
       "      <td>Mon</td>\n",
       "      <td>9.99</td>\n",
       "      <td>725</td>\n",
       "      <td>627044</td>\n",
       "      <td>15685</td>\n",
       "      <td>2090.64</td>\n",
       "      <td>616</td>\n",
       "      <td>3.39</td>\n",
       "    </tr>\n",
       "    <tr>\n",
       "      <th>4</th>\n",
       "      <td>2016-02-09</td>\n",
       "      <td>Tue</td>\n",
       "      <td>9.99</td>\n",
       "      <td>701</td>\n",
       "      <td>598842</td>\n",
       "      <td>14721</td>\n",
       "      <td>1987.10</td>\n",
       "      <td>603</td>\n",
       "      <td>3.30</td>\n",
       "    </tr>\n",
       "  </tbody>\n",
       "</table>\n",
       "</div>"
      ],
      "text/plain": [
       "        Date  Day  Application price($)  \\\n",
       "0 2016-02-05  Fri                  9.99   \n",
       "1 2016-02-06  Sat                  9.99   \n",
       "2 2016-02-07  Sun                  9.99   \n",
       "3 2016-02-08  Mon                  9.99   \n",
       "4 2016-02-09  Tue                  9.99   \n",
       "\n",
       "   Total app installs (marketing+organic from store)  Impressions  Clicks  \\\n",
       "0                                                581      1001408   21061   \n",
       "1                                                763       788496   20019   \n",
       "2                                                911       791029   21173   \n",
       "3                                                725       627044   15685   \n",
       "4                                                701       598842   14721   \n",
       "\n",
       "   Marketing spend($)  Installs from Marketing campaigns  Cost per install($)  \n",
       "0             1539.76                                435                 3.54  \n",
       "1             2376.65                                697                 3.41  \n",
       "2             3112.73                                785                 3.97  \n",
       "3             2090.64                                616                 3.39  \n",
       "4             1987.10                                603                 3.30  "
      ]
     },
     "execution_count": 54,
     "metadata": {},
     "output_type": "execute_result"
    }
   ],
   "source": [
    "df.head(5)"
   ]
  },
  {
   "cell_type": "code",
   "execution_count": 55,
   "metadata": {},
   "outputs": [
    {
     "name": "stdout",
     "output_type": "stream",
     "text": [
      "<class 'pandas.core.frame.DataFrame'>\n",
      "Index: 135 entries, 0 to 134\n",
      "Data columns (total 9 columns):\n",
      "Date                                                 135 non-null datetime64[ns]\n",
      "Day                                                  135 non-null object\n",
      "Application price($)                                 135 non-null float64\n",
      "Total app installs (marketing+organic from store)    135 non-null int64\n",
      "Impressions                                          135 non-null int64\n",
      "Clicks                                               135 non-null int64\n",
      "Marketing spend($)                                   135 non-null float64\n",
      "Installs from Marketing campaigns                    135 non-null int64\n",
      "Cost per install($)                                  135 non-null float64\n",
      "dtypes: datetime64[ns](1), float64(3), int64(4), object(1)\n",
      "memory usage: 10.5+ KB\n"
     ]
    }
   ],
   "source": [
    "df.info()"
   ]
  }
 ],
 "metadata": {
  "kernelspec": {
   "display_name": "Python 3",
   "language": "python",
   "name": "python3"
  },
  "language_info": {
   "codemirror_mode": {
    "name": "ipython",
    "version": 3
   },
   "file_extension": ".py",
   "mimetype": "text/x-python",
   "name": "python",
   "nbconvert_exporter": "python",
   "pygments_lexer": "ipython3",
   "version": "3.6.5"
  }
 },
 "nbformat": 4,
 "nbformat_minor": 2
}
