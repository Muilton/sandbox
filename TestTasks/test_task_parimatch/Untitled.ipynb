{
 "cells": [
  {
   "cell_type": "markdown",
   "metadata": {
    "toc": true
   },
   "source": [
    "<h1>Table of Contents<span class=\"tocSkip\"></span></h1>\n",
    "<div class=\"toc\"><ul class=\"toc-item\"></ul></div>"
   ]
  },
  {
   "cell_type": "code",
   "execution_count": 212,
   "metadata": {
    "ExecuteTime": {
     "end_time": "2020-01-28T11:20:02.901083Z",
     "start_time": "2020-01-28T11:20:02.897082Z"
    }
   },
   "outputs": [],
   "source": [
    "import pandas as pd\n",
    "import os\n",
    "from datetime import date as dt\n",
    "import sys"
   ]
  },
  {
   "cell_type": "code",
   "execution_count": 213,
   "metadata": {
    "ExecuteTime": {
     "end_time": "2020-01-28T11:20:04.957067Z",
     "start_time": "2020-01-28T11:20:04.951071Z"
    }
   },
   "outputs": [
    {
     "data": {
      "text/plain": [
       "['C:\\\\anaconda\\\\lib\\\\site-packages\\\\ipykernel_launcher.py',\n",
       " '-f',\n",
       " 'C:\\\\Users\\\\ipus\\\\AppData\\\\Roaming\\\\jupyter\\\\runtime\\\\kernel-3fbbd5e3-3d82-434c-8f62-334690ab45e4.json']"
      ]
     },
     "execution_count": 213,
     "metadata": {},
     "output_type": "execute_result"
    }
   ],
   "source": [
    "sys.argv"
   ]
  },
  {
   "cell_type": "code",
   "execution_count": 142,
   "metadata": {
    "ExecuteTime": {
     "end_time": "2020-01-28T07:52:27.619655Z",
     "start_time": "2020-01-28T07:52:27.603664Z"
    }
   },
   "outputs": [
    {
     "data": {
      "text/html": [
       "<div>\n",
       "<style scoped>\n",
       "    .dataframe tbody tr th:only-of-type {\n",
       "        vertical-align: middle;\n",
       "    }\n",
       "\n",
       "    .dataframe tbody tr th {\n",
       "        vertical-align: top;\n",
       "    }\n",
       "\n",
       "    .dataframe thead th {\n",
       "        text-align: right;\n",
       "    }\n",
       "</style>\n",
       "<table border=\"1\" class=\"dataframe\">\n",
       "  <thead>\n",
       "    <tr style=\"text-align: right;\">\n",
       "      <th></th>\n",
       "      <th>id</th>\n",
       "      <th>Date</th>\n",
       "    </tr>\n",
       "  </thead>\n",
       "  <tbody>\n",
       "    <tr>\n",
       "      <th>0</th>\n",
       "      <td>1</td>\n",
       "      <td>01--01--2018</td>\n",
       "    </tr>\n",
       "    <tr>\n",
       "      <th>1</th>\n",
       "      <td>2</td>\n",
       "      <td>02--01--2018</td>\n",
       "    </tr>\n",
       "    <tr>\n",
       "      <th>2</th>\n",
       "      <td>3</td>\n",
       "      <td>02--01--2018</td>\n",
       "    </tr>\n",
       "    <tr>\n",
       "      <th>3</th>\n",
       "      <td>4</td>\n",
       "      <td>03--01--2018</td>\n",
       "    </tr>\n",
       "    <tr>\n",
       "      <th>4</th>\n",
       "      <td>5</td>\n",
       "      <td>04--01--2018</td>\n",
       "    </tr>\n",
       "    <tr>\n",
       "      <th>...</th>\n",
       "      <td>...</td>\n",
       "      <td>...</td>\n",
       "    </tr>\n",
       "    <tr>\n",
       "      <th>397</th>\n",
       "      <td>398</td>\n",
       "      <td>16--10--2019</td>\n",
       "    </tr>\n",
       "    <tr>\n",
       "      <th>398</th>\n",
       "      <td>399</td>\n",
       "      <td>16--10--2019</td>\n",
       "    </tr>\n",
       "    <tr>\n",
       "      <th>399</th>\n",
       "      <td>400</td>\n",
       "      <td>23--10--2019</td>\n",
       "    </tr>\n",
       "    <tr>\n",
       "      <th>400</th>\n",
       "      <td>401</td>\n",
       "      <td>23--10--2019</td>\n",
       "    </tr>\n",
       "    <tr>\n",
       "      <th>401</th>\n",
       "      <td>402</td>\n",
       "      <td>31--10--2019</td>\n",
       "    </tr>\n",
       "  </tbody>\n",
       "</table>\n",
       "<p>402 rows × 2 columns</p>\n",
       "</div>"
      ],
      "text/plain": [
       "      id          Date\n",
       "0      1  01--01--2018\n",
       "1      2  02--01--2018\n",
       "2      3  02--01--2018\n",
       "3      4  03--01--2018\n",
       "4      5  04--01--2018\n",
       "..   ...           ...\n",
       "397  398  16--10--2019\n",
       "398  399  16--10--2019\n",
       "399  400  23--10--2019\n",
       "400  401  23--10--2019\n",
       "401  402  31--10--2019\n",
       "\n",
       "[402 rows x 2 columns]"
      ]
     },
     "execution_count": 142,
     "metadata": {},
     "output_type": "execute_result"
    }
   ],
   "source": [
    "df = pd.read_csv('Activity_Days.csv', sep=';')"
   ]
  },
  {
   "cell_type": "code",
   "execution_count": 81,
   "metadata": {
    "ExecuteTime": {
     "end_time": "2020-01-28T07:17:16.307764Z",
     "start_time": "2020-01-28T07:17:16.300769Z"
    }
   },
   "outputs": [
    {
     "name": "stdout",
     "output_type": "stream",
     "text": [
      "<class 'pandas.core.frame.DataFrame'>\n",
      "RangeIndex: 402 entries, 0 to 401\n",
      "Data columns (total 2 columns):\n",
      "id      402 non-null int64\n",
      "Date    402 non-null object\n",
      "dtypes: int64(1), object(1)\n",
      "memory usage: 6.4+ KB\n"
     ]
    }
   ],
   "source": [
    "df.info()\n",
    "\n",
    "# видим, что признак Date является объектом"
   ]
  },
  {
   "cell_type": "markdown",
   "metadata": {},
   "source": [
    "Преобразуем строку Date к типу Pandas.Date, чтобы было значительно проще этим оперировать."
   ]
  },
  {
   "cell_type": "code",
   "execution_count": 175,
   "metadata": {
    "ExecuteTime": {
     "end_time": "2020-01-28T08:26:15.096101Z",
     "start_time": "2020-01-28T08:26:15.082108Z"
    }
   },
   "outputs": [
    {
     "data": {
      "text/html": [
       "<div>\n",
       "<style scoped>\n",
       "    .dataframe tbody tr th:only-of-type {\n",
       "        vertical-align: middle;\n",
       "    }\n",
       "\n",
       "    .dataframe tbody tr th {\n",
       "        vertical-align: top;\n",
       "    }\n",
       "\n",
       "    .dataframe thead th {\n",
       "        text-align: right;\n",
       "    }\n",
       "</style>\n",
       "<table border=\"1\" class=\"dataframe\">\n",
       "  <thead>\n",
       "    <tr style=\"text-align: right;\">\n",
       "      <th></th>\n",
       "      <th>id</th>\n",
       "      <th>Date</th>\n",
       "    </tr>\n",
       "  </thead>\n",
       "  <tbody>\n",
       "    <tr>\n",
       "      <th>0</th>\n",
       "      <td>1</td>\n",
       "      <td>2018-01-01</td>\n",
       "    </tr>\n",
       "    <tr>\n",
       "      <th>1</th>\n",
       "      <td>2</td>\n",
       "      <td>2018-01-02</td>\n",
       "    </tr>\n",
       "    <tr>\n",
       "      <th>2</th>\n",
       "      <td>3</td>\n",
       "      <td>2018-01-02</td>\n",
       "    </tr>\n",
       "    <tr>\n",
       "      <th>3</th>\n",
       "      <td>4</td>\n",
       "      <td>2018-01-03</td>\n",
       "    </tr>\n",
       "    <tr>\n",
       "      <th>4</th>\n",
       "      <td>5</td>\n",
       "      <td>2018-01-04</td>\n",
       "    </tr>\n",
       "    <tr>\n",
       "      <th>...</th>\n",
       "      <td>...</td>\n",
       "      <td>...</td>\n",
       "    </tr>\n",
       "    <tr>\n",
       "      <th>397</th>\n",
       "      <td>398</td>\n",
       "      <td>2019-10-16</td>\n",
       "    </tr>\n",
       "    <tr>\n",
       "      <th>398</th>\n",
       "      <td>399</td>\n",
       "      <td>2019-10-16</td>\n",
       "    </tr>\n",
       "    <tr>\n",
       "      <th>399</th>\n",
       "      <td>400</td>\n",
       "      <td>2019-10-23</td>\n",
       "    </tr>\n",
       "    <tr>\n",
       "      <th>400</th>\n",
       "      <td>401</td>\n",
       "      <td>2019-10-23</td>\n",
       "    </tr>\n",
       "    <tr>\n",
       "      <th>401</th>\n",
       "      <td>402</td>\n",
       "      <td>2019-10-31</td>\n",
       "    </tr>\n",
       "  </tbody>\n",
       "</table>\n",
       "<p>402 rows × 2 columns</p>\n",
       "</div>"
      ],
      "text/plain": [
       "      id       Date\n",
       "0      1 2018-01-01\n",
       "1      2 2018-01-02\n",
       "2      3 2018-01-02\n",
       "3      4 2018-01-03\n",
       "4      5 2018-01-04\n",
       "..   ...        ...\n",
       "397  398 2019-10-16\n",
       "398  399 2019-10-16\n",
       "399  400 2019-10-23\n",
       "400  401 2019-10-23\n",
       "401  402 2019-10-31\n",
       "\n",
       "[402 rows x 2 columns]"
      ]
     },
     "execution_count": 175,
     "metadata": {},
     "output_type": "execute_result"
    }
   ],
   "source": [
    "df['Date'] = pd.to_datetime(df.Date, format='%d--%m--%Y')\n",
    "\n",
    "df\n",
    "\n",
    "# теперь тип признака Date стал datetime64 - то что нам нужно."
   ]
  },
  {
   "cell_type": "code",
   "execution_count": 219,
   "metadata": {
    "ExecuteTime": {
     "end_time": "2020-01-28T14:15:04.442380Z",
     "start_time": "2020-01-28T14:15:04.435385Z"
    }
   },
   "outputs": [
    {
     "data": {
      "text/plain": [
       "DatetimeIndex(['2018-01-01', '2018-01-02', '2018-01-03', '2018-01-04',\n",
       "               '2018-01-05', '2018-01-06', '2018-01-07', '2018-01-08',\n",
       "               '2018-01-09', '2018-01-10',\n",
       "               ...\n",
       "               '2019-12-22', '2019-12-23', '2019-12-24', '2019-12-25',\n",
       "               '2019-12-26', '2019-12-27', '2019-12-28', '2019-12-29',\n",
       "               '2019-12-30', '2019-12-31'],\n",
       "              dtype='datetime64[ns]', length=730, freq='D')"
      ]
     },
     "execution_count": 219,
     "metadata": {},
     "output_type": "execute_result"
    }
   ],
   "source": [
    "pd.date_range('2018-01-01', '2019-12-31')"
   ]
  },
  {
   "cell_type": "code",
   "execution_count": 287,
   "metadata": {
    "ExecuteTime": {
     "end_time": "2020-01-28T14:39:57.958178Z",
     "start_time": "2020-01-28T14:39:56.123947Z"
    }
   },
   "outputs": [
    {
     "name": "stdout",
     "output_type": "stream",
     "text": [
      "1 [1]\n",
      "4 [2, 3, 4, 5]\n",
      "1 []\n",
      "4 [6, 7, 8, 9, 10]\n",
      "1 [11, 12]\n",
      "4 [13, 14]\n",
      "1 [15, 16, 17]\n",
      "4 [18, 19, 20]\n",
      "1 [21, 22, 23, 24, 25, 26]\n",
      "4 [27, 28]\n",
      "1 [29, 30, 31]\n",
      "4 []\n",
      "1 [32, 33]\n",
      "4 [34, 35]\n",
      "1 [36, 37]\n",
      "4 [38]\n",
      "1 [39, 40]\n",
      "4 [41, 42]\n",
      "1 [43, 44]\n",
      "4 [45, 46, 47, 48, 49, 50, 51, 52]\n",
      "1 [53]\n",
      "4 [54, 55, 56, 57]\n",
      "1 [58]\n",
      "4 [59, 60]\n",
      "1 [61, 62]\n",
      "4 []\n",
      "1 [63]\n",
      "4 []\n",
      "1 [64, 65, 66]\n",
      "4 [67]\n",
      "1 [68, 69, 70, 71, 72]\n",
      "4 [73]\n",
      "1 []\n",
      "4 [74]\n",
      "1 [75]\n",
      "4 [76, 77]\n",
      "1 [78, 79]\n",
      "4 [80, 81, 82, 83]\n",
      "1 [84, 85, 86]\n",
      "4 [87]\n",
      "1 [88, 89, 90]\n",
      "4 [91]\n",
      "1 [92, 93]\n",
      "4 [94]\n",
      "1 [95, 96, 97, 98, 99, 100]\n",
      "4 [101, 102]\n",
      "1 [103, 104]\n",
      "4 []\n",
      "1 []\n",
      "4 [105]\n",
      "1 [106, 107]\n",
      "4 [108, 109, 110]\n",
      "1 [111, 112]\n",
      "4 [113, 114]\n",
      "1 [115, 116]\n",
      "4 [117]\n",
      "1 [118, 119]\n",
      "4 [120, 121, 122]\n",
      "1 [123, 124]\n",
      "4 [125]\n",
      "1 [126, 127]\n",
      "4 [128, 129]\n",
      "1 [130, 131, 132]\n",
      "4 [133, 134, 135]\n",
      "1 [136]\n",
      "4 [137, 138, 139, 140, 141]\n",
      "1 [142, 143]\n",
      "4 [144, 145]\n",
      "1 [146, 147, 148, 149]\n",
      "4 [150, 151, 152]\n",
      "1 [153, 154]\n",
      "4 [155, 156, 157, 158, 159, 160]\n",
      "1 [161, 162, 163, 164, 165, 166]\n",
      "4 [167]\n",
      "1 [168, 169]\n",
      "4 [170, 171, 172]\n",
      "1 [173, 174, 175, 176, 177, 178]\n",
      "4 [179]\n",
      "1 [180, 181, 182, 183]\n",
      "4 [184, 185, 186]\n",
      "1 [187]\n",
      "4 [188, 189, 190, 191, 192, 193]\n",
      "1 [194, 195]\n",
      "4 [196, 197, 198, 199]\n",
      "1 [200, 201, 202]\n",
      "4 [203, 204]\n",
      "1 [205]\n",
      "4 [206, 207]\n",
      "1 [208, 209, 210, 211, 212]\n",
      "4 [213, 214, 215, 216]\n",
      "1 [217]\n",
      "4 [218, 219]\n",
      "1 [220]\n",
      "4 [221]\n",
      "1 [222]\n",
      "4 [223]\n",
      "1 [224, 225, 226, 227]\n",
      "4 []\n",
      "1 []\n",
      "4 []\n",
      "1 [228, 229, 230]\n",
      "4 [231, 232]\n",
      "1 []\n",
      "4 [233, 234, 235]\n",
      "1 [236, 237, 238]\n",
      "4 []\n",
      "1 [239, 240, 241]\n",
      "4 [242]\n",
      "1 [243, 244]\n",
      "4 [245]\n",
      "1 [246]\n",
      "4 [247, 248]\n",
      "1 [249, 250, 251]\n",
      "4 [252, 253, 254]\n",
      "1 [255, 256]\n",
      "4 [257, 258, 259, 260]\n",
      "1 [261, 262]\n",
      "4 [263, 264, 265, 266]\n",
      "1 [267, 268]\n",
      "4 [269, 270]\n",
      "1 [271]\n",
      "4 [272, 273]\n",
      "1 [274, 275]\n",
      "4 [276]\n",
      "1 []\n",
      "4 []\n",
      "1 [277, 278, 279, 280]\n",
      "4 [281]\n",
      "1 [282, 283]\n",
      "4 [284]\n",
      "1 []\n",
      "4 []\n",
      "1 [285, 286, 287]\n",
      "4 [288, 289]\n",
      "1 [290, 291, 292]\n",
      "4 [293]\n",
      "1 [294]\n",
      "4 [295, 296]\n",
      "1 []\n",
      "4 [297, 298, 299]\n",
      "1 [300]\n",
      "4 []\n",
      "1 [301]\n",
      "4 [302]\n",
      "1 [303]\n",
      "4 []\n",
      "1 [304, 305, 306, 307, 308]\n",
      "4 [309, 310, 311, 312]\n",
      "1 [313, 314]\n",
      "4 []\n",
      "1 [315, 316]\n",
      "4 [317, 318, 319]\n",
      "1 [320, 321, 322]\n",
      "4 [323]\n",
      "1 [324, 325, 326]\n",
      "4 []\n",
      "1 [327]\n",
      "4 [328, 329, 330, 331, 332]\n",
      "1 [333, 334, 335, 336]\n",
      "4 [337, 338, 339]\n",
      "1 []\n",
      "4 []\n",
      "1 [340, 341, 342]\n",
      "4 [343, 344, 345]\n",
      "1 [346, 347]\n",
      "4 [348, 349]\n",
      "1 [350, 351, 352, 353, 354]\n",
      "4 [355, 356]\n",
      "1 [357]\n",
      "4 [358]\n",
      "1 [359, 360, 361]\n",
      "4 [362]\n",
      "1 [363]\n",
      "4 [364, 365]\n",
      "1 []\n",
      "4 [366, 367]\n",
      "1 [368]\n",
      "4 []\n",
      "1 [369, 370]\n",
      "4 [371, 372, 373, 374, 375]\n",
      "1 [376, 377, 378]\n",
      "4 [379]\n",
      "1 [380, 381]\n",
      "4 [382, 383, 384, 385, 386]\n",
      "1 [387, 388, 389]\n",
      "4 [390]\n",
      "1 [391, 392, 393, 394, 395, 396, 397]\n",
      "4 [398, 399]\n",
      "1 []\n",
      "4 [400, 401]\n",
      "1 []\n",
      "4 [402]\n",
      "1 []\n",
      "4 []\n",
      "1 []\n",
      "4 []\n",
      "1 []\n",
      "4 []\n",
      "1 []\n",
      "4 []\n",
      "1 []\n",
      "4 []\n",
      "1 []\n",
      "4 []\n",
      "1 []\n",
      "4 []\n",
      "1 []\n",
      "4 []\n",
      "1 []\n"
     ]
    }
   ],
   "source": [
    "buffer = []\n",
    "for date in pd.date_range('2018-01-01', '2019-12-31'): # можно указать dt.today()\n",
    "   \n",
    "    # Tuesday - 1, Friday - 4\n",
    "    if dt.weekday(date) == 1 or dt.weekday(date) == 4:\n",
    "        print(dt.weekday(date), buffer)\n",
    "        if buffer:\n",
    "            with open(f'D:/Send_All/Send_{date.date().strftime(\"%d-%m-%y\")}.csv', 'w') as file:\n",
    "                file.write(','.join(map(str, buffer)) + ',' + date.date().strftime(\"%d-%m-%y\"))\n",
    "                \n",
    "            buffer.clear()\n",
    "            \n",
    "    if df[df.Date == str(date)]['id'].tolist():\n",
    "        buffer += df[df.Date == str(date)]['id'].tolist()\n",
    "    \n",
    "                \n",
    "    "
   ]
  },
  {
   "cell_type": "code",
   "execution_count": 275,
   "metadata": {
    "ExecuteTime": {
     "end_time": "2020-01-28T14:32:24.867013Z",
     "start_time": "2020-01-28T14:32:24.863014Z"
    }
   },
   "outputs": [
    {
     "data": {
      "text/plain": [
       "'2018-01-01 00:00:00'"
      ]
     },
     "execution_count": 275,
     "metadata": {},
     "output_type": "execute_result"
    }
   ],
   "source": [
    "str(pd.date_range('2018-01-01', '2019-12-31')[0])"
   ]
  },
  {
   "cell_type": "code",
   "execution_count": 265,
   "metadata": {
    "ExecuteTime": {
     "end_time": "2020-01-28T14:29:17.268380Z",
     "start_time": "2020-01-28T14:29:17.262382Z"
    }
   },
   "outputs": [
    {
     "data": {
      "text/plain": [
       "0"
      ]
     },
     "execution_count": 265,
     "metadata": {},
     "output_type": "execute_result"
    }
   ],
   "source": [
    "dt.weekday(pd.date_range('2018-01-01', '2019-12-31')[0])"
   ]
  },
  {
   "cell_type": "code",
   "execution_count": 278,
   "metadata": {
    "ExecuteTime": {
     "end_time": "2020-01-28T14:33:13.646030Z",
     "start_time": "2020-01-28T14:33:13.637035Z"
    }
   },
   "outputs": [
    {
     "name": "stdout",
     "output_type": "stream",
     "text": [
      "[Timestamp('2018-01-01 00:00:00')]\n"
     ]
    }
   ],
   "source": [
    "if df[df.Date == str(pd.date_range('2018-01-01', '2019-12-31')[0])]['id'].tolist():\n",
    "    print(df[df.Date == str(pd.date_range('2018-01-01', '2019-12-31')[0])]['Date'].tolist())"
   ]
  },
  {
   "cell_type": "code",
   "execution_count": 285,
   "metadata": {
    "ExecuteTime": {
     "end_time": "2020-01-28T14:39:39.585131Z",
     "start_time": "2020-01-28T14:39:39.580133Z"
    }
   },
   "outputs": [
    {
     "data": {
      "text/plain": [
       "[2, 12, 22]"
      ]
     },
     "execution_count": 285,
     "metadata": {},
     "output_type": "execute_result"
    }
   ],
   "source": [
    "a = [2]\n",
    "a = a + [12, 22]\n",
    "a\n"
   ]
  },
  {
   "cell_type": "code",
   "execution_count": 286,
   "metadata": {
    "ExecuteTime": {
     "end_time": "2020-01-28T14:39:42.022112Z",
     "start_time": "2020-01-28T14:39:42.018112Z"
    }
   },
   "outputs": [
    {
     "data": {
      "text/plain": [
       "'2,12,22'"
      ]
     },
     "execution_count": 286,
     "metadata": {},
     "output_type": "execute_result"
    }
   ],
   "source": [
    "','.join(map(str, a))"
   ]
  }
 ],
 "metadata": {
  "kernelspec": {
   "display_name": "Python 3",
   "language": "python",
   "name": "python3"
  },
  "language_info": {
   "codemirror_mode": {
    "name": "ipython",
    "version": 3
   },
   "file_extension": ".py",
   "mimetype": "text/x-python",
   "name": "python",
   "nbconvert_exporter": "python",
   "pygments_lexer": "ipython3",
   "version": "3.6.4"
  },
  "toc": {
   "base_numbering": 1,
   "nav_menu": {},
   "number_sections": true,
   "sideBar": true,
   "skip_h1_title": false,
   "title_cell": "Table of Contents",
   "title_sidebar": "Contents",
   "toc_cell": true,
   "toc_position": {},
   "toc_section_display": true,
   "toc_window_display": false
  }
 },
 "nbformat": 4,
 "nbformat_minor": 2
}
