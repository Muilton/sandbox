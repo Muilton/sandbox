{
 "cells": [
  {
   "cell_type": "code",
   "execution_count": 35,
   "metadata": {},
   "outputs": [],
   "source": [
    "import numpy as np\n",
    "import pandas as pd\n",
    "import scipy\n",
    "from sklearn.preprocessing import OneHotEncoder\n",
    "from tensorflow import keras"
   ]
  },
  {
   "cell_type": "code",
   "execution_count": 26,
   "metadata": {},
   "outputs": [],
   "source": [
    "df_train = pd.read_csv('data/fashion_mnist/fashion-mnist_train.csv')\n",
    "df_test = pd.read_csv('data/fashion_mnist/fashion-mnist_test.csv')"
   ]
  },
  {
   "cell_type": "code",
   "execution_count": 39,
   "metadata": {},
   "outputs": [],
   "source": [
    "y_train = np.array([df_train['label']]).T\n",
    "y_train_onehot = OneHotEncoder().fit_transform(y_train).toarray()\n",
    "x_train = np.array(df_train.drop('label', axis=1)) / 255\n",
    "\n",
    "\n",
    "y_test = np.array([df_test['label']]).T\n",
    "y_test_onehot = OneHotEncoder().fit_transform(y_test).toarray()\n",
    "x_test = np.array(df_test.drop('label', axis=1)) / 255\n",
    "\n"
   ]
  },
  {
   "cell_type": "markdown",
   "metadata": {},
   "source": [
    "# Simple keras model"
   ]
  },
  {
   "cell_type": "code",
   "execution_count": 43,
   "metadata": {},
   "outputs": [],
   "source": [
    "model = keras.models.Sequential([\n",
    "    keras.layers.Flatten(),\n",
    "    keras.layers.Dense(392, activation=keras.activations.relu),\n",
    "    keras.layers.Dense(256, activation=keras.activations.relu),\n",
    "    keras.layers.Dense(64, activation=keras.activations.relu),\n",
    "    keras.layers.Dense(10, activation=keras.activations.softmax) ])\n",
    "\n",
    "model.compile(optimizer=keras.optimizers.Adamax(lr=0.01), \n",
    "              loss=keras.losses.categorical_crossentropy,\n",
    "              metrics=['accuracy'])"
   ]
  },
  {
   "cell_type": "code",
   "execution_count": 44,
   "metadata": {},
   "outputs": [
    {
     "name": "stdout",
     "output_type": "stream",
     "text": [
      "Train on 60000 samples, validate on 10000 samples\n",
      "Epoch 1/10\n",
      "60000/60000 [==============================] - 12s 199us/step - loss: 0.5027 - acc: 0.8183 - val_loss: 0.4370 - val_acc: 0.8413\n",
      "Epoch 2/10\n",
      "60000/60000 [==============================] - 11s 188us/step - loss: 0.3844 - acc: 0.8598 - val_loss: 0.4262 - val_acc: 0.8494\n",
      "Epoch 3/10\n",
      "60000/60000 [==============================] - 11s 189us/step - loss: 0.3474 - acc: 0.8726 - val_loss: 0.3458 - val_acc: 0.8723\n",
      "Epoch 4/10\n",
      "60000/60000 [==============================] - 12s 193us/step - loss: 0.3240 - acc: 0.8797 - val_loss: 0.3152 - val_acc: 0.8843\n",
      "Epoch 5/10\n",
      "60000/60000 [==============================] - 12s 201us/step - loss: 0.3051 - acc: 0.8872 - val_loss: 0.3577 - val_acc: 0.8732\n",
      "Epoch 6/10\n",
      "60000/60000 [==============================] - 12s 202us/step - loss: 0.2910 - acc: 0.8911 - val_loss: 0.3139 - val_acc: 0.8869\n",
      "Epoch 7/10\n",
      "60000/60000 [==============================] - 12s 200us/step - loss: 0.2784 - acc: 0.8963 - val_loss: 0.3439 - val_acc: 0.8733\n",
      "Epoch 8/10\n",
      "60000/60000 [==============================] - 12s 202us/step - loss: 0.2670 - acc: 0.9006 - val_loss: 0.3090 - val_acc: 0.8876\n",
      "Epoch 9/10\n",
      "60000/60000 [==============================] - 12s 198us/step - loss: 0.2564 - acc: 0.9039 - val_loss: 0.3337 - val_acc: 0.8847\n",
      "Epoch 10/10\n",
      "60000/60000 [==============================] - 12s 202us/step - loss: 0.2503 - acc: 0.9060 - val_loss: 0.3169 - val_acc: 0.8879\n"
     ]
    },
    {
     "data": {
      "text/plain": [
       "<tensorflow.python.keras.callbacks.History at 0x1ce9916c9b0>"
      ]
     },
     "execution_count": 44,
     "metadata": {},
     "output_type": "execute_result"
    }
   ],
   "source": [
    "model.fit(x_train, y_train_onehot, epochs=10, batch_size=32, validation_data=(x_test, y_test_onehot))"
   ]
  },
  {
   "cell_type": "code",
   "execution_count": null,
   "metadata": {},
   "outputs": [],
   "source": []
  },
  {
   "cell_type": "code",
   "execution_count": null,
   "metadata": {},
   "outputs": [],
   "source": []
  },
  {
   "cell_type": "code",
   "execution_count": null,
   "metadata": {},
   "outputs": [],
   "source": []
  },
  {
   "cell_type": "code",
   "execution_count": null,
   "metadata": {},
   "outputs": [],
   "source": []
  },
  {
   "cell_type": "code",
   "execution_count": null,
   "metadata": {},
   "outputs": [],
   "source": []
  },
  {
   "cell_type": "code",
   "execution_count": null,
   "metadata": {},
   "outputs": [],
   "source": []
  }
 ],
 "metadata": {
  "kernelspec": {
   "display_name": "Python 3",
   "language": "python",
   "name": "python3"
  },
  "language_info": {
   "codemirror_mode": {
    "name": "ipython",
    "version": 3
   },
   "file_extension": ".py",
   "mimetype": "text/x-python",
   "name": "python",
   "nbconvert_exporter": "python",
   "pygments_lexer": "ipython3",
   "version": "3.6.5"
  }
 },
 "nbformat": 4,
 "nbformat_minor": 2
}
