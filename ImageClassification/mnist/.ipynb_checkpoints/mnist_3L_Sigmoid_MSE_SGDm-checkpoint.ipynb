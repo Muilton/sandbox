{
 "cells": [
  {
   "cell_type": "code",
   "execution_count": 1,
   "metadata": {},
   "outputs": [],
   "source": [
    "import numpy as np\n",
    "import pandas as pd\n",
    "from sklearn.model_selection import train_test_split # деление на обучающую и проверочную выборку\n",
    "from sklearn.preprocessing import OneHotEncoder # кодирует целочисленные значения у в массив\n",
    "from sklearn.metrics import accuracy_score # подсчет точности предсказаний"
   ]
  },
  {
   "cell_type": "markdown",
   "metadata": {},
   "source": [
    "# Подготовка данных"
   ]
  },
  {
   "cell_type": "code",
   "execution_count": 2,
   "metadata": {},
   "outputs": [
    {
     "data": {
      "text/plain": [
       "'\\nПосле всех преобразований получили размерности:\\nX - [29400x784]\\ny - [29400x1]\\ny_onehotenc - [29400x10]\\n\\nx_test - [12600x784]\\ny_test - [12600x1]\\n'"
      ]
     },
     "execution_count": 2,
     "metadata": {},
     "output_type": "execute_result"
    }
   ],
   "source": [
    "df = pd.read_csv('data/train.csv')\n",
    "\n",
    "df_X = df.drop('label', axis=1) \n",
    "df_y = df['label']\n",
    "\n",
    "train_x, test_x, train_y, test_y = train_test_split(df_X, df_y, test_size=0.3, random_state=20) \n",
    "\n",
    "# отложенные данные для теста\n",
    "X_test = np.array(test_x) / 255 #  масштабируем чтобы значения были в даипозоне [0 - 1]\n",
    "y_test = np.array([test_y]).T\n",
    "\n",
    "# данные для обучения модели \n",
    "X = np.array(train_x) / 255 #  масштабируем чтобы значения были в даипозоне [0 - 1]\n",
    "y = np.array([train_y]).T\n",
    "y_onehotenc = OneHotEncoder().fit_transform(y).toarray()\n",
    "\n",
    "'''\n",
    "После всех преобразований получили размерности:\n",
    "X - [29400x784]\n",
    "y - [29400x1]\n",
    "y_onehotenc - [29400x10]\n",
    "\n",
    "x_test - [12600x784]\n",
    "y_test - [12600x1]\n",
    "'''\n"
   ]
  },
  {
   "cell_type": "markdown",
   "metadata": {},
   "source": [
    "# Функция активации и ее производная"
   ]
  },
  {
   "cell_type": "code",
   "execution_count": 3,
   "metadata": {},
   "outputs": [],
   "source": [
    "# ф-я активации, при флаге True возвращает производную (для подсчета градиента)\n",
    "def sigmoid(x, derivative=False):\n",
    "    if derivative == True:\n",
    "        return x * (1 - x)\n",
    "    return 1 / (1 + np.exp(-x))"
   ]
  },
  {
   "cell_type": "markdown",
   "metadata": {},
   "source": [
    "# Функция ошибки и ее производная"
   ]
  },
  {
   "cell_type": "code",
   "execution_count": 4,
   "metadata": {},
   "outputs": [],
   "source": [
    "# ф-я ошибки, при флаге True возвращает производную (для подсчета градиента)\n",
    "def loss(y, y_, derivative=False):\n",
    "    if derivative == True:\n",
    "        return y - y_\n",
    "    return (y - y_)**2"
   ]
  },
  {
   "cell_type": "markdown",
   "metadata": {},
   "source": [
    "# Математическое обоснование"
   ]
  },
  {
   "cell_type": "markdown",
   "metadata": {},
   "source": [
    "Описание параметров:\n",
    " - Ф-я активации (activation) - $SIGMOID$ (logistic regression)\n",
    " - Ф-я ошибки (loss) - $MSE$ (mean squared error)\n",
    " - Оптимизатор (optimizer) - $SGD$ (Stochastic gradient descent)\n",
    " - Кол-во эпох обучения (epoch) - 3000\n",
    " - Размер батча обучения (batch) - 32\n",
    " - Размер шага обучения (learning rate) - 1e-4\n",
    "\n",
    "Ф-я активации СИГМОИД ($A$): $ \\frac{1}{(1+e^{-\\alpha})}$, где $\\alpha$ считается как $ X_{input} * w + b$\n",
    "\n",
    "Производная ф-ии активации: $dA = \\alpha*(1-\\alpha)$\n",
    "\n",
    "Ф-я ошибки MSE ($E$): $\\frac{\\sum{(y-y^{'})^2}}{n}$, где $y$ - правильный ответ, а $y^{'}$ - предсказания сети\n",
    "\n",
    "Производная ф-ии ошибки MSE: $dE = \\frac{-2 (y-y^{'})}{n}$\n",
    "\n",
    "Рекуретное отношение последнего слоя: $ \\delta_{n} = dE_n * dA_n$\n",
    "\n",
    "Рекуретное отношение скрытого слоя: $ \\delta_{n} = \\delta_{n+1} * w_{n+1} * dA$\n",
    "\n",
    "Частная производная ф-ии ошибки по весам $w$:  $\\frac{dE}{dw} = \\delta * X_{input}$ --- градиент весов\n",
    "\n",
    "\n",
    "Частная производная ф-ии ошибки по биасам $b$:  $\\frac{dE}{db} = \\delta$  --- градиент биасов\n",
    "\n",
    "Уравнение обновления весов и биасов ($SGD$): $\\omega = \\omega - \\alpha * \\triangledown \\omega$ => $\\omega = \\omega + \\triangledown \\omega$, т.к. антиградиент с \"-\" и $-\\alpha$  дают \"+\". $\\alpha$ заменяем learning rate"
   ]
  },
  {
   "cell_type": "markdown",
   "metadata": {},
   "source": [
    "# Архитектура и обучение NN (3 слоя)"
   ]
  },
  {
   "cell_type": "code",
   "execution_count": 28,
   "metadata": {
    "scrolled": false
   },
   "outputs": [
    {
     "name": "stdout",
     "output_type": "stream",
     "text": [
      "Epoch 0. Error:0.1798475240149006\n",
      "Train score:  0.0980952380952381\n",
      "Test score:  0.09428571428571429\n",
      "___________________________________________\n",
      "Epoch 10. Error:0.023466826003673932\n",
      "Train score:  0.941734693877551\n",
      "Test score:  0.9306349206349206\n",
      "___________________________________________\n",
      "Epoch 20. Error:0.006295769043891405\n",
      "Train score:  0.9870748299319728\n",
      "Test score:  0.9651587301587301\n",
      "___________________________________________\n",
      "Epoch 30. Error:0.0031698176243920703\n",
      "Train score:  0.9941496598639455\n",
      "Test score:  0.9682539682539683\n",
      "___________________________________________\n",
      "Epoch 40. Error:0.001973922384933148\n",
      "Train score:  0.9957142857142857\n",
      "Test score:  0.9695238095238096\n",
      "___________________________________________\n",
      "Epoch 50. Error:0.0015713987723029014\n",
      "Train score:  0.9961224489795918\n",
      "Test score:  0.9696825396825397\n",
      "___________________________________________\n",
      "Epoch 60. Error:0.0013651276358415732\n",
      "Train score:  0.9963265306122449\n",
      "Test score:  0.9700793650793651\n",
      "___________________________________________\n",
      "Epoch 70. Error:0.0013478225904425124\n",
      "Train score:  0.996734693877551\n",
      "Test score:  0.9698412698412698\n",
      "___________________________________________\n",
      "Epoch 80. Error:0.00111428876442946\n",
      "Train score:  0.996734693877551\n",
      "Test score:  0.9702380952380952\n",
      "___________________________________________\n",
      "Epoch 90. Error:0.001048675812993667\n",
      "Train score:  0.9967687074829932\n",
      "Test score:  0.9703968253968254\n",
      "___________________________________________\n",
      "Epoch 100. Error:0.0010087804300011147\n",
      "Train score:  0.996904761904762\n",
      "Test score:  0.9706349206349206\n",
      "___________________________________________\n",
      "Epoch 110. Error:0.0009410407185517155\n",
      "Train score:  0.9970748299319728\n",
      "Test score:  0.971031746031746\n",
      "___________________________________________\n",
      "Epoch 120. Error:0.0008921284862226801\n",
      "Train score:  0.9970748299319728\n",
      "Test score:  0.9707936507936508\n",
      "___________________________________________\n",
      "Epoch 130. Error:0.0008591446050318054\n",
      "Train score:  0.9971088435374149\n",
      "Test score:  0.9711904761904762\n",
      "___________________________________________\n",
      "Epoch 140. Error:0.0008406799163086586\n",
      "Train score:  0.9971768707482993\n",
      "Test score:  0.9708730158730159\n",
      "___________________________________________\n",
      "Epoch 150. Error:0.0008165292128963206\n",
      "Train score:  0.9972789115646259\n",
      "Test score:  0.971031746031746\n",
      "___________________________________________\n"
     ]
    }
   ],
   "source": [
    "epoches = 151 # кол-во эпох обучения\n",
    "batch = 32 # размер батча\n",
    "lr = 1e-1 # learning rate\n",
    "momentum = 0.5 # коэффициент инерционности \n",
    "\n",
    "dE_dw1_old = 0\n",
    "dE_db1_old = 0\n",
    "dE_dw2_old = 0\n",
    "dE_db2_old = 0\n",
    "dE_dw3_old = 0\n",
    "dE_db3_old = 0\n",
    "\n",
    "\n",
    "w1 = np.random.random((784, 128)) / 1e4   # рандомно создаем матрицу весов для 1-го слоя и масштабируем\n",
    "w2 = np.random.random((128, 32)) / 1e4   # рандомно создаем матрицу весов для 2-го слоя и масштабируем\n",
    "w3 = np.random.random((32, 10)) / 1e4   # рандомно создаем матрицу весов для 3-го слоя и масштабируем\n",
    "\n",
    "b1 = np.zeros((1,128))  # создаем матрицу нулевых биасов для 1-го слоя\n",
    "b2 = np.zeros((1,32))  # создаем матрицу нулевых биасов для 2-го слоя\n",
    "b3 = np.zeros((1,10))  # создаем матрицу нулевых биасов для 3-го слоя\n",
    "\n",
    "\n",
    "for _ in range(epoches):\n",
    "    for i in range(X.shape[0] // batch):\n",
    "        batch_ids = np.random.choice(X.shape[0], batch, replace=False)\n",
    "        \n",
    "        y1 = sigmoid(X[batch_ids] @ w1 + b1) # предсказание 1-го слоя\n",
    "        y2 = sigmoid(y1 @ w2 + b2) # предсказание 2-го слоя\n",
    "        y3 = sigmoid(y2 @ w3 + b3) # предсказание 3-го слоя\n",
    "        \n",
    "        dE = loss(y_onehotenc[batch_ids], y3, True)  # берем производную по ф-ии ошибки\n",
    "\n",
    "        # анти-градиент последнего слоя\n",
    "        tmp3 = dE * sigmoid(y3, True) # рекурентное соотношение\n",
    "        dE_dw3 = y2.T @ tmp3 # градиент последнего слоя с нормированием по размеру батча\n",
    "        dE_db3 = np.mean(tmp3, axis=0) # градиент биасов последнего слоя\n",
    "\n",
    "        # анти-градиент 2 слоя\n",
    "        tmp2 = (tmp3 @ w3.T) * sigmoid(y2, True) # рекурентное соотношение\n",
    "        dE_dw2 = y1.T @ tmp2 # градиент скрытого слоя нормированный по размеру батча\n",
    "        dE_db2 = np.mean(tmp2, axis=0) # градиент биасов скрытого слоя\n",
    "        \n",
    "        # анти-градиент 1 слоя\n",
    "        tmp1 = (tmp2 @ w2.T) * sigmoid(y1, True) # рекурентное соотношение\n",
    "        dE_dw1 = X[batch_ids].T @ tmp1 # градиент скрытого слоя нормированный по размеру батча\n",
    "        dE_db1 = np.mean(tmp1, axis=0) # градиент биасов скрытого слоя\n",
    "\n",
    "        # обновляем веса и биасы\n",
    "        w1 += lr * (dE_dw1 + momentum * dE_dw1_old) \n",
    "        b1 += lr * (dE_db1 + momentum * dE_db1_old)\n",
    "        w2 += lr * (dE_dw2 + momentum * dE_dw2_old) \n",
    "        b2 += lr * (dE_db2 + momentum * dE_db2_old) \n",
    "        w3 += lr * (dE_dw3 + momentum * dE_dw3_old) \n",
    "        b3 += lr * (dE_db3 + momentum * dE_db3_old)\n",
    "        \n",
    "        dE_dw1_old = dE_dw1\n",
    "        dE_db1_old = dE_db1\n",
    "        dE_dw2_old = dE_dw2\n",
    "        dE_db2_old = dE_db2\n",
    "        dE_dw3_old = dE_dw3\n",
    "        dE_db3_old = dE_db3\n",
    "\n",
    "    \n",
    "    if (_ % 10) == 0:  # показываем MSE каждые 100 эпох обучения\n",
    "        error = y_onehotenc - sigmoid(sigmoid(sigmoid(X @ w1 + b1) @ w2 + b2) @ w3 + b3)\n",
    "        print(f\"Epoch {_}. Error:\" +  str(np.mean(np.abs(error))))\n",
    "    \n",
    "        # считаем точность на обученной выборке\n",
    "        train_predict_matrix = sigmoid(sigmoid(sigmoid(X @ w1 + b1) @ w2 + b2) @ w3 + b3)\n",
    "        train_predict_vector = train_predict_matrix.argmax(axis=1).T\n",
    "        print(\"Train score: \", accuracy_score(y, train_predict_vector))\n",
    "        \n",
    "        # проверка точности на отложенной выборке\n",
    "        test_predict_matrix = sigmoid(sigmoid(sigmoid(X_test @ w1 + b1) @ w2 + b2) @ w3 + b3)\n",
    "        test_predict_vector = test_predict_matrix.argmax(axis=1).T\n",
    "        print(\"Test score: \",  accuracy_score(y_test, test_predict_vector))   # without bias 0.901984126984127\n",
    "        \n",
    "        # разделитель\n",
    "        print(\"___________________________________________\")"
   ]
  },
  {
   "cell_type": "code",
   "execution_count": null,
   "metadata": {},
   "outputs": [],
   "source": []
  }
 ],
 "metadata": {
  "kernelspec": {
   "display_name": "Python 3",
   "language": "python",
   "name": "python3"
  },
  "language_info": {
   "codemirror_mode": {
    "name": "ipython",
    "version": 3
   },
   "file_extension": ".py",
   "mimetype": "text/x-python",
   "name": "python",
   "nbconvert_exporter": "python",
   "pygments_lexer": "ipython3",
   "version": "3.6.5"
  }
 },
 "nbformat": 4,
 "nbformat_minor": 2
}
