{
 "cells": [
  {
   "cell_type": "code",
   "execution_count": 1,
   "metadata": {},
   "outputs": [],
   "source": [
    "import numpy as np\n",
    "import tensorflow as tf\n",
    "tf.enable_eager_execution()"
   ]
  },
  {
   "cell_type": "code",
   "execution_count": 2,
   "metadata": {},
   "outputs": [],
   "source": [
    "def softmax(x):\n",
    "    return np.exp(x)/np.sum(np.exp(x))"
   ]
  },
  {
   "cell_type": "code",
   "execution_count": 27,
   "metadata": {},
   "outputs": [],
   "source": [
    "abc = np.array([[-1.2074, -0.5123, -1.2789, -0.0438,  0.,     -1.5874],\n",
    "[-0.4835, -1.4969, -1.8752, -1.4927,  0.,     -0.1546],\n",
    " [-1.5437,  0.,     -1.5565, -0.4011, -0.914, -0.8054],\n",
    " [-2.844,  -3.121,  -1.4508, -0.8052, -3.5132, -0.2493],\n",
    " [-2.0608, -1.8476, -2.6464, -0.4739, -1.1374, -1.8606]])"
   ]
  },
  {
   "cell_type": "code",
   "execution_count": 39,
   "metadata": {},
   "outputs": [
    {
     "data": {
      "text/plain": [
       "array([5, 2, 5, 9, 4, 8, 9, 1, 6, 0])"
      ]
     },
     "execution_count": 39,
     "metadata": {},
     "output_type": "execute_result"
    }
   ],
   "source": [
    "asd = np.random.randint(0, 10, 10)\n",
    "\n",
    "asd"
   ]
  },
  {
   "cell_type": "code",
   "execution_count": 51,
   "metadata": {},
   "outputs": [
    {
     "data": {
      "text/plain": [
       "array([0., 0., 0., 0., 0., 0., 0., 0.])"
      ]
     },
     "execution_count": 51,
     "metadata": {},
     "output_type": "execute_result"
    }
   ],
   "source": [
    "np.zeros(8)"
   ]
  },
  {
   "cell_type": "code",
   "execution_count": 33,
   "metadata": {},
   "outputs": [
    {
     "data": {
      "text/plain": [
       "array([[ -4.6298],\n",
       "       [ -5.5029],\n",
       "       [ -5.2207],\n",
       "       [-11.9835],\n",
       "       [-10.0267]])"
      ]
     },
     "execution_count": 33,
     "metadata": {},
     "output_type": "execute_result"
    }
   ],
   "source": [
    "np.sum(abc, axis=1, keepdims=1)"
   ]
  },
  {
   "cell_type": "code",
   "execution_count": 9,
   "metadata": {
    "scrolled": true
   },
   "outputs": [
    {
     "data": {
      "text/plain": [
       "array([[0.02150115, 0.04308635, 0.02001749, 0.06883458, 0.07191654,\n",
       "        0.0147038 ],\n",
       "       [0.04434528, 0.01609657, 0.01102655, 0.01616432, 0.07191654,\n",
       "        0.06161506],\n",
       "       [0.01536061, 0.07191654, 0.01516524, 0.0481541 , 0.02883259,\n",
       "        0.03214016],\n",
       "       [0.004185  , 0.00317246, 0.01685599, 0.03214659, 0.00214321,\n",
       "        0.05604788],\n",
       "       [0.00915872, 0.01133512, 0.00509932, 0.04477304, 0.02306016,\n",
       "        0.01118872],\n",
       "       [0.01228533, 0.05110622, 0.00260441, 0.01235803, 0.01166049,\n",
       "        0.01802584]])"
      ]
     },
     "execution_count": 9,
     "metadata": {},
     "output_type": "execute_result"
    }
   ],
   "source": [
    "softmax(abc)"
   ]
  },
  {
   "cell_type": "code",
   "execution_count": 10,
   "metadata": {
    "scrolled": true
   },
   "outputs": [
    {
     "data": {
      "text/plain": [
       "<tf.Tensor: id=4, shape=(6, 6), dtype=float64, numpy=\n",
       "array([[0.08956575, 0.17948166, 0.08338538, 0.28673918, 0.29957746,\n",
       "        0.06125056],\n",
       "       [0.20050829, 0.07278105, 0.04985684, 0.07308737, 0.32517243,\n",
       "        0.27859402],\n",
       "       [0.07260322, 0.33991964, 0.07167982, 0.22760445, 0.13627968,\n",
       "        0.15191319],\n",
       "       [0.03653389, 0.02769468, 0.14714821, 0.28063091, 0.01870967,\n",
       "        0.48928264],\n",
       "       [0.08754683, 0.10835077, 0.0487436 , 0.42797888, 0.2204286 ,\n",
       "        0.10695133],\n",
       "       [0.11371064, 0.47302912, 0.02410591, 0.11438351, 0.1079272 ,\n",
       "        0.16684362]])>"
      ]
     },
     "execution_count": 10,
     "metadata": {},
     "output_type": "execute_result"
    }
   ],
   "source": [
    "tf.nn.softmax(abc)"
   ]
  },
  {
   "cell_type": "code",
   "execution_count": 2,
   "metadata": {},
   "outputs": [],
   "source": [
    "import numpy as np"
   ]
  },
  {
   "cell_type": "code",
   "execution_count": 71,
   "metadata": {},
   "outputs": [
    {
     "data": {
      "text/plain": [
       "array([1., 1., 1.])"
      ]
     },
     "execution_count": 71,
     "metadata": {},
     "output_type": "execute_result"
    }
   ],
   "source": [
    "y = np.ndarray(3)\n",
    "y"
   ]
  },
  {
   "cell_type": "code",
   "execution_count": 84,
   "metadata": {},
   "outputs": [
    {
     "data": {
      "text/plain": [
       "array([1., 1., 1., 1., 1., 1.])"
      ]
     },
     "execution_count": 84,
     "metadata": {},
     "output_type": "execute_result"
    }
   ],
   "source": [
    "np.append(y, y, axis=0)"
   ]
  },
  {
   "cell_type": "code",
   "execution_count": 56,
   "metadata": {},
   "outputs": [
    {
     "data": {
      "text/plain": [
       "array([0.08, 0.08, 0.08])"
      ]
     },
     "execution_count": 56,
     "metadata": {},
     "output_type": "execute_result"
    }
   ],
   "source": [
    "np.multiply(y, 0.08)"
   ]
  },
  {
   "cell_type": "code",
   "execution_count": 40,
   "metadata": {},
   "outputs": [
    {
     "data": {
      "text/plain": [
       "array([0., 0., 0., 0., 0., 0., 0., 0., 0.])"
      ]
     },
     "execution_count": 40,
     "metadata": {},
     "output_type": "execute_result"
    }
   ],
   "source": [
    "np.where(y!=0, 0, y)"
   ]
  }
 ],
 "metadata": {
  "kernelspec": {
   "display_name": "Python 3",
   "language": "python",
   "name": "python3"
  },
  "language_info": {
   "codemirror_mode": {
    "name": "ipython",
    "version": 3
   },
   "file_extension": ".py",
   "mimetype": "text/x-python",
   "name": "python",
   "nbconvert_exporter": "python",
   "pygments_lexer": "ipython3",
   "version": "3.7.3"
  }
 },
 "nbformat": 4,
 "nbformat_minor": 2
}
