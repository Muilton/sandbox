{
 "cells": [
  {
   "cell_type": "markdown",
   "metadata": {
    "toc": true
   },
   "source": [
    "<h1>Table of Contents<span class=\"tocSkip\"></span></h1>\n",
    "<div class=\"toc\"><ul class=\"toc-item\"><li><span><a href=\"#Заразительность-зевоты\" data-toc-modified-id=\"Заразительность-зевоты-1\"><span class=\"toc-item-num\">1&nbsp;&nbsp;</span>Заразительность зевоты</a></span></li><li><span><a href=\"#Тысячалетние-банкноты\" data-toc-modified-id=\"Тысячалетние-банкноты-2\"><span class=\"toc-item-num\">2&nbsp;&nbsp;</span>Тысячалетние банкноты</a></span></li><li><span><a href=\"#GMAT-to-MBA\" data-toc-modified-id=\"GMAT-to-MBA-3\"><span class=\"toc-item-num\">3&nbsp;&nbsp;</span>GMAT to MBA</a></span><ul class=\"toc-item\"><li><span><a href=\"#Part-1\" data-toc-modified-id=\"Part-1-3.1\"><span class=\"toc-item-num\">3.1&nbsp;&nbsp;</span>Part 1</a></span></li><li><span><a href=\"#Part-2\" data-toc-modified-id=\"Part-2-3.2\"><span class=\"toc-item-num\">3.2&nbsp;&nbsp;</span>Part 2</a></span></li></ul></li></ul></div>"
   ]
  },
  {
   "cell_type": "markdown",
   "metadata": {},
   "source": [
    "# Заразительность зевоты"
   ]
  },
  {
   "cell_type": "code",
   "execution_count": 1,
   "metadata": {
    "ExecuteTime": {
     "end_time": "2019-12-16T08:33:23.539289Z",
     "start_time": "2019-12-16T08:33:18.627876Z"
    }
   },
   "outputs": [],
   "source": [
    "import scipy\n",
    "import numpy as np\n",
    "import pandas as pd\n",
    "from statsmodels.stats.weightstats import *\n",
    "from statsmodels.stats.proportion import proportion_confint"
   ]
  },
  {
   "cell_type": "code",
   "execution_count": 50,
   "metadata": {
    "ExecuteTime": {
     "end_time": "2019-12-16T09:07:42.626895Z",
     "start_time": "2019-12-16T09:07:42.621898Z"
    }
   },
   "outputs": [],
   "source": [
    "n1 = 34\n",
    "pos1 = 10\n",
    "\n",
    "n2 = 16\n",
    "pos2 = 4"
   ]
  },
  {
   "cell_type": "code",
   "execution_count": 51,
   "metadata": {
    "ExecuteTime": {
     "end_time": "2019-12-16T09:07:44.270957Z",
     "start_time": "2019-12-16T09:07:44.262961Z"
    }
   },
   "outputs": [
    {
     "name": "stdout",
     "output_type": "stream",
     "text": [
      "95% confidence interval for a click probability, banner a: [0.168346, 0.461689]\n",
      "95% confidence interval for a click probability, banner b [0.101821, 0.494983]\n"
     ]
    }
   ],
   "source": [
    "conf_interval_banner_a = proportion_confint(pos1, \n",
    "                                            n1,\n",
    "                                            method = 'wilson')\n",
    "conf_interval_banner_b = proportion_confint(pos2, \n",
    "                                            n2,\n",
    "                                            method = 'wilson')\n",
    "\n",
    "print('95%% confidence interval for a click probability, banner a: [%f, %f]' % conf_interval_banner_a)\n",
    "print('95%% confidence interval for a click probability, banner b [%f, %f]' % conf_interval_banner_b)"
   ]
  },
  {
   "cell_type": "code",
   "execution_count": 52,
   "metadata": {
    "ExecuteTime": {
     "end_time": "2019-12-16T09:07:44.936184Z",
     "start_time": "2019-12-16T09:07:44.919194Z"
    }
   },
   "outputs": [
    {
     "data": {
      "text/plain": [
       "(-0.2175577216559601, 0.3057930157736072)"
      ]
     },
     "execution_count": 52,
     "metadata": {},
     "output_type": "execute_result"
    }
   ],
   "source": [
    "def proportions_diff_confint_ind(pos1, n1, pos2, n2, alpha = 0.05):    \n",
    "    z = scipy.stats.norm.ppf(1 - alpha / 2.)\n",
    "    \n",
    "    p1 = pos1 / n1\n",
    "    p2 = pos2 / n2\n",
    "    \n",
    "    left_boundary = (p1 - p2) - z * np.sqrt(p1 * (1 - p1)/ n1 + p2 * (1 - p2)/ n2)\n",
    "    right_boundary = (p1 - p2) + z * np.sqrt(p1 * (1 - p1)/ n1 + p2 * (1 - p2)/ n2)\n",
    "    \n",
    "    return (left_boundary, right_boundary)\n",
    "\n",
    "proportions_diff_confint_ind(pos1, n1, pos2, n2)"
   ]
  },
  {
   "cell_type": "code",
   "execution_count": 53,
   "metadata": {
    "ExecuteTime": {
     "end_time": "2019-12-16T09:07:46.067094Z",
     "start_time": "2019-12-16T09:07:46.055102Z"
    }
   },
   "outputs": [
    {
     "data": {
      "text/plain": [
       "0.32410186177608225"
      ]
     },
     "execution_count": 53,
     "metadata": {},
     "output_type": "execute_result"
    }
   ],
   "source": [
    "def proportions_diff_z_stat_ind(pos1, n1, pos2, n2):\n",
    "\n",
    "    \n",
    "    p1 = pos1 / n1\n",
    "    p2 = pos2 / n2 \n",
    "    P = float(p1*n1 + p2*n2) / (n1 + n2)\n",
    "    \n",
    "    return (p1 - p2) / np.sqrt(P * (1 - P) * (1. / n1 + 1. / n2))\n",
    "\n",
    "z_stat = proportions_diff_z_stat_ind(pos1, n1, pos2, n2)\n",
    "z_stat"
   ]
  },
  {
   "cell_type": "code",
   "execution_count": 54,
   "metadata": {
    "ExecuteTime": {
     "end_time": "2019-12-16T09:07:48.448664Z",
     "start_time": "2019-12-16T09:07:48.431675Z"
    }
   },
   "outputs": [
    {
     "name": "stdout",
     "output_type": "stream",
     "text": [
      "Pvalue: 0.37293045872523534\n"
     ]
    }
   ],
   "source": [
    "def proportions_diff_z_test(z_stat, alternative = 'two-sided'):\n",
    "    if alternative not in ('two-sided', 'less', 'greater'):\n",
    "        raise ValueError(\"alternative not recognized\\n\"\n",
    "                         \"should be 'two-sided', 'less' or 'greater'\")\n",
    "    \n",
    "    if alternative == 'two-sided':\n",
    "        return 2 * (1 - scipy.stats.norm.cdf(np.abs(z_stat)))\n",
    "    \n",
    "    if alternative == 'less':\n",
    "        return scipy.stats.norm.cdf(z_stat)\n",
    "\n",
    "    if alternative == 'greater':\n",
    "        return 1 - scipy.stats.norm.cdf(z_stat)\n",
    "    \n",
    "pvalue = proportions_diff_z_test(z_stat, alternative='greater')\n",
    "\n",
    "print(\"Pvalue:\", pvalue)"
   ]
  },
  {
   "cell_type": "markdown",
   "metadata": {},
   "source": [
    "# Тысячалетние банкноты"
   ]
  },
  {
   "cell_type": "code",
   "execution_count": 55,
   "metadata": {
    "ExecuteTime": {
     "end_time": "2019-12-16T09:07:51.299911Z",
     "start_time": "2019-12-16T09:07:51.294915Z"
    }
   },
   "outputs": [],
   "source": [
    "from sklearn.cross_validation import train_test_split\n",
    "from sklearn.linear_model import LogisticRegression\n",
    "from sklearn.metrics import accuracy_score"
   ]
  },
  {
   "cell_type": "code",
   "execution_count": 56,
   "metadata": {
    "ExecuteTime": {
     "end_time": "2019-12-16T09:07:52.133728Z",
     "start_time": "2019-12-16T09:07:52.096750Z"
    }
   },
   "outputs": [
    {
     "data": {
      "text/html": [
       "<div>\n",
       "<style scoped>\n",
       "    .dataframe tbody tr th:only-of-type {\n",
       "        vertical-align: middle;\n",
       "    }\n",
       "\n",
       "    .dataframe tbody tr th {\n",
       "        vertical-align: top;\n",
       "    }\n",
       "\n",
       "    .dataframe thead th {\n",
       "        text-align: right;\n",
       "    }\n",
       "</style>\n",
       "<table border=\"1\" class=\"dataframe\">\n",
       "  <thead>\n",
       "    <tr style=\"text-align: right;\">\n",
       "      <th></th>\n",
       "      <th>X1</th>\n",
       "      <th>X2</th>\n",
       "      <th>X3</th>\n",
       "      <th>X4</th>\n",
       "      <th>X5</th>\n",
       "      <th>X6</th>\n",
       "      <th>real</th>\n",
       "    </tr>\n",
       "  </thead>\n",
       "  <tbody>\n",
       "    <tr>\n",
       "      <th>count</th>\n",
       "      <td>200.000000</td>\n",
       "      <td>200.000000</td>\n",
       "      <td>200.000000</td>\n",
       "      <td>200.000000</td>\n",
       "      <td>200.000000</td>\n",
       "      <td>200.000000</td>\n",
       "      <td>200.000000</td>\n",
       "    </tr>\n",
       "    <tr>\n",
       "      <th>mean</th>\n",
       "      <td>214.896000</td>\n",
       "      <td>130.121500</td>\n",
       "      <td>129.956500</td>\n",
       "      <td>9.417500</td>\n",
       "      <td>10.650500</td>\n",
       "      <td>140.483500</td>\n",
       "      <td>0.500000</td>\n",
       "    </tr>\n",
       "    <tr>\n",
       "      <th>std</th>\n",
       "      <td>0.376554</td>\n",
       "      <td>0.361026</td>\n",
       "      <td>0.404072</td>\n",
       "      <td>1.444603</td>\n",
       "      <td>0.802947</td>\n",
       "      <td>1.152266</td>\n",
       "      <td>0.501255</td>\n",
       "    </tr>\n",
       "    <tr>\n",
       "      <th>min</th>\n",
       "      <td>213.800000</td>\n",
       "      <td>129.000000</td>\n",
       "      <td>129.000000</td>\n",
       "      <td>7.200000</td>\n",
       "      <td>7.700000</td>\n",
       "      <td>137.800000</td>\n",
       "      <td>0.000000</td>\n",
       "    </tr>\n",
       "    <tr>\n",
       "      <th>25%</th>\n",
       "      <td>214.600000</td>\n",
       "      <td>129.900000</td>\n",
       "      <td>129.700000</td>\n",
       "      <td>8.200000</td>\n",
       "      <td>10.100000</td>\n",
       "      <td>139.500000</td>\n",
       "      <td>0.000000</td>\n",
       "    </tr>\n",
       "    <tr>\n",
       "      <th>50%</th>\n",
       "      <td>214.900000</td>\n",
       "      <td>130.200000</td>\n",
       "      <td>130.000000</td>\n",
       "      <td>9.100000</td>\n",
       "      <td>10.600000</td>\n",
       "      <td>140.450000</td>\n",
       "      <td>0.500000</td>\n",
       "    </tr>\n",
       "    <tr>\n",
       "      <th>75%</th>\n",
       "      <td>215.100000</td>\n",
       "      <td>130.400000</td>\n",
       "      <td>130.225000</td>\n",
       "      <td>10.600000</td>\n",
       "      <td>11.200000</td>\n",
       "      <td>141.500000</td>\n",
       "      <td>1.000000</td>\n",
       "    </tr>\n",
       "    <tr>\n",
       "      <th>max</th>\n",
       "      <td>216.300000</td>\n",
       "      <td>131.000000</td>\n",
       "      <td>131.100000</td>\n",
       "      <td>12.700000</td>\n",
       "      <td>12.300000</td>\n",
       "      <td>142.400000</td>\n",
       "      <td>1.000000</td>\n",
       "    </tr>\n",
       "  </tbody>\n",
       "</table>\n",
       "</div>"
      ],
      "text/plain": [
       "               X1          X2          X3          X4          X5          X6  \\\n",
       "count  200.000000  200.000000  200.000000  200.000000  200.000000  200.000000   \n",
       "mean   214.896000  130.121500  129.956500    9.417500   10.650500  140.483500   \n",
       "std      0.376554    0.361026    0.404072    1.444603    0.802947    1.152266   \n",
       "min    213.800000  129.000000  129.000000    7.200000    7.700000  137.800000   \n",
       "25%    214.600000  129.900000  129.700000    8.200000   10.100000  139.500000   \n",
       "50%    214.900000  130.200000  130.000000    9.100000   10.600000  140.450000   \n",
       "75%    215.100000  130.400000  130.225000   10.600000   11.200000  141.500000   \n",
       "max    216.300000  131.000000  131.100000   12.700000   12.300000  142.400000   \n",
       "\n",
       "             real  \n",
       "count  200.000000  \n",
       "mean     0.500000  \n",
       "std      0.501255  \n",
       "min      0.000000  \n",
       "25%      0.000000  \n",
       "50%      0.500000  \n",
       "75%      1.000000  \n",
       "max      1.000000  "
      ]
     },
     "execution_count": 56,
     "metadata": {},
     "output_type": "execute_result"
    }
   ],
   "source": [
    "df = pd.read_table('banknotes.txt')\n",
    "df.describe()"
   ]
  },
  {
   "cell_type": "code",
   "execution_count": 57,
   "metadata": {
    "ExecuteTime": {
     "end_time": "2019-12-16T09:07:53.583873Z",
     "start_time": "2019-12-16T09:07:53.575877Z"
    }
   },
   "outputs": [],
   "source": [
    "y = df.real\n",
    "X = df.drop('real', axis=1)\n",
    "\n",
    "t_1 = ['X1', 'X2', 'X3']\n",
    "t_2 = ['X4', 'X5', 'X6']\n",
    "\n",
    "X_train, X_test, y_train, y_test = train_test_split(X, y, test_size=0.25, random_state=1)"
   ]
  },
  {
   "cell_type": "code",
   "execution_count": 58,
   "metadata": {
    "ExecuteTime": {
     "end_time": "2019-12-16T09:07:54.460123Z",
     "start_time": "2019-12-16T09:07:54.447133Z"
    }
   },
   "outputs": [],
   "source": [
    "model1 = LogisticRegression()\n",
    "model1.fit(X_train[t_1], y_train)\n",
    "y_pred1 = model1.predict(X_test[t_1])\n",
    "\n",
    "model2 = LogisticRegression()\n",
    "model2.fit(X_train[t_2], y_train)\n",
    "y_pred2 = model2.predict(X_test[t_2])"
   ]
  },
  {
   "cell_type": "code",
   "execution_count": 78,
   "metadata": {
    "ExecuteTime": {
     "end_time": "2019-12-16T09:14:55.119557Z",
     "start_time": "2019-12-16T09:14:55.113561Z"
    }
   },
   "outputs": [],
   "source": [
    "accuracy_score(y_test, y_pred1), accuracy_score(y_test, y_pred2)\n",
    "\n",
    "l1 = (y_test == y_pred1) * 1\n",
    "l2 = (y_test == y_pred2) * 1"
   ]
  },
  {
   "cell_type": "code",
   "execution_count": 79,
   "metadata": {
    "ExecuteTime": {
     "end_time": "2019-12-16T09:14:58.983345Z",
     "start_time": "2019-12-16T09:14:58.967353Z"
    }
   },
   "outputs": [],
   "source": [
    "def proportions_diff_confint_rel(sample1, sample2, alpha = 0.05):\n",
    "    z = scipy.stats.norm.ppf(1 - alpha / 2.)\n",
    "    sample = list(zip(sample1, sample2))\n",
    "    n = len(sample)\n",
    "        \n",
    "    f = sum([1 if (x[0] == 1 and x[1] == 0) else 0 for x in sample])\n",
    "    g = sum([1 if (x[0] == 0 and x[1] == 1) else 0 for x in sample])\n",
    "    \n",
    "    left_boundary = float(f - g) / n  - z * np.sqrt(float((f + g)) / n**2 - float((f - g)**2) / n**3)\n",
    "    right_boundary = float(f - g) / n  + z * np.sqrt(float((f + g)) / n**2 - float((f - g)**2) / n**3)\n",
    "    return (left_boundary, right_boundary)"
   ]
  },
  {
   "cell_type": "code",
   "execution_count": 80,
   "metadata": {
    "ExecuteTime": {
     "end_time": "2019-12-16T09:15:10.702058Z",
     "start_time": "2019-12-16T09:15:10.694062Z"
    }
   },
   "outputs": [],
   "source": [
    "def proportions_diff_z_stat_rel(sample1, sample2):\n",
    "    sample = list(zip(sample1, sample2))\n",
    "    n = len(sample)\n",
    "    \n",
    "    f = sum([1 if (x[0] == 1 and x[1] == 0) else 0 for x in sample])\n",
    "    g = sum([1 if (x[0] == 0 and x[1] == 1) else 0 for x in sample])\n",
    "    \n",
    "    return float(f - g) / np.sqrt(f + g - float((f - g)**2) / n )"
   ]
  },
  {
   "cell_type": "code",
   "execution_count": 81,
   "metadata": {
    "ExecuteTime": {
     "end_time": "2019-12-16T09:16:05.375929Z",
     "start_time": "2019-12-16T09:16:05.366934Z"
    }
   },
   "outputs": [
    {
     "name": "stdout",
     "output_type": "stream",
     "text": [
      "Diff intervals:  (-0.3000547937203857, -0.059945206279614305)\n",
      "Z statistic: -2.9386041680175268\n",
      "Pvalue: 0.0032969384555543435\n"
     ]
    }
   ],
   "source": [
    "\n",
    "print(\"Diff intervals: \", proportions_diff_confint_rel(l1, l2))\n",
    "\n",
    "z_stat = proportions_diff_z_stat_rel(l1, l2)\n",
    "print(\"Z statistic:\", z_stat)\n",
    "\n",
    "pvalue = proportions_diff_z_test(z_stat)\n",
    "\n",
    "print(\"Pvalue:\", pvalue)"
   ]
  },
  {
   "cell_type": "markdown",
   "metadata": {},
   "source": [
    "# GMAT to MBA"
   ]
  },
  {
   "cell_type": "markdown",
   "metadata": {},
   "source": [
    "## Part 1"
   ]
  },
  {
   "cell_type": "code",
   "execution_count": 82,
   "metadata": {
    "ExecuteTime": {
     "end_time": "2019-12-16T09:33:38.428143Z",
     "start_time": "2019-12-16T09:33:38.423145Z"
    }
   },
   "outputs": [],
   "source": [
    "n1 = 200000\n",
    "m1 = 525\n",
    "std1 = 100\n",
    "\n",
    "n2 = 100\n",
    "m2 = 541.4"
   ]
  },
  {
   "cell_type": "code",
   "execution_count": 85,
   "metadata": {
    "ExecuteTime": {
     "end_time": "2019-12-16T09:37:54.799238Z",
     "start_time": "2019-12-16T09:37:54.793240Z"
    }
   },
   "outputs": [
    {
     "data": {
      "text/plain": [
       "1.6399999999999977"
      ]
     },
     "execution_count": 85,
     "metadata": {},
     "output_type": "execute_result"
    }
   ],
   "source": [
    "z_stat = (m2 - m1) / (std1 / np.sqrt(n2))\n",
    "z_stat"
   ]
  },
  {
   "cell_type": "code",
   "execution_count": 88,
   "metadata": {
    "ExecuteTime": {
     "end_time": "2019-12-16T09:39:19.669883Z",
     "start_time": "2019-12-16T09:39:19.664893Z"
    }
   },
   "outputs": [
    {
     "name": "stdout",
     "output_type": "stream",
     "text": [
      "Pvalue: 0.05050258347410397\n"
     ]
    }
   ],
   "source": [
    "pvalue = proportions_diff_z_test(z_stat, 'greater')\n",
    "\n",
    "print(\"Pvalue:\", pvalue)"
   ]
  },
  {
   "cell_type": "markdown",
   "metadata": {},
   "source": [
    "## Part 2"
   ]
  },
  {
   "cell_type": "code",
   "execution_count": 89,
   "metadata": {
    "ExecuteTime": {
     "end_time": "2019-12-16T09:40:47.070280Z",
     "start_time": "2019-12-16T09:40:47.066282Z"
    }
   },
   "outputs": [],
   "source": [
    "n1 = 200000\n",
    "m1 = 525\n",
    "std1 = 100\n",
    "\n",
    "n2 = 100\n",
    "m2 = 541.5"
   ]
  },
  {
   "cell_type": "code",
   "execution_count": 90,
   "metadata": {
    "ExecuteTime": {
     "end_time": "2019-12-16T09:40:53.276900Z",
     "start_time": "2019-12-16T09:40:53.270904Z"
    }
   },
   "outputs": [
    {
     "data": {
      "text/plain": [
       "1.65"
      ]
     },
     "execution_count": 90,
     "metadata": {},
     "output_type": "execute_result"
    }
   ],
   "source": [
    "z_stat = (m2 - m1) / (std1 / np.sqrt(n2))\n",
    "z_stat"
   ]
  },
  {
   "cell_type": "code",
   "execution_count": 91,
   "metadata": {
    "ExecuteTime": {
     "end_time": "2019-12-16T09:40:58.694379Z",
     "start_time": "2019-12-16T09:40:58.689382Z"
    }
   },
   "outputs": [
    {
     "name": "stdout",
     "output_type": "stream",
     "text": [
      "Pvalue: 0.0494714680336481\n"
     ]
    }
   ],
   "source": [
    "pvalue = proportions_diff_z_test(z_stat, 'greater')\n",
    "\n",
    "print(\"Pvalue:\", pvalue)"
   ]
  }
 ],
 "metadata": {
  "kernelspec": {
   "display_name": "Python 3",
   "language": "python",
   "name": "python3"
  },
  "language_info": {
   "codemirror_mode": {
    "name": "ipython",
    "version": 3
   },
   "file_extension": ".py",
   "mimetype": "text/x-python",
   "name": "python",
   "nbconvert_exporter": "python",
   "pygments_lexer": "ipython3",
   "version": "3.6.4"
  },
  "toc": {
   "base_numbering": 1,
   "nav_menu": {},
   "number_sections": true,
   "sideBar": true,
   "skip_h1_title": false,
   "title_cell": "Table of Contents",
   "title_sidebar": "Contents",
   "toc_cell": true,
   "toc_position": {
    "height": "calc(100% - 180px)",
    "left": "10px",
    "top": "150px",
    "width": "384px"
   },
   "toc_section_display": true,
   "toc_window_display": true
  }
 },
 "nbformat": 4,
 "nbformat_minor": 2
}
