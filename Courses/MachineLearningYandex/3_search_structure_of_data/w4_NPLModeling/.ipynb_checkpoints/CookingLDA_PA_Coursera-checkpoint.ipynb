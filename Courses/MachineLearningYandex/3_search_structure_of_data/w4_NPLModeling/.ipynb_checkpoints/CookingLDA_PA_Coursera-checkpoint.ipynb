{
 "cells": [
  {
   "cell_type": "markdown",
   "metadata": {
    "toc": true
   },
   "source": [
    "<h1>Table of Contents<span class=\"tocSkip\"></span></h1>\n",
    "<div class=\"toc\"><ul class=\"toc-item\"><li><span><a href=\"#Programming-Assignment:\" data-toc-modified-id=\"Programming-Assignment:-1\"><span class=\"toc-item-num\">1&nbsp;&nbsp;</span>Programming Assignment:</a></span><ul class=\"toc-item\"><li><span><a href=\"#Готовим-LDA-по-рецептам\" data-toc-modified-id=\"Готовим-LDA-по-рецептам-1.1\"><span class=\"toc-item-num\">1.1&nbsp;&nbsp;</span>Готовим LDA по рецептам</a></span><ul class=\"toc-item\"><li><span><a href=\"#Загрузка-данных\" data-toc-modified-id=\"Загрузка-данных-1.1.1\"><span class=\"toc-item-num\">1.1.1&nbsp;&nbsp;</span>Загрузка данных</a></span></li><li><span><a href=\"#Составление-корпуса\" data-toc-modified-id=\"Составление-корпуса-1.1.2\"><span class=\"toc-item-num\">1.1.2&nbsp;&nbsp;</span>Составление корпуса</a></span></li><li><span><a href=\"#Обучение-модели\" data-toc-modified-id=\"Обучение-модели-1.1.3\"><span class=\"toc-item-num\">1.1.3&nbsp;&nbsp;</span>Обучение модели</a></span></li><li><span><a href=\"#Фильтрация-словаря\" data-toc-modified-id=\"Фильтрация-словаря-1.1.4\"><span class=\"toc-item-num\">1.1.4&nbsp;&nbsp;</span>Фильтрация словаря</a></span></li><li><span><a href=\"#Сравнение-когерентностей\" data-toc-modified-id=\"Сравнение-когерентностей-1.1.5\"><span class=\"toc-item-num\">1.1.5&nbsp;&nbsp;</span>Сравнение когерентностей</a></span></li><li><span><a href=\"#Изучение-влияния-гиперпараметра-alpha\" data-toc-modified-id=\"Изучение-влияния-гиперпараметра-alpha-1.1.6\"><span class=\"toc-item-num\">1.1.6&nbsp;&nbsp;</span>Изучение влияния гиперпараметра alpha</a></span></li><li><span><a href=\"#LDA-как-способ-понижения-размерности\" data-toc-modified-id=\"LDA-как-способ-понижения-размерности-1.1.7\"><span class=\"toc-item-num\">1.1.7&nbsp;&nbsp;</span>LDA как способ понижения размерности</a></span></li><li><span><a href=\"#LDA-—-вероятностная-модель\" data-toc-modified-id=\"LDA-—-вероятностная-модель-1.1.8\"><span class=\"toc-item-num\">1.1.8&nbsp;&nbsp;</span>LDA — вероятностная модель</a></span></li><li><span><a href=\"#Интерпретация-построенной-модели\" data-toc-modified-id=\"Интерпретация-построенной-модели-1.1.9\"><span class=\"toc-item-num\">1.1.9&nbsp;&nbsp;</span>Интерпретация построенной модели</a></span></li><li><span><a href=\"#Заключение\" data-toc-modified-id=\"Заключение-1.1.10\"><span class=\"toc-item-num\">1.1.10&nbsp;&nbsp;</span>Заключение</a></span></li></ul></li></ul></li></ul></div>"
   ]
  },
  {
   "cell_type": "markdown",
   "metadata": {},
   "source": [
    "# Programming Assignment: \n",
    "## Готовим LDA по рецептам"
   ]
  },
  {
   "cell_type": "markdown",
   "metadata": {},
   "source": [
    "Как вы уже знаете, в тематическом моделировании делается предположение о том, что для определения тематики порядок слов в документе не важен; об этом гласит гипотеза «мешка слов». Сегодня мы будем работать с несколько нестандартной для тематического моделирования коллекцией, которую можно назвать «мешком ингредиентов», потому что на состоит из рецептов блюд разных кухонь. Тематические модели ищут слова, которые часто вместе встречаются в документах, и составляют из них темы. Мы попробуем применить эту идею к рецептам и найти кулинарные «темы». Эта коллекция хороша тем, что не требует предобработки. Кроме того, эта задача достаточно наглядно иллюстрирует принцип работы тематических моделей.\n",
    "\n",
    "Для выполнения заданий, помимо часто используемых в курсе библиотек, потребуются модули *json* и *gensim*. Первый входит в дистрибутив Anaconda, второй можно поставить командой \n",
    "\n",
    "*pip install gensim*\n",
    "\n",
    "Построение модели занимает некоторое время. На ноутбуке с процессором Intel Core i7 и тактовой частотой 2400 МГц на построение одной модели уходит менее 10 минут."
   ]
  },
  {
   "cell_type": "markdown",
   "metadata": {},
   "source": [
    "### Загрузка данных"
   ]
  },
  {
   "cell_type": "markdown",
   "metadata": {},
   "source": [
    "Коллекция дана в json-формате: для каждого рецепта известны его id, кухня (cuisine) и список ингредиентов, в него входящих. Загрузить данные можно с помощью модуля json (он входит в дистрибутив Anaconda):"
   ]
  },
  {
   "cell_type": "code",
   "execution_count": 1,
   "metadata": {
    "ExecuteTime": {
     "end_time": "2019-12-09T08:34:21.842492Z",
     "start_time": "2019-12-09T08:34:21.839493Z"
    }
   },
   "outputs": [],
   "source": [
    "import json"
   ]
  },
  {
   "cell_type": "code",
   "execution_count": 2,
   "metadata": {
    "ExecuteTime": {
     "end_time": "2019-12-09T08:34:23.991692Z",
     "start_time": "2019-12-09T08:34:23.781816Z"
    }
   },
   "outputs": [],
   "source": [
    "with open(\"recipes.json\") as f:\n",
    "    recipes = json.load(f)"
   ]
  },
  {
   "cell_type": "code",
   "execution_count": 3,
   "metadata": {
    "ExecuteTime": {
     "end_time": "2019-12-09T08:34:24.965821Z",
     "start_time": "2019-12-09T08:34:24.958825Z"
    }
   },
   "outputs": [
    {
     "name": "stdout",
     "output_type": "stream",
     "text": [
      "{'id': 10259, 'cuisine': 'greek', 'ingredients': ['romaine lettuce', 'black olives', 'grape tomatoes', 'garlic', 'pepper', 'purple onion', 'seasoning', 'garbanzo beans', 'feta cheese crumbles']}\n"
     ]
    }
   ],
   "source": [
    "print(recipes[0])"
   ]
  },
  {
   "cell_type": "markdown",
   "metadata": {},
   "source": [
    "### Составление корпуса"
   ]
  },
  {
   "cell_type": "code",
   "execution_count": 6,
   "metadata": {
    "ExecuteTime": {
     "end_time": "2019-12-09T08:36:17.386598Z",
     "start_time": "2019-12-09T08:36:13.240152Z"
    }
   },
   "outputs": [],
   "source": [
    "from gensim import corpora, models\n",
    "import numpy as np"
   ]
  },
  {
   "cell_type": "markdown",
   "metadata": {},
   "source": [
    "Наша коллекция небольшая, и целиком помещается в оперативную память. Gensim может работать с такими данными и не требует их сохранения на диск в специальном формате. Для этого коллекция должна быть представлена в виде списка списков, каждый внутренний список соответствует отдельному документу и состоит из его слов. Пример коллекции из двух документов: \n",
    "\n",
    "[[\"hello\", \"world\"], [\"programming\", \"in\", \"python\"]]\n",
    "\n",
    "Преобразуем наши данные в такой формат, а затем создадим объекты corpus и dictionary, с которыми будет работать модель."
   ]
  },
  {
   "cell_type": "code",
   "execution_count": 46,
   "metadata": {
    "ExecuteTime": {
     "end_time": "2019-12-09T09:17:08.621435Z",
     "start_time": "2019-12-09T09:17:07.662023Z"
    },
    "collapsed": true
   },
   "outputs": [
    {
     "ename": "AttributeError",
     "evalue": "'Dictionary' object has no attribute 'doc2token'",
     "output_type": "error",
     "traceback": [
      "\u001b[1;31m---------------------------------------------------------------------------\u001b[0m",
      "\u001b[1;31mAttributeError\u001b[0m                            Traceback (most recent call last)",
      "\u001b[1;32m<ipython-input-46-90d3ad156118>\u001b[0m in \u001b[0;36m<module>\u001b[1;34m()\u001b[0m\n\u001b[0;32m      1\u001b[0m \u001b[0mtexts\u001b[0m \u001b[1;33m=\u001b[0m \u001b[1;33m[\u001b[0m\u001b[0mrecipe\u001b[0m\u001b[1;33m[\u001b[0m\u001b[1;34m\"ingredients\"\u001b[0m\u001b[1;33m]\u001b[0m \u001b[1;32mfor\u001b[0m \u001b[0mrecipe\u001b[0m \u001b[1;32min\u001b[0m \u001b[0mrecipes\u001b[0m\u001b[1;33m]\u001b[0m\u001b[1;33m\u001b[0m\u001b[0m\n\u001b[0;32m      2\u001b[0m \u001b[0mdictionary\u001b[0m \u001b[1;33m=\u001b[0m \u001b[0mcorpora\u001b[0m\u001b[1;33m.\u001b[0m\u001b[0mDictionary\u001b[0m\u001b[1;33m(\u001b[0m\u001b[0mtexts\u001b[0m\u001b[1;33m)\u001b[0m   \u001b[1;31m# составляем словарь\u001b[0m\u001b[1;33m\u001b[0m\u001b[0m\n\u001b[1;32m----> 3\u001b[1;33m \u001b[0mcorpus\u001b[0m \u001b[1;33m=\u001b[0m \u001b[1;33m[\u001b[0m\u001b[0mdictionary\u001b[0m\u001b[1;33m.\u001b[0m\u001b[0mdoc2token\u001b[0m\u001b[1;33m(\u001b[0m\u001b[0mtext\u001b[0m\u001b[1;33m)\u001b[0m \u001b[1;32mfor\u001b[0m \u001b[0mtext\u001b[0m \u001b[1;32min\u001b[0m \u001b[0mtexts\u001b[0m\u001b[1;33m]\u001b[0m  \u001b[1;31m# составляем корпус документов\u001b[0m\u001b[1;33m\u001b[0m\u001b[0m\n\u001b[0m",
      "\u001b[1;32m<ipython-input-46-90d3ad156118>\u001b[0m in \u001b[0;36m<listcomp>\u001b[1;34m(.0)\u001b[0m\n\u001b[0;32m      1\u001b[0m \u001b[0mtexts\u001b[0m \u001b[1;33m=\u001b[0m \u001b[1;33m[\u001b[0m\u001b[0mrecipe\u001b[0m\u001b[1;33m[\u001b[0m\u001b[1;34m\"ingredients\"\u001b[0m\u001b[1;33m]\u001b[0m \u001b[1;32mfor\u001b[0m \u001b[0mrecipe\u001b[0m \u001b[1;32min\u001b[0m \u001b[0mrecipes\u001b[0m\u001b[1;33m]\u001b[0m\u001b[1;33m\u001b[0m\u001b[0m\n\u001b[0;32m      2\u001b[0m \u001b[0mdictionary\u001b[0m \u001b[1;33m=\u001b[0m \u001b[0mcorpora\u001b[0m\u001b[1;33m.\u001b[0m\u001b[0mDictionary\u001b[0m\u001b[1;33m(\u001b[0m\u001b[0mtexts\u001b[0m\u001b[1;33m)\u001b[0m   \u001b[1;31m# составляем словарь\u001b[0m\u001b[1;33m\u001b[0m\u001b[0m\n\u001b[1;32m----> 3\u001b[1;33m \u001b[0mcorpus\u001b[0m \u001b[1;33m=\u001b[0m \u001b[1;33m[\u001b[0m\u001b[0mdictionary\u001b[0m\u001b[1;33m.\u001b[0m\u001b[0mdoc2token\u001b[0m\u001b[1;33m(\u001b[0m\u001b[0mtext\u001b[0m\u001b[1;33m)\u001b[0m \u001b[1;32mfor\u001b[0m \u001b[0mtext\u001b[0m \u001b[1;32min\u001b[0m \u001b[0mtexts\u001b[0m\u001b[1;33m]\u001b[0m  \u001b[1;31m# составляем корпус документов\u001b[0m\u001b[1;33m\u001b[0m\u001b[0m\n\u001b[0m",
      "\u001b[1;31mAttributeError\u001b[0m: 'Dictionary' object has no attribute 'doc2token'"
     ]
    }
   ],
   "source": [
    "texts = [recipe[\"ingredients\"] for recipe in recipes]\n",
    "dictionary = corpora.Dictionary(texts)   # составляем словарь\n",
    "corpus = [dictionary.doc2token(text) for text in texts]  # составляем корпус документов"
   ]
  },
  {
   "cell_type": "code",
   "execution_count": 8,
   "metadata": {
    "ExecuteTime": {
     "end_time": "2019-12-09T08:37:22.793436Z",
     "start_time": "2019-12-09T08:37:22.788438Z"
    }
   },
   "outputs": [
    {
     "name": "stdout",
     "output_type": "stream",
     "text": [
      "['romaine lettuce', 'black olives', 'grape tomatoes', 'garlic', 'pepper', 'purple onion', 'seasoning', 'garbanzo beans', 'feta cheese crumbles']\n",
      "[(0, 1), (1, 1), (2, 1), (3, 1), (4, 1), (5, 1), (6, 1), (7, 1), (8, 1)]\n"
     ]
    }
   ],
   "source": [
    "print(texts[0])\n",
    "print(corpus[0])"
   ]
  },
  {
   "cell_type": "markdown",
   "metadata": {},
   "source": [
    "У объекта dictionary есть полезная переменная dictionary.token2id, позволяющая находить соответствие между ингредиентами и их индексами."
   ]
  },
  {
   "cell_type": "markdown",
   "metadata": {},
   "source": [
    "### Обучение модели\n",
    "Вам может понадобиться [документация](https://radimrehurek.com/gensim/models/ldamodel.html) LDA в gensim."
   ]
  },
  {
   "cell_type": "markdown",
   "metadata": {},
   "source": [
    "__Задание 1.__ Обучите модель LDA с 40 темами, установив количество проходов по коллекции 5 и оставив остальные параметры по умолчанию. \n",
    "\n",
    "\n",
    "Затем вызовите метод модели *show_topics*, указав количество тем 40 и количество токенов 10, и сохраните результат (топы ингредиентов в темах) в отдельную переменную. Если при вызове метода *show_topics* указать параметр *formatted=True*, то топы ингредиентов будет удобно выводить на печать, если *formatted=False*, будет удобно работать со списком программно. Выведите топы на печать, рассмотрите темы, а затем ответьте на вопрос:\n",
    "\n",
    "Сколько раз ингредиенты \"salt\", \"sugar\", \"water\", \"mushrooms\", \"chicken\", \"eggs\" встретились среди топов-10 всех 40 тем? При ответе __не нужно__ учитывать составные ингредиенты, например, \"hot water\".\n",
    "\n",
    "Передайте 6 чисел в функцию save_answers1 и загрузите сгенерированный файл в форму.\n",
    "\n",
    "У gensim нет возможности фиксировать случайное приближение через параметры метода, но библиотека использует numpy для инициализации матриц. Поэтому, по утверждению автора библиотеки, фиксировать случайное приближение нужно командой, которая написана в следующей ячейке. __Перед строкой кода с построением модели обязательно вставляйте указанную строку фиксации random.seed.__"
   ]
  },
  {
   "cell_type": "code",
   "execution_count": 60,
   "metadata": {
    "ExecuteTime": {
     "end_time": "2019-12-09T09:28:13.283986Z",
     "start_time": "2019-12-09T09:28:03.121159Z"
    },
    "collapsed": true
   },
   "outputs": [
    {
     "data": {
      "text/plain": [
       "[(0,\n",
       "  '0.062*\"peeled fresh ginger\" + 0.053*\"curry powder\" + 0.053*\"garlic cloves\" + 0.051*\"salt\" + 0.042*\"green beans\" + 0.032*\"vegetable oil\" + 0.029*\"water\" + 0.028*\"roasted red peppers\" + 0.027*\"vegetable stock\" + 0.027*\"baking potatoes\"'),\n",
       " (1,\n",
       "  '0.087*\"low sodium chicken broth\" + 0.077*\"russet potatoes\" + 0.064*\"chopped fresh chives\" + 0.050*\"sausages\" + 0.044*\"1% low-fat milk\" + 0.044*\"cream cheese, soften\" + 0.041*\"celery ribs\" + 0.034*\"chile powder\" + 0.028*\"kosher salt\" + 0.023*\"carrots\"'),\n",
       " (2,\n",
       "  '0.096*\"fresh parsley\" + 0.061*\"olive oil\" + 0.038*\"salt\" + 0.037*\"chopped onion\" + 0.032*\"garlic cloves\" + 0.031*\"butter\" + 0.031*\"fresh rosemary\" + 0.025*\"chopped celery\" + 0.022*\"onions\" + 0.021*\"low salt chicken broth\"'),\n",
       " (3,\n",
       "  '0.063*\"onions\" + 0.057*\"celery\" + 0.057*\"bay leaf\" + 0.055*\"salt\" + 0.053*\"bacon\" + 0.043*\"garlic\" + 0.043*\"ground black pepper\" + 0.040*\"fresh basil leaves\" + 0.031*\"carrots\" + 0.031*\"chicken stock\"'),\n",
       " (4,\n",
       "  '0.149*\"all-purpose flour\" + 0.099*\"salt\" + 0.092*\"baking powder\" + 0.053*\"sugar\" + 0.051*\"large eggs\" + 0.045*\"baking soda\" + 0.038*\"unsalted butter\" + 0.038*\"butter\" + 0.035*\"milk\" + 0.029*\"buttermilk\"'),\n",
       " (5,\n",
       "  '0.078*\"dry white wine\" + 0.064*\"olive oil\" + 0.064*\"flat leaf parsley\" + 0.047*\"shallots\" + 0.043*\"salt\" + 0.040*\"garlic cloves\" + 0.038*\"extra-virgin olive oil\" + 0.028*\"ground black pepper\" + 0.027*\"parmigiano reggiano cheese\" + 0.027*\"onions\"'),\n",
       " (6,\n",
       "  '0.091*\"fresh lime juice\" + 0.034*\"pork tenderloin\" + 0.031*\"sugar\" + 0.030*\"cilantro sprigs\" + 0.029*\"english cucumber\" + 0.028*\"chopped cilantro fresh\" + 0.027*\"pancetta\" + 0.026*\"lettuce leaves\" + 0.024*\"peppercorns\" + 0.021*\"cucumber\"'),\n",
       " (7,\n",
       "  '0.142*\"scallions\" + 0.069*\"rice vinegar\" + 0.054*\"soy sauce\" + 0.053*\"vegetable oil\" + 0.039*\"fresh ginger\" + 0.039*\"toasted sesame oil\" + 0.028*\"toasted sesame seeds\" + 0.025*\"dry sherry\" + 0.024*\"sugar\" + 0.022*\"broccoli\"'),\n",
       " (8,\n",
       "  '0.126*\"garlic powder\" + 0.101*\"paprika\" + 0.062*\"cayenne pepper\" + 0.048*\"onion powder\" + 0.044*\"salt\" + 0.041*\"ground black pepper\" + 0.040*\"black pepper\" + 0.029*\"pinenuts\" + 0.027*\"smoked paprika\" + 0.026*\"dried thyme\"'),\n",
       " (9,\n",
       "  '0.067*\"cooking spray\" + 0.064*\"garlic cloves\" + 0.057*\"salt\" + 0.057*\"olive oil\" + 0.043*\"extra-virgin olive oil\" + 0.039*\"ground black pepper\" + 0.033*\"purple onion\" + 0.029*\"fresh lemon juice\" + 0.028*\"balsamic vinegar\" + 0.027*\"red bell pepper\"'),\n",
       " (10,\n",
       "  '0.113*\"rice\" + 0.055*\"sweetened condensed milk\" + 0.045*\"peas\" + 0.035*\"smoked sausage\" + 0.033*\"chili flakes\" + 0.033*\"shredded sharp cheddar cheese\" + 0.029*\"dashi\" + 0.024*\"watercress\" + 0.024*\"bow-tie pasta\" + 0.022*\"old bay seasoning\"'),\n",
       " (11,\n",
       "  '0.067*\"jalapeno chilies\" + 0.059*\"lime\" + 0.052*\"salt\" + 0.043*\"avocado\" + 0.037*\"white onion\" + 0.037*\"cilantro\" + 0.034*\"garlic\" + 0.033*\"olive oil\" + 0.032*\"purple onion\" + 0.031*\"fresh cilantro\"'),\n",
       " (12,\n",
       "  '0.082*\"grated parmesan cheese\" + 0.055*\"mozzarella cheese\" + 0.050*\"shredded mozzarella cheese\" + 0.043*\"ricotta cheese\" + 0.034*\"olive oil\" + 0.029*\"pasta sauce\" + 0.029*\"basil\" + 0.029*\"eggs\" + 0.027*\"garlic\" + 0.026*\"salt\"'),\n",
       " (13,\n",
       "  '0.098*\"chili powder\" + 0.066*\"ground cumin\" + 0.043*\"corn tortillas\" + 0.042*\"onions\" + 0.036*\"ground beef\" + 0.036*\"salt\" + 0.034*\"diced tomatoes\" + 0.026*\"garlic\" + 0.023*\"sour cream\" + 0.023*\"dried oregano\"'),\n",
       " (14,\n",
       "  '0.089*\"fresh basil\" + 0.072*\"olive oil\" + 0.062*\"red wine vinegar\" + 0.051*\"salt\" + 0.038*\"garlic\" + 0.036*\"diced tomatoes\" + 0.031*\"fresh oregano\" + 0.030*\"pasta\" + 0.028*\"garlic cloves\" + 0.027*\"extra-virgin olive oil\"'),\n",
       " (15,\n",
       "  '0.086*\"unsalted butter\" + 0.082*\"sugar\" + 0.081*\"large eggs\" + 0.058*\"whole milk\" + 0.044*\"large egg yolks\" + 0.036*\"salt\" + 0.031*\"water\" + 0.031*\"all-purpose flour\" + 0.029*\"large egg whites\" + 0.028*\"vanilla extract\"'),\n",
       " (16,\n",
       "  '0.088*\"coarse salt\" + 0.054*\"ground pepper\" + 0.050*\"tortilla chips\" + 0.045*\"fine sea salt\" + 0.040*\"juice\" + 0.039*\"garlic cloves\" + 0.034*\"extra-virgin olive oil\" + 0.031*\"reduced sodium chicken broth\" + 0.029*\"chiles\" + 0.028*\"hot red pepper flakes\"'),\n",
       " (17,\n",
       "  '0.071*\"tomato paste\" + 0.051*\"garlic\" + 0.047*\"onions\" + 0.045*\"crushed tomatoes\" + 0.042*\"white wine\" + 0.042*\"salt\" + 0.040*\"olive oil\" + 0.040*\"lean ground beef\" + 0.038*\"spaghetti\" + 0.035*\"fresh mushrooms\"'),\n",
       " (18,\n",
       "  '0.098*\"salt\" + 0.084*\"flour\" + 0.084*\"milk\" + 0.064*\"eggs\" + 0.060*\"pepper\" + 0.057*\"butter\" + 0.053*\"dried basil\" + 0.041*\"parmesan cheese\" + 0.029*\"olive oil\" + 0.023*\"onions\"'),\n",
       " (19,\n",
       "  '0.101*\"ground ginger\" + 0.060*\"light brown sugar\" + 0.047*\"sugar\" + 0.039*\"ground cinnamon\" + 0.035*\"peaches\" + 0.035*\"strawberries\" + 0.032*\"sliced almonds\" + 0.030*\"granulated sugar\" + 0.029*\"raisins\" + 0.026*\"ground nutmeg\"'),\n",
       " (20,\n",
       "  '0.087*\"crushed red pepper flakes\" + 0.070*\"coconut milk\" + 0.058*\"fresh mint\" + 0.047*\"dry bread crumbs\" + 0.043*\"zucchini\" + 0.039*\"garlic\" + 0.038*\"basil leaves\" + 0.027*\"kalamata\" + 0.026*\"ground turkey\" + 0.025*\"jasmine rice\"'),\n",
       " (21,\n",
       "  '0.064*\"garlic salt\" + 0.062*\"tortillas\" + 0.058*\"green cabbage\" + 0.044*\"boneless chicken breast\" + 0.036*\"boneless skinless chicken breasts\" + 0.035*\"barbecue sauce\" + 0.035*\"caster sugar\" + 0.034*\"chile pepper\" + 0.028*\"cottage cheese\" + 0.023*\"ranch dressing\"'),\n",
       " (22,\n",
       "  '0.124*\"freshly ground pepper\" + 0.120*\"mayonaise\" + 0.054*\"salt\" + 0.036*\"dijon mustard\" + 0.028*\"black-eyed peas\" + 0.028*\"ham\" + 0.026*\"grits\" + 0.024*\"butternut squash\" + 0.023*\"butter\" + 0.021*\"sharp cheddar cheese\"'),\n",
       " (23,\n",
       "  '0.060*\"white pepper\" + 0.050*\"sauce\" + 0.050*\"cayenne\" + 0.045*\"orange juice\" + 0.043*\"salt\" + 0.031*\"Shaoxing wine\" + 0.029*\"garlic\" + 0.029*\"chinese five-spice powder\" + 0.026*\"water\" + 0.024*\"creole seasoning\"'),\n",
       " (24,\n",
       "  '0.049*\"cumin seed\" + 0.046*\"ground turmeric\" + 0.045*\"salt\" + 0.040*\"onions\" + 0.040*\"ground cumin\" + 0.039*\"garam masala\" + 0.026*\"tumeric\" + 0.025*\"vegetable oil\" + 0.023*\"coriander seeds\" + 0.023*\"ground coriander\"'),\n",
       " (25,\n",
       "  '0.100*\"soy sauce\" + 0.078*\"sesame oil\" + 0.061*\"corn starch\" + 0.048*\"green onions\" + 0.043*\"sugar\" + 0.038*\"garlic\" + 0.033*\"water\" + 0.030*\"ginger\" + 0.027*\"peanut oil\" + 0.025*\"rice vinegar\"'),\n",
       " (26,\n",
       "  '0.065*\"oil\" + 0.064*\"salt\" + 0.045*\"green chilies\" + 0.036*\"onions\" + 0.034*\"clove\" + 0.033*\"water\" + 0.028*\"cinnamon sticks\" + 0.027*\"grated lemon zest\" + 0.022*\"tomatoes\" + 0.021*\"mint leaves\"'),\n",
       " (27,\n",
       "  '0.176*\"heavy cream\" + 0.078*\"egg yolks\" + 0.059*\"hot water\" + 0.048*\"sweet onion\" + 0.047*\"grated nutmeg\" + 0.037*\"bananas\" + 0.031*\"yukon gold potatoes\" + 0.031*\"frozen peas\" + 0.027*\"unsalted butter\" + 0.024*\"salt\"'),\n",
       " (28,\n",
       "  '0.130*\"cilantro leaves\" + 0.071*\"medium shrimp\" + 0.069*\"ground white pepper\" + 0.049*\"okra\" + 0.041*\"shrimp\" + 0.032*\"salt\" + 0.027*\"corn oil\" + 0.024*\"lump crab meat\" + 0.024*\"coriander\" + 0.018*\"chillies\"'),\n",
       " (29,\n",
       "  '0.065*\"sour cream\" + 0.061*\"flour tortillas\" + 0.053*\"shredded cheddar cheese\" + 0.052*\"salsa\" + 0.046*\"black beans\" + 0.035*\"green onions\" + 0.029*\"chopped cilantro fresh\" + 0.023*\"salt\" + 0.020*\"tomatoes\" + 0.020*\"onions\"'),\n",
       " (30,\n",
       "  '0.105*\"whipping cream\" + 0.060*\"fresh coriander\" + 0.059*\"asian fish sauce\" + 0.056*\"mussels\" + 0.044*\"grated orange\" + 0.032*\"mint sprigs\" + 0.029*\"sugar\" + 0.029*\"sunflower oil\" + 0.027*\"fillets\" + 0.027*\"dough\"'),\n",
       " (31,\n",
       "  '0.065*\"sesame seeds\" + 0.051*\"salt\" + 0.051*\"cooked rice\" + 0.051*\"soy sauce\" + 0.048*\"water\" + 0.048*\"sugar\" + 0.040*\"mirin\" + 0.038*\"onions\" + 0.036*\"beef\" + 0.035*\"sake\"'),\n",
       " (32,\n",
       "  '0.073*\"salt\" + 0.072*\"eggs\" + 0.070*\"white sugar\" + 0.070*\"butter\" + 0.049*\"sugar\" + 0.047*\"all-purpose flour\" + 0.038*\"vanilla extract\" + 0.036*\"warm water\" + 0.030*\"milk\" + 0.025*\"active dry yeast\"'),\n",
       " (33,\n",
       "  '0.060*\"ground cinnamon\" + 0.056*\"cabbage\" + 0.054*\"ground coriander\" + 0.052*\"ground cumin\" + 0.046*\"salt\" + 0.045*\"plain yogurt\" + 0.043*\"ground cloves\" + 0.040*\"garlic\" + 0.033*\"onions\" + 0.032*\"ground allspice\"'),\n",
       " (34,\n",
       "  '0.179*\"lemon\" + 0.071*\"ketchup\" + 0.050*\"chicken thighs\" + 0.043*\"salt\" + 0.036*\"fresh dill\" + 0.029*\"brandy\" + 0.025*\"ground black pepper\" + 0.024*\"onions\" + 0.019*\"pepper\" + 0.019*\"olive oil\"'),\n",
       " (35,\n",
       "  '0.065*\"low sodium soy sauce\" + 0.056*\"shiitake\" + 0.045*\"green onions\" + 0.040*\"carrots\" + 0.037*\"ground pork\" + 0.035*\"napa cabbage\" + 0.030*\"mint\" + 0.026*\"Gochujang base\" + 0.024*\"daikon\" + 0.024*\"kimchi\"'),\n",
       " (36,\n",
       "  '0.069*\"onions\" + 0.063*\"salt\" + 0.048*\"green bell pepper\" + 0.048*\"potatoes\" + 0.040*\"worcestershire sauce\" + 0.033*\"garlic\" + 0.033*\"pepper\" + 0.030*\"water\" + 0.027*\"butter\" + 0.026*\"cajun seasoning\"'),\n",
       " (37,\n",
       "  '0.170*\"sea salt\" + 0.058*\"chopped parsley\" + 0.053*\"corn kernels\" + 0.040*\"apple cider vinegar\" + 0.040*\"grape tomatoes\" + 0.040*\"extra-virgin olive oil\" + 0.032*\"chili\" + 0.032*\"ground black pepper\" + 0.030*\"poblano chiles\" + 0.029*\"fresh thyme leaves\"'),\n",
       " (38,\n",
       "  '0.083*\"fish sauce\" + 0.041*\"garlic\" + 0.030*\"vegetable oil\" + 0.029*\"red chili peppers\" + 0.028*\"shallots\" + 0.027*\"water\" + 0.026*\"lemongrass\" + 0.025*\"spring onions\" + 0.024*\"boneless chicken skinless thigh\" + 0.023*\"sugar\"'),\n",
       " (39,\n",
       "  '0.077*\"cider vinegar\" + 0.076*\"cracked black pepper\" + 0.050*\"roma tomatoes\" + 0.048*\"white rice\" + 0.044*\"salt\" + 0.042*\"boiling water\" + 0.035*\"garlic\" + 0.032*\"ancho chile pepper\" + 0.030*\"sun-dried tomatoes\" + 0.030*\"kosher salt\"')]"
      ]
     },
     "execution_count": 60,
     "metadata": {},
     "output_type": "execute_result"
    }
   ],
   "source": [
    "np.random.seed(76543)\n",
    "# здесь код для построения модели:\n",
    "lda_model = models.LdaModel(corpus=corpus, num_topics=40, iterations=5, id2word=dictionary)\n",
    "top_words = lda_model.show_topics(num_topics=40, num_words=10, formatted=False)\n",
    "lda_model.show_topics(num_topics=40, num_words=10, formatted=True)"
   ]
  },
  {
   "cell_type": "code",
   "execution_count": 73,
   "metadata": {
    "ExecuteTime": {
     "end_time": "2019-12-09T09:38:54.696396Z",
     "start_time": "2019-12-09T09:38:54.688398Z"
    }
   },
   "outputs": [
    {
     "name": "stdout",
     "output_type": "stream",
     "text": [
      "salt - 27\n",
      "sugar - 10\n",
      "water - 8\n",
      "mushrooms - 0\n",
      "chicken - 0\n",
      "eggs - 3\n"
     ]
    }
   ],
   "source": [
    "for word in [\"salt\", \"sugar\", \"water\", \"mushrooms\", \"chicken\", \"eggs\"]:\n",
    "    count = 0\n",
    "    for i in top_words:\n",
    "        for j in i[1]:\n",
    "            if word == j[0]:\n",
    "                count += 1\n",
    "    \n",
    "    print(word, \"-\", count)"
   ]
  },
  {
   "cell_type": "code",
   "execution_count": 75,
   "metadata": {
    "ExecuteTime": {
     "end_time": "2019-12-09T09:41:15.538125Z",
     "start_time": "2019-12-09T09:41:15.534127Z"
    }
   },
   "outputs": [],
   "source": [
    "save_answers1(27, 10, 8, 0, 0, 3)"
   ]
  },
  {
   "cell_type": "code",
   "execution_count": 74,
   "metadata": {
    "ExecuteTime": {
     "end_time": "2019-12-09T09:39:33.995232Z",
     "start_time": "2019-12-09T09:39:33.990231Z"
    }
   },
   "outputs": [],
   "source": [
    "def save_answers1(c_salt, c_sugar, c_water, c_mushrooms, c_chicken, c_eggs):\n",
    "    with open(\"cooking_LDA_pa_task1.txt\", \"w\") as fout:\n",
    "        fout.write(\" \".join([str(el) for el in [c_salt, c_sugar, c_water, c_mushrooms, c_chicken, c_eggs]]))"
   ]
  },
  {
   "cell_type": "markdown",
   "metadata": {},
   "source": [
    "### Фильтрация словаря\n",
    "В топах тем гораздо чаще встречаются первые три рассмотренных ингредиента, чем последние три. При этом наличие в рецепте курицы, яиц и грибов яснее дает понять, что мы будем готовить, чем наличие соли, сахара и воды. Таким образом, даже в рецептах есть слова, часто встречающиеся в текстах и не несущие смысловой нагрузки, и поэтому их не желательно видеть в темах. Наиболее простой прием борьбы с такими фоновыми элементами — фильтрация словаря по частоте. Обычно словарь фильтруют с двух сторон: убирают очень редкие слова (в целях экономии памяти) и очень частые слова (в целях повышения интерпретируемости тем). Мы уберем только частые слова."
   ]
  },
  {
   "cell_type": "code",
   "execution_count": 127,
   "metadata": {
    "ExecuteTime": {
     "end_time": "2019-12-09T10:31:11.068703Z",
     "start_time": "2019-12-09T10:31:11.022731Z"
    }
   },
   "outputs": [],
   "source": [
    "import copy\n",
    "dictionary2 = copy.deepcopy(dictionary)"
   ]
  },
  {
   "cell_type": "markdown",
   "metadata": {},
   "source": [
    "__Задание 2.__ У объекта dictionary2 есть переменная *dfs* — это словарь, ключами которого являются id токена, а элементами — число раз, сколько слово встретилось во всей коллекции. Сохраните в отдельный список ингредиенты, которые встретились в коллекции больше 4000 раз. Вызовите метод словаря *filter_tokens*, подав в качестве первого аргумента полученный список популярных ингредиентов. Вычислите две величины: dict_size_before и dict_size_after — размер словаря до и после фильтрации.\n",
    "\n",
    "Затем, используя новый словарь, создайте новый корпус документов, corpus2, по аналогии с тем, как это сделано в начале ноутбука. Вычислите две величины: corpus_size_before и corpus_size_after — суммарное количество ингредиентов в корпусе (для каждого документа вычислите число различных ингредиентов в нем и просуммируйте по всем документам) до и после фильтрации.\n",
    "\n",
    "Передайте величины dict_size_before, dict_size_after, corpus_size_before, corpus_size_after в функцию save_answers2 и загрузите сгенерированный файл в форму."
   ]
  },
  {
   "cell_type": "code",
   "execution_count": 128,
   "metadata": {
    "ExecuteTime": {
     "end_time": "2019-12-09T10:31:35.316956Z",
     "start_time": "2019-12-09T10:31:35.302964Z"
    }
   },
   "outputs": [
    {
     "name": "stdout",
     "output_type": "stream",
     "text": [
      "The lendth of the dictionary 2 before: 6714\n",
      "The lendth of the dictionary 2 after: 6702\n",
      "The lendth of the most_frequency_words: 12\n"
     ]
    }
   ],
   "source": [
    "print(\"The lendth of the dictionary2 before:\", len(dictionary2))\n",
    "most_frequency_words = [i for (i, value) in dictionary2.dfs.items() if value>4000]\n",
    "dictionary2.filter_tokens(most_frequency_words) # this function works inplace\n",
    "print(\"The lendth of the dictionary2 after:\", len(dictionary2))\n",
    "print(\"The lendth of the most_frequency_words:\", len(most_frequency_words))"
   ]
  },
  {
   "cell_type": "code",
   "execution_count": 137,
   "metadata": {
    "ExecuteTime": {
     "end_time": "2019-12-09T10:39:11.739226Z",
     "start_time": "2019-12-09T10:39:11.204554Z"
    }
   },
   "outputs": [
    {
     "name": "stdout",
     "output_type": "stream",
     "text": [
      "The lendth of the corpus before: 428249\n",
      "The lendth of the corpus after: 343665\n"
     ]
    }
   ],
   "source": [
    "corpus2 = [dictionary2.doc2bow(text) for text in texts]  # составляем новый корпус документов\n",
    "\n",
    "print(\"The lendth of the corpus before:\", sum([len(i) for i in corpus]))\n",
    "print(\"The lendth of the corpus after:\", sum([len(i) for i in corpus2]))"
   ]
  },
  {
   "cell_type": "code",
   "execution_count": 139,
   "metadata": {
    "ExecuteTime": {
     "end_time": "2019-12-09T10:40:42.522737Z",
     "start_time": "2019-12-09T10:40:42.518740Z"
    }
   },
   "outputs": [],
   "source": [
    "save_answers2(6714, 6702, 428249, 343665)"
   ]
  },
  {
   "cell_type": "code",
   "execution_count": 138,
   "metadata": {
    "ExecuteTime": {
     "end_time": "2019-12-09T10:40:13.659720Z",
     "start_time": "2019-12-09T10:40:13.653725Z"
    }
   },
   "outputs": [],
   "source": [
    "def save_answers2(dict_size_before, dict_size_after, corpus_size_before, corpus_size_after):\n",
    "    with open(\"cooking_LDA_pa_task2.txt\", \"w\") as fout:\n",
    "        fout.write(\" \".join([str(el) for el in [dict_size_before, dict_size_after, corpus_size_before, corpus_size_after]]))"
   ]
  },
  {
   "cell_type": "markdown",
   "metadata": {},
   "source": [
    "### Сравнение когерентностей\n",
    "__Задание 3.__ Постройте еще одну модель по корпусу corpus2 и словарю dictionary2, остальные параметры оставьте такими же, как при первом построении модели. Сохраните новую модель в другую переменную (не перезаписывайте предыдущую модель). Не забудьте про фиксирование seed!\n",
    "\n",
    "Затем воспользуйтесь методом *top_topics* модели, чтобы вычислить ее когерентность. Передайте в качестве аргумента соответствующий модели корпус. Метод вернет список кортежей (топ токенов, когерентность), отсортированных по убыванию последней. Вычислите среднюю по всем темам когерентность для каждой из двух моделей и передайте в функцию save_answers3. "
   ]
  },
  {
   "cell_type": "code",
   "execution_count": 140,
   "metadata": {
    "ExecuteTime": {
     "end_time": "2019-12-09T10:43:31.841998Z",
     "start_time": "2019-12-09T10:43:21.956018Z"
    },
    "collapsed": true
   },
   "outputs": [
    {
     "data": {
      "text/plain": [
       "[(0,\n",
       "  '0.082*\"pork\" + 0.070*\"baking potatoes\" + 0.053*\"dried parsley\" + 0.035*\"jack cheese\" + 0.033*\"tomato juice\" + 0.033*\"egg noodles\" + 0.032*\"cottage cheese\" + 0.032*\"crushed garlic\" + 0.031*\"leaves\" + 0.028*\"fat free milk\"'),\n",
       " (1,\n",
       "  '0.137*\"ground beef\" + 0.068*\"cheese\" + 0.058*\"green pepper\" + 0.054*\"tortilla chips\" + 0.046*\"diced onions\" + 0.034*\"red pepper\" + 0.032*\"rice\" + 0.031*\"sweet onion\" + 0.030*\"lettuce\" + 0.029*\"slivered almonds\"'),\n",
       " (2,\n",
       "  '0.109*\"crushed red pepper flakes\" + 0.078*\"chile pepper\" + 0.050*\"fresh ginger root\" + 0.048*\"fresh spinach\" + 0.045*\"salt and ground black pepper\" + 0.029*\"beef stock\" + 0.027*\"white sugar\" + 0.027*\"dried shiitake mushrooms\" + 0.025*\"chicken wings\" + 0.025*\"chili pepper\"'),\n",
       " (3,\n",
       "  '0.125*\"dried thyme\" + 0.080*\"ground nutmeg\" + 0.073*\"ground cinnamon\" + 0.058*\"ground cloves\" + 0.052*\"ground pepper\" + 0.045*\"ground allspice\" + 0.042*\"half & half\" + 0.029*\"brandy\" + 0.025*\"white rice\" + 0.023*\"pure vanilla extract\"'),\n",
       " (4,\n",
       "  '0.099*\"cream cheese\" + 0.064*\"cornmeal\" + 0.050*\"buttermilk\" + 0.048*\"strawberries\" + 0.044*\"bananas\" + 0.042*\"yellow corn meal\" + 0.035*\"cinnamon sticks\" + 0.032*\"ground turkey\" + 0.027*\"seasoning salt\" + 0.024*\"pizza doughs\"'),\n",
       " (5,\n",
       "  '0.145*\"boneless skinless chicken breast halves\" + 0.088*\"orange juice\" + 0.071*\"sauce\" + 0.043*\"queso fresco\" + 0.035*\"apples\" + 0.029*\"Tabasco Pepper Sauce\" + 0.024*\"greens\" + 0.023*\"boiling potatoes\" + 0.022*\"chicken pieces\" + 0.020*\"beets\"'),\n",
       " (6,\n",
       "  '0.092*\"freshly ground pepper\" + 0.079*\"extra-virgin olive oil\" + 0.058*\"parmigiano reggiano cheese\" + 0.057*\"large shrimp\" + 0.047*\"kosher salt\" + 0.046*\"chopped parsley\" + 0.040*\"unsalted butter\" + 0.022*\"okra\" + 0.021*\"pecorino romano cheese\" + 0.020*\"fresh tomatoes\"'),\n",
       " (7,\n",
       "  '0.114*\"grated parmesan cheese\" + 0.044*\"fresh basil\" + 0.043*\"zucchini\" + 0.037*\"dried basil\" + 0.035*\"parmesan cheese\" + 0.034*\"dried oregano\" + 0.030*\"shredded mozzarella cheese\" + 0.028*\"fresh parsley\" + 0.026*\"ricotta cheese\" + 0.024*\"eggs\"'),\n",
       " (8,\n",
       "  '0.071*\"sliced green onions\" + 0.055*\"fresh lime juice\" + 0.040*\"rice noodles\" + 0.040*\"chopped cilantro fresh\" + 0.040*\"peeled fresh ginger\" + 0.032*\"asian fish sauce\" + 0.029*\"unsweetened coconut milk\" + 0.025*\"fresh mint\" + 0.025*\"lime wedges\" + 0.022*\"mint leaves\"'),\n",
       " (9,\n",
       "  '0.107*\"whole milk\" + 0.082*\"unsalted butter\" + 0.058*\"heavy cream\" + 0.046*\"vanilla\" + 0.046*\"grated nutmeg\" + 0.046*\"large eggs\" + 0.045*\"sweetened condensed milk\" + 0.039*\"fresh dill\" + 0.038*\"saffron\" + 0.037*\"ground cardamom\"'),\n",
       " (10,\n",
       "  '0.191*\"fat free less sodium chicken broth\" + 0.073*\"plain yogurt\" + 0.055*\"black mustard seeds\" + 0.039*\"bow-tie pasta\" + 0.031*\"instant yeast\" + 0.030*\"whole wheat tortillas\" + 0.030*\"red kidney beans\" + 0.029*\"grapeseed oil\" + 0.028*\"coconut cream\" + 0.024*\"canned tomatoes\"'),\n",
       " (11,\n",
       "  '0.106*\"coarse salt\" + 0.066*\"juice\" + 0.059*\"asparagus\" + 0.058*\"basil leaves\" + 0.039*\"fresh basil leaves\" + 0.037*\"chopped tomatoes\" + 0.026*\"extra-virgin olive oil\" + 0.026*\"tomatoes\" + 0.026*\"red curry paste\" + 0.026*\"noodles\"'),\n",
       " (12,\n",
       "  '0.081*\"milk\" + 0.075*\"baking powder\" + 0.063*\"large eggs\" + 0.061*\"eggs\" + 0.057*\"unsalted butter\" + 0.055*\"vanilla extract\" + 0.041*\"baking soda\" + 0.040*\"white sugar\" + 0.032*\"granulated sugar\" + 0.025*\"buttermilk\"'),\n",
       " (13,\n",
       "  '0.094*\"orange\" + 0.078*\"sliced mushrooms\" + 0.073*\"nutmeg\" + 0.059*\"red wine\" + 0.036*\"seasoning\" + 0.035*\"tequila\" + 0.030*\"fresh green bean\" + 0.027*\"mascarpone\" + 0.027*\"jicama\" + 0.022*\"agave nectar\"'),\n",
       " (14,\n",
       "  '0.100*\"fish sauce\" + 0.055*\"lime\" + 0.051*\"lime juice\" + 0.046*\"cilantro\" + 0.037*\"shallots\" + 0.034*\"coconut milk\" + 0.031*\"lemongrass\" + 0.027*\"peanuts\" + 0.021*\"beansprouts\" + 0.019*\"bell pepper\"'),\n",
       " (15,\n",
       "  '0.097*\"cherry tomatoes\" + 0.045*\"green cabbage\" + 0.045*\"anchovy fillets\" + 0.042*\"vegetables\" + 0.034*\"chili flakes\" + 0.034*\"garbanzo beans\" + 0.033*\"kimchi\" + 0.029*\"sugar pea\" + 0.028*\"rosemary sprigs\" + 0.026*\"kosher salt\"'),\n",
       " (16,\n",
       "  '0.080*\"fresh rosemary\" + 0.075*\"balsamic vinegar\" + 0.067*\"cooked rice\" + 0.060*\"spinach\" + 0.054*\"parsley\" + 0.039*\"dry red wine\" + 0.034*\"thyme sprigs\" + 0.034*\"reduced sodium chicken broth\" + 0.033*\"chopped fresh thyme\" + 0.027*\"fresh thyme leaves\"'),\n",
       " (17,\n",
       "  '0.098*\"garlic powder\" + 0.089*\"chili powder\" + 0.071*\"paprika\" + 0.068*\"cayenne pepper\" + 0.047*\"cumin\" + 0.042*\"ground cumin\" + 0.041*\"onion powder\" + 0.037*\"black pepper\" + 0.030*\"oregano\" + 0.029*\"dried oregano\"'),\n",
       " (18,\n",
       "  '0.062*\"ground ginger\" + 0.043*\"tomato purГ©e\" + 0.042*\"raisins\" + 0.038*\"sherry vinegar\" + 0.036*\"honey\" + 0.035*\"ground cinnamon\" + 0.034*\"golden raisins\" + 0.033*\"pork tenderloin\" + 0.033*\"hot red pepper flakes\" + 0.028*\"almonds\"'),\n",
       " (19,\n",
       "  '0.066*\"red pepper flakes\" + 0.065*\"vegetable broth\" + 0.061*\"white wine\" + 0.049*\"basil\" + 0.041*\"dry bread crumbs\" + 0.041*\"baby spinach\" + 0.038*\"chopped fresh chives\" + 0.032*\"black-eyed peas\" + 0.032*\"bread crumb fresh\" + 0.029*\"sausages\"'),\n",
       " (20,\n",
       "  '0.074*\"potatoes\" + 0.060*\"clove\" + 0.043*\"cinnamon\" + 0.040*\"chickpeas\" + 0.034*\"cinnamon sticks\" + 0.032*\"basmati rice\" + 0.031*\"mustard seeds\" + 0.029*\"cream\" + 0.024*\"cauliflower\" + 0.024*\"yoghurt\"'),\n",
       " (21,\n",
       "  '0.115*\"finely chopped onion\" + 0.100*\"chopped celery\" + 0.052*\"english cucumber\" + 0.051*\"ground pork\" + 0.043*\"fettucine\" + 0.034*\"parsley sprigs\" + 0.032*\"pork sausages\" + 0.030*\"carrots\" + 0.024*\"condensed milk\" + 0.023*\"red beans\"'),\n",
       " (22,\n",
       "  '0.136*\"flour\" + 0.129*\"oil\" + 0.066*\"white vinegar\" + 0.054*\"cold water\" + 0.043*\"cooking oil\" + 0.037*\"star anise\" + 0.036*\"eggs\" + 0.036*\"chicken thighs\" + 0.023*\"polenta\" + 0.021*\"peppercorns\"'),\n",
       " (23,\n",
       "  '0.105*\"soy sauce\" + 0.056*\"sesame oil\" + 0.044*\"green onions\" + 0.042*\"corn starch\" + 0.040*\"rice vinegar\" + 0.038*\"scallions\" + 0.030*\"ginger\" + 0.026*\"fresh ginger\" + 0.024*\"carrots\" + 0.021*\"sesame seeds\"'),\n",
       " (24,\n",
       "  '0.058*\"cumin seed\" + 0.056*\"ground turmeric\" + 0.050*\"ground cumin\" + 0.049*\"ground coriander\" + 0.046*\"garam masala\" + 0.043*\"green chilies\" + 0.043*\"ginger\" + 0.040*\"tumeric\" + 0.038*\"curry powder\" + 0.031*\"chili powder\"'),\n",
       " (25,\n",
       "  '0.079*\"chiles\" + 0.066*\"coconut milk\" + 0.061*\"ground white pepper\" + 0.059*\"coconut oil\" + 0.043*\"salmon fillets\" + 0.043*\"kale\" + 0.038*\"fontina cheese\" + 0.036*\"chile powder\" + 0.033*\"cooked chicken breasts\" + 0.032*\"swiss chard\"'),\n",
       " (26,\n",
       "  '0.075*\"bread crumbs\" + 0.072*\"beef broth\" + 0.063*\"frozen peas\" + 0.041*\"chipotles in adobo\" + 0.037*\"sharp cheddar cheese\" + 0.035*\"chipotle chile\" + 0.033*\"lard\" + 0.022*\"vidalia onion\" + 0.022*\"eggs\" + 0.020*\"white sesame seeds\"'),\n",
       " (27,\n",
       "  '0.095*\"sour cream\" + 0.059*\"flour tortillas\" + 0.059*\"salsa\" + 0.051*\"shredded cheddar cheese\" + 0.050*\"black beans\" + 0.033*\"green onions\" + 0.026*\"corn tortillas\" + 0.026*\"cheddar cheese\" + 0.023*\"avocado\" + 0.022*\"shredded Monterey Jack cheese\"'),\n",
       " (28,\n",
       "  '0.089*\"crushed tomatoes\" + 0.074*\"cilantro leaves\" + 0.056*\"tomatillos\" + 0.051*\"avocado\" + 0.039*\"mango\" + 0.036*\"green beans\" + 0.034*\"minced onion\" + 0.032*\"chili\" + 0.025*\"jasmine rice\" + 0.020*\"granny smith apples\"'),\n",
       " (29,\n",
       "  '0.127*\"mayonaise\" + 0.106*\"worcestershire sauce\" + 0.065*\"hot sauce\" + 0.064*\"ketchup\" + 0.038*\"apple cider vinegar\" + 0.032*\"beer\" + 0.032*\"brown rice\" + 0.023*\"dry mustard\" + 0.023*\"kosher salt\" + 0.022*\"cremini mushrooms\"'),\n",
       " (30,\n",
       "  '0.084*\"large egg whites\" + 0.070*\"cooking spray\" + 0.070*\"light brown sugar\" + 0.040*\"peaches\" + 0.038*\"white wine vinegar\" + 0.037*\"fresh orange juice\" + 0.034*\"margarine\" + 0.033*\"large eggs\" + 0.030*\"self rising flour\" + 0.026*\"sliced almonds\"'),\n",
       " (31,\n",
       "  '0.099*\"fresh lemon juice\" + 0.062*\"extra-virgin olive oil\" + 0.056*\"plum tomatoes\" + 0.043*\"purple onion\" + 0.037*\"eggplant\" + 0.037*\"capers\" + 0.031*\"cucumber\" + 0.029*\"tomatoes\" + 0.028*\"fresh basil\" + 0.027*\"feta cheese crumbles\"'),\n",
       " (32,\n",
       "  '0.063*\"pasta\" + 0.052*\"mozzarella cheese\" + 0.052*\"russet potatoes\" + 0.048*\"mushrooms\" + 0.048*\"prosciutto\" + 0.043*\"chives\" + 0.043*\"roasted red peppers\" + 0.038*\"beef\" + 0.034*\"couscous\" + 0.032*\"extra-virgin olive oil\"'),\n",
       " (33,\n",
       "  '0.087*\"jalapeno chilies\" + 0.080*\"chopped cilantro fresh\" + 0.052*\"ground cumin\" + 0.043*\"purple onion\" + 0.042*\"white onion\" + 0.037*\"fresh lime juice\" + 0.033*\"corn tortillas\" + 0.032*\"avocado\" + 0.028*\"red bell pepper\" + 0.027*\"kosher salt\"'),\n",
       " (34,\n",
       "  '0.084*\"peas\" + 0.071*\"ice water\" + 0.058*\"ground cayenne pepper\" + 0.044*\"marjoram\" + 0.042*\"pineapple\" + 0.039*\"dough\" + 0.033*\"angel hair\" + 0.032*\"fat free yogurt\" + 0.031*\"pizza sauce\" + 0.031*\"coarse sea salt\"'),\n",
       " (35,\n",
       "  '0.107*\"carrots\" + 0.087*\"dry white wine\" + 0.039*\"chicken\" + 0.037*\"bay leaf\" + 0.034*\"shallots\" + 0.032*\"leeks\" + 0.030*\"flat leaf parsley\" + 0.026*\"cabbage\" + 0.025*\"fresh thyme\" + 0.024*\"arborio rice\"'),\n",
       " (36,\n",
       "  '0.216*\"chopped onion\" + 0.070*\"cajun seasoning\" + 0.040*\"white pepper\" + 0.039*\"chopped green bell pepper\" + 0.037*\"low salt chicken broth\" + 0.030*\"green onions\" + 0.028*\"vegetable oil cooking spray\" + 0.023*\"maple syrup\" + 0.020*\"minced garlic\" + 0.020*\"hot pepper sauce\"'),\n",
       " (37,\n",
       "  '0.110*\"bacon\" + 0.064*\"whipping cream\" + 0.055*\"dark brown sugar\" + 0.048*\"garlic salt\" + 0.039*\"bacon slices\" + 0.037*\"ham\" + 0.034*\"pancetta\" + 0.032*\"collard greens\" + 0.029*\"stewed tomatoes\" + 0.024*\"marsala wine\"'),\n",
       " (38,\n",
       "  '0.134*\"warm water\" + 0.089*\"active dry yeast\" + 0.085*\"cider vinegar\" + 0.046*\"yukon gold potatoes\" + 0.045*\"bread flour\" + 0.034*\"provolone cheese\" + 0.033*\"broccoli\" + 0.032*\"part-skim ricotta cheese\" + 0.031*\"sweet paprika\" + 0.030*\"dry yeast\"'),\n",
       " (39,\n",
       "  '0.114*\"green bell pepper\" + 0.073*\"red wine vinegar\" + 0.043*\"red bell pepper\" + 0.039*\"celery\" + 0.034*\"boneless chicken skinless thigh\" + 0.033*\"celery ribs\" + 0.028*\"fine sea salt\" + 0.028*\"shrimp\" + 0.028*\"hot water\" + 0.026*\"creole seasoning\"')]"
      ]
     },
     "execution_count": 140,
     "metadata": {},
     "output_type": "execute_result"
    }
   ],
   "source": [
    "np.random.seed(76543)\n",
    "# здесь код для построения модели:\n",
    "lda_model2 = models.LdaModel(corpus=corpus2, num_topics=40, iterations=5, id2word=dictionary2)\n",
    "top_words2 = lda_model.show_topics(num_topics=40, num_words=10, formatted=False)\n",
    "lda_model2.show_topics(num_topics=40, num_words=10, formatted=True)"
   ]
  },
  {
   "cell_type": "code",
   "execution_count": 156,
   "metadata": {
    "ExecuteTime": {
     "end_time": "2019-12-09T10:52:00.650187Z",
     "start_time": "2019-12-09T10:51:59.308010Z"
    }
   },
   "outputs": [
    {
     "name": "stdout",
     "output_type": "stream",
     "text": [
      "Когерентность модели №1, -5.316018721763305\n",
      "Когерентность модели №2, -8.978687777035283\n"
     ]
    }
   ],
   "source": [
    "print(\"Когерентность модели №1,\", np.mean([i[1] for i in lda_model.top_topics(corpus=corpus)]))\n",
    "print(\"Когерентность модели №2,\", np.mean([i[1] for i in lda_model2.top_topics(corpus=corpus2)]))"
   ]
  },
  {
   "cell_type": "code",
   "execution_count": 158,
   "metadata": {
    "ExecuteTime": {
     "end_time": "2019-12-09T10:52:55.255498Z",
     "start_time": "2019-12-09T10:52:55.250499Z"
    }
   },
   "outputs": [],
   "source": [
    "save_answers3(-5.316018721763305, -8.978687777035283)"
   ]
  },
  {
   "cell_type": "code",
   "execution_count": 157,
   "metadata": {
    "ExecuteTime": {
     "end_time": "2019-12-09T10:52:28.030196Z",
     "start_time": "2019-12-09T10:52:28.025199Z"
    }
   },
   "outputs": [],
   "source": [
    "def save_answers3(coherence, coherence2):\n",
    "    with open(\"cooking_LDA_pa_task3.txt\", \"w\") as fout:\n",
    "        fout.write(\" \".join([\"%3f\"%el for el in [coherence, coherence2]]))"
   ]
  },
  {
   "cell_type": "markdown",
   "metadata": {},
   "source": [
    "Считается, что когерентность хорошо соотносится с человеческими оценками интерпретируемости тем. Поэтому на больших текстовых коллекциях когерентность обычно повышается, если убрать фоновую лексику. Однако в нашем случае этого не произошло. "
   ]
  },
  {
   "cell_type": "markdown",
   "metadata": {},
   "source": [
    "### Изучение влияния гиперпараметра alpha"
   ]
  },
  {
   "cell_type": "markdown",
   "metadata": {},
   "source": [
    "В этом разделе мы будем работать со второй моделью, то есть той, которая построена по сокращенному корпусу. \n",
    "\n",
    "Пока что мы посмотрели только на матрицу темы-слова, теперь давайте посмотрим на матрицу темы-документы. Выведите темы для нулевого (или любого другого) документа из корпуса, воспользовавшись методом *get_document_topics* второй модели:"
   ]
  },
  {
   "cell_type": "code",
   "execution_count": 168,
   "metadata": {
    "ExecuteTime": {
     "end_time": "2019-12-09T10:58:34.910003Z",
     "start_time": "2019-12-09T10:58:34.904005Z"
    }
   },
   "outputs": [
    {
     "data": {
      "text/plain": [
       "[(13, 0.1296169), (15, 0.12942241), (31, 0.62533325)]"
      ]
     },
     "execution_count": 168,
     "metadata": {},
     "output_type": "execute_result"
    }
   ],
   "source": [
    "lda_model2.get_document_topics(bow=corpus2)[0]"
   ]
  },
  {
   "cell_type": "markdown",
   "metadata": {},
   "source": [
    "Также выведите содержимое переменной *.alpha* второй модели:"
   ]
  },
  {
   "cell_type": "code",
   "execution_count": 167,
   "metadata": {
    "ExecuteTime": {
     "end_time": "2019-12-09T10:57:48.348907Z",
     "start_time": "2019-12-09T10:57:48.342909Z"
    }
   },
   "outputs": [
    {
     "data": {
      "text/plain": [
       "array([0.025, 0.025, 0.025, 0.025, 0.025, 0.025, 0.025, 0.025, 0.025,\n",
       "       0.025, 0.025, 0.025, 0.025, 0.025, 0.025, 0.025, 0.025, 0.025,\n",
       "       0.025, 0.025, 0.025, 0.025, 0.025, 0.025, 0.025, 0.025, 0.025,\n",
       "       0.025, 0.025, 0.025, 0.025, 0.025, 0.025, 0.025, 0.025, 0.025,\n",
       "       0.025, 0.025, 0.025, 0.025], dtype=float32)"
      ]
     },
     "execution_count": 167,
     "metadata": {},
     "output_type": "execute_result"
    }
   ],
   "source": [
    "lda_model2.alpha"
   ]
  },
  {
   "cell_type": "markdown",
   "metadata": {},
   "source": [
    "У вас должно получиться, что документ характеризуется небольшим числом тем. Попробуем поменять гиперпараметр alpha, задающий априорное распределение Дирихле для распределений тем в документах."
   ]
  },
  {
   "cell_type": "markdown",
   "metadata": {},
   "source": [
    "__Задание 4.__ Обучите третью модель: используйте сокращенный корпус (corpus2 и dictionary2) и установите параметр __alpha=1__, passes=5. Не забудьте про фиксацию seed! Выведите темы новой модели для нулевого документа; должно получиться, что распределение над множеством тем практически равномерное. Чтобы убедиться в том, что во второй модели документы описываются гораздо более разреженными распределениями, чем в третьей, посчитайте суммарное количество элементов, __превосходящих 0.01__, в матрицах темы-документы обеих моделей. Другими словами, запросите темы  модели для каждого документа с параметром *minimum_probability=0.01* и просуммируйте число элементов в получаемых массивах. Передайте две суммы (сначала для модели с alpha по умолчанию, затем для модели в alpha=1) в функцию save_answers4."
   ]
  },
  {
   "cell_type": "code",
   "execution_count": 169,
   "metadata": {
    "ExecuteTime": {
     "end_time": "2019-12-09T11:30:53.804577Z",
     "start_time": "2019-12-09T11:30:06.406492Z"
    },
    "collapsed": true
   },
   "outputs": [
    {
     "data": {
      "text/plain": [
       "[(0,\n",
       "  '0.089*\"canola oil\" + 0.072*\"kosher salt\" + 0.060*\"chile pepper\" + 0.057*\"boneless chicken skinless thigh\" + 0.049*\"bread crumbs\" + 0.038*\"flank steak\" + 0.035*\"chiles\" + 0.022*\"mussels\" + 0.022*\"red pepper flakes\" + 0.021*\"boneless skinless chicken breast halves\"'),\n",
       " (1,\n",
       "  '0.168*\"ground cinnamon\" + 0.085*\"ground nutmeg\" + 0.060*\"raisins\" + 0.058*\"ground cloves\" + 0.041*\"dark brown sugar\" + 0.038*\"eggs\" + 0.036*\"garlic salt\" + 0.031*\"shortening\" + 0.028*\"anchovy fillets\" + 0.028*\"boiling water\"'),\n",
       " (2,\n",
       "  '0.064*\"ground turmeric\" + 0.062*\"cumin seed\" + 0.060*\"garam masala\" + 0.049*\"tumeric\" + 0.048*\"green chilies\" + 0.043*\"cinnamon sticks\" + 0.040*\"clove\" + 0.038*\"oil\" + 0.030*\"coriander\" + 0.029*\"ginger\"'),\n",
       " (3,\n",
       "  '0.114*\"white onion\" + 0.077*\"coarse salt\" + 0.049*\"large garlic cloves\" + 0.035*\"bananas\" + 0.034*\"kosher salt\" + 0.032*\"fresh orange juice\" + 0.026*\"poblano chiles\" + 0.025*\"ground pepper\" + 0.024*\"ancho chile pepper\" + 0.024*\"beef stock\"'),\n",
       " (4,\n",
       "  '0.175*\"garlic powder\" + 0.077*\"ground beef\" + 0.067*\"onion powder\" + 0.060*\"shredded mozzarella cheese\" + 0.051*\"ricotta cheese\" + 0.046*\"eggs\" + 0.044*\"cornmeal\" + 0.040*\"tomato sauce\" + 0.039*\"dried oregano\" + 0.036*\"pasta sauce\"'),\n",
       " (5,\n",
       "  '0.232*\"milk\" + 0.212*\"eggs\" + 0.120*\"white sugar\" + 0.041*\"grated lemon zest\" + 0.037*\"egg whites\" + 0.031*\"vanilla\" + 0.027*\"feta cheese\" + 0.024*\"evaporated milk\" + 0.021*\"self rising flour\" + 0.019*\"heavy cream\"'),\n",
       " (6,\n",
       "  '0.170*\"unsalted butter\" + 0.156*\"large eggs\" + 0.048*\"orange juice\" + 0.041*\"orange\" + 0.037*\"chopped pecans\" + 0.036*\"grated nutmeg\" + 0.035*\"sweetened condensed milk\" + 0.031*\"peaches\" + 0.026*\"bourbon whiskey\" + 0.025*\"brandy\"'),\n",
       " (7,\n",
       "  '0.213*\"grated parmesan cheese\" + 0.067*\"parmesan cheese\" + 0.046*\"italian seasoning\" + 0.038*\"spaghetti\" + 0.038*\"fresh basil\" + 0.036*\"dry bread crumbs\" + 0.034*\"pasta\" + 0.030*\"marinara sauce\" + 0.029*\"mozzarella cheese\" + 0.025*\"salt and ground black pepper\"'),\n",
       " (8,\n",
       "  '0.093*\"chicken breasts\" + 0.072*\"chili powder\" + 0.061*\"oregano\" + 0.057*\"chicken\" + 0.042*\"cumin\" + 0.038*\"enchilada sauce\" + 0.030*\"chopped tomatoes\" + 0.026*\"rice\" + 0.022*\"shredded cheese\" + 0.022*\"dried parsley\"'),\n",
       " (9,\n",
       "  '0.084*\"cinnamon\" + 0.084*\"warm water\" + 0.082*\"honey\" + 0.063*\"light brown sugar\" + 0.044*\"fine sea salt\" + 0.031*\"golden raisins\" + 0.031*\"large eggs\" + 0.030*\"reduced sodium soy sauce\" + 0.030*\"sweet potatoes\" + 0.028*\"almonds\"'),\n",
       " (10,\n",
       "  '0.118*\"paprika\" + 0.058*\"low salt chicken broth\" + 0.057*\"diced tomatoes\" + 0.052*\"smoked paprika\" + 0.047*\"chopped parsley\" + 0.046*\"black pepper\" + 0.040*\"fresh parmesan cheese\" + 0.036*\"finely chopped onion\" + 0.029*\"fat free less sodium chicken broth\" + 0.027*\"couscous\"'),\n",
       " (11,\n",
       "  '0.076*\"crushed red pepper flakes\" + 0.071*\"minced garlic\" + 0.064*\"cheese\" + 0.049*\"tomatoes\" + 0.042*\"juice\" + 0.030*\"grits\" + 0.029*\"hot red pepper flakes\" + 0.027*\"sausages\" + 0.025*\"red pepper flakes\" + 0.024*\"kidney beans\"'),\n",
       " (12,\n",
       "  '0.089*\"vanilla extract\" + 0.084*\"baking powder\" + 0.066*\"baking soda\" + 0.058*\"granulated sugar\" + 0.052*\"whole milk\" + 0.042*\"whipping cream\" + 0.040*\"large egg yolks\" + 0.040*\"egg yolks\" + 0.036*\"unsalted butter\" + 0.034*\"powdered sugar\"'),\n",
       " (13,\n",
       "  '0.100*\"chopped cilantro\" + 0.057*\"red bell pepper\" + 0.051*\"tomatoes\" + 0.050*\"kosher salt\" + 0.044*\"corn kernels\" + 0.042*\"white wine vinegar\" + 0.038*\"yellow bell pepper\" + 0.030*\"reduced sodium chicken broth\" + 0.029*\"nutmeg\" + 0.025*\"pinto beans\"'),\n",
       " (14,\n",
       "  '0.197*\"chopped cilantro fresh\" + 0.141*\"fresh lime juice\" + 0.087*\"curry powder\" + 0.070*\"boneless skinless chicken breasts\" + 0.068*\"peeled fresh ginger\" + 0.038*\"serrano chile\" + 0.037*\"chopped fresh mint\" + 0.024*\"lettuce leaves\" + 0.020*\"green onions\" + 0.018*\"light coconut milk\"'),\n",
       " (15,\n",
       "  '0.101*\"kosher salt\" + 0.060*\"hoisin sauce\" + 0.058*\"green onions\" + 0.051*\"white vinegar\" + 0.047*\"toasted sesame seeds\" + 0.039*\"asparagus\" + 0.028*\"dry sherry\" + 0.020*\"shredded carrots\" + 0.019*\"sugar pea\" + 0.018*\"gingerroot\"'),\n",
       " (16,\n",
       "  '0.167*\"lemon\" + 0.059*\"chickpeas\" + 0.052*\"frozen peas\" + 0.050*\"spinach\" + 0.032*\"saffron threads\" + 0.031*\"vegetable stock\" + 0.022*\"bread\" + 0.022*\"salmon fillets\" + 0.022*\"plain flour\" + 0.022*\"button mushrooms\"'),\n",
       " (17,\n",
       "  '0.075*\"ground red pepper\" + 0.062*\"sliced green onions\" + 0.050*\"red bell pepper\" + 0.045*\"fresh mushrooms\" + 0.040*\"green onions\" + 0.037*\"chili powder\" + 0.027*\"ground turkey\" + 0.026*\"frozen corn\" + 0.026*\"fat free less sodium chicken broth\" + 0.025*\"green peas\"'),\n",
       " (18,\n",
       "  '0.127*\"bay leaves\" + 0.093*\"dried thyme\" + 0.060*\"celery ribs\" + 0.048*\"green bell pepper\" + 0.039*\"chicken thighs\" + 0.039*\"medium shrimp\" + 0.036*\"black peppercorns\" + 0.036*\"chopped celery\" + 0.034*\"creole seasoning\" + 0.031*\"andouille sausage\"'),\n",
       " (19,\n",
       "  '0.092*\"zucchini\" + 0.080*\"fresh basil\" + 0.050*\"vegetable broth\" + 0.048*\"balsamic vinegar\" + 0.048*\"dried basil\" + 0.042*\"green beans\" + 0.030*\"dried oregano\" + 0.028*\"green cabbage\" + 0.026*\"fennel bulb\" + 0.024*\"slivered almonds\"'),\n",
       " (20,\n",
       "  '0.131*\"potatoes\" + 0.091*\"sea salt\" + 0.070*\"purple onion\" + 0.054*\"cider vinegar\" + 0.049*\"tomatoes\" + 0.044*\"cream\" + 0.031*\"coconut oil\" + 0.022*\"corn oil\" + 0.022*\"green olives\" + 0.021*\"rice\"'),\n",
       " (21,\n",
       "  '0.247*\"carrots\" + 0.110*\"rice vinegar\" + 0.049*\"sesame seeds\" + 0.047*\"cabbage\" + 0.044*\"low sodium soy sauce\" + 0.035*\"green onions\" + 0.034*\"shiitake\" + 0.031*\"Sriracha\" + 0.026*\"toasted sesame oil\" + 0.024*\"dark sesame oil\"'),\n",
       " (22,\n",
       "  '0.272*\"soy sauce\" + 0.132*\"sesame oil\" + 0.091*\"scallions\" + 0.040*\"corn starch\" + 0.040*\"ground pork\" + 0.039*\"peanut oil\" + 0.036*\"oyster sauce\" + 0.025*\"ginger\" + 0.021*\"pork\" + 0.019*\"firm tofu\"'),\n",
       " (23,\n",
       "  '0.170*\"fresh ginger\" + 0.056*\"ground ginger\" + 0.055*\"corn starch\" + 0.053*\"honey\" + 0.043*\"brown sugar\" + 0.042*\"white pepper\" + 0.041*\"green onions\" + 0.032*\"fresh ginger root\" + 0.031*\"vinegar\" + 0.028*\"rice wine\"'),\n",
       " (24,\n",
       "  '0.147*\"jalapeno chilies\" + 0.119*\"lime\" + 0.104*\"cilantro\" + 0.098*\"lime juice\" + 0.080*\"avocado\" + 0.070*\"fresh cilantro\" + 0.051*\"cilantro leaves\" + 0.043*\"lime wedges\" + 0.029*\"tomatillos\" + 0.023*\"radishes\"'),\n",
       " (25,\n",
       "  '0.104*\"worcestershire sauce\" + 0.072*\"ketchup\" + 0.065*\"hot sauce\" + 0.042*\"diced onions\" + 0.039*\"sliced mushrooms\" + 0.029*\"green onions\" + 0.027*\"green bell pepper\" + 0.025*\"butternut squash\" + 0.024*\"minced garlic\" + 0.023*\"smoked sausage\"'),\n",
       " (26,\n",
       "  '0.269*\"ground cumin\" + 0.063*\"chili powder\" + 0.062*\"lemon juice\" + 0.057*\"ground coriander\" + 0.055*\"cayenne pepper\" + 0.041*\"green pepper\" + 0.031*\"okra\" + 0.027*\"tomatoes\" + 0.027*\"paprika\" + 0.024*\"baking potatoes\"'),\n",
       " (27,\n",
       "  '0.223*\"extra-virgin olive oil\" + 0.124*\"fresh lemon juice\" + 0.049*\"cherry tomatoes\" + 0.044*\"dry white wine\" + 0.038*\"unsalted butter\" + 0.029*\"fresh dill\" + 0.028*\"cauliflower\" + 0.025*\"dijon mustard\" + 0.025*\"yukon gold potatoes\" + 0.025*\"sherry vinegar\"'),\n",
       " (28,\n",
       "  '0.083*\"crushed tomatoes\" + 0.066*\"large shrimp\" + 0.050*\"ground allspice\" + 0.044*\"long grain white rice\" + 0.041*\"baby spinach\" + 0.034*\"tomatoes\" + 0.034*\"thyme sprigs\" + 0.032*\"cilantro sprigs\" + 0.023*\"chicken broth\" + 0.021*\"chicken stock\"'),\n",
       " (29,\n",
       "  '0.058*\"bay leaf\" + 0.053*\"freshly ground pepper\" + 0.053*\"fresh parsley\" + 0.049*\"thyme\" + 0.043*\"dry red wine\" + 0.042*\"parsley\" + 0.040*\"white wine\" + 0.037*\"beef broth\" + 0.032*\"basil\" + 0.029*\"chopped fresh chives\"'),\n",
       " (30,\n",
       "  '0.116*\"sour cream\" + 0.075*\"corn tortillas\" + 0.073*\"black beans\" + 0.071*\"salsa\" + 0.070*\"flour tortillas\" + 0.062*\"shredded cheddar cheese\" + 0.032*\"cumin\" + 0.027*\"chili powder\" + 0.026*\"shredded Monterey Jack cheese\" + 0.025*\"tortilla chips\"'),\n",
       " (31,\n",
       "  '0.074*\"capers\" + 0.043*\"red wine vinegar\" + 0.035*\"lemon wedge\" + 0.035*\"grape tomatoes\" + 0.035*\"pitted kalamata olives\" + 0.033*\"cannellini beans\" + 0.027*\"purple onion\" + 0.026*\"provolone cheese\" + 0.024*\"cream cheese, soften\" + 0.024*\"fresh tomatoes\"'),\n",
       " (32,\n",
       "  '0.066*\"cajun seasoning\" + 0.054*\"pinenuts\" + 0.044*\"russet potatoes\" + 0.041*\"prosciutto\" + 0.039*\"lemon zest\" + 0.038*\"black pepper\" + 0.037*\"roma tomatoes\" + 0.037*\"roasted red peppers\" + 0.032*\"lasagna noodles\" + 0.030*\"minced onion\"'),\n",
       " (33,\n",
       "  '0.093*\"ginger\" + 0.068*\"corn starch\" + 0.062*\"scallions\" + 0.054*\"mirin\" + 0.044*\"oil\" + 0.043*\"light soy sauce\" + 0.037*\"sake\" + 0.035*\"dark soy sauce\" + 0.034*\"green onions\" + 0.032*\"Shaoxing wine\"'),\n",
       " (34,\n",
       "  '0.160*\"flour\" + 0.099*\"buttermilk\" + 0.071*\"cold water\" + 0.040*\"baking powder\" + 0.039*\"half & half\" + 0.031*\"eggs\" + 0.028*\"sweet onion\" + 0.026*\"large eggs\" + 0.025*\"brown sugar\" + 0.020*\"green onions\"'),\n",
       " (35,\n",
       "  '0.101*\"tomato paste\" + 0.078*\"flat leaf parsley\" + 0.057*\"fresh rosemary\" + 0.051*\"dry white wine\" + 0.043*\"parmigiano reggiano cheese\" + 0.037*\"extra-virgin olive oil\" + 0.037*\"chopped fresh thyme\" + 0.036*\"arborio rice\" + 0.032*\"baguette\" + 0.030*\"leeks\"'),\n",
       " (36,\n",
       "  '0.164*\"cooking spray\" + 0.159*\"chopped onion\" + 0.059*\"crushed red pepper\" + 0.036*\"cream cheese\" + 0.030*\"chopped green bell pepper\" + 0.029*\"part-skim mozzarella cheese\" + 0.028*\"vegetable oil cooking spray\" + 0.026*\"yellow corn meal\" + 0.024*\"hot water\" + 0.021*\"large egg whites\"'),\n",
       " (37,\n",
       "  '0.114*\"shrimp\" + 0.103*\"celery\" + 0.076*\"bacon\" + 0.064*\"yellow onion\" + 0.051*\"chicken broth\" + 0.050*\"ground white pepper\" + 0.040*\"beef\" + 0.031*\"white rice\" + 0.027*\"brown rice\" + 0.022*\"beer\"'),\n",
       " (38,\n",
       "  '0.127*\"shallots\" + 0.112*\"fish sauce\" + 0.081*\"coconut milk\" + 0.044*\"red chili peppers\" + 0.041*\"beansprouts\" + 0.038*\"peanuts\" + 0.034*\"lemongrass\" + 0.023*\"rice noodles\" + 0.021*\"mint leaves\" + 0.021*\"fresh mint\"'),\n",
       " (39,\n",
       "  '0.091*\"mayonaise\" + 0.068*\"cucumber\" + 0.066*\"tomatoes\" + 0.049*\"feta cheese crumbles\" + 0.049*\"green bell pepper\" + 0.038*\"romaine lettuce\" + 0.037*\"long-grain rice\" + 0.036*\"red wine vinegar\" + 0.034*\"lemon juice\" + 0.033*\"apple cider vinegar\"')]"
      ]
     },
     "execution_count": 169,
     "metadata": {},
     "output_type": "execute_result"
    }
   ],
   "source": [
    "np.random.seed(76543)\n",
    "# здесь код для построения модели:\n",
    "lda_model3 = models.LdaModel(corpus=corpus2, num_topics=40, iterations=5, id2word=dictionary2, alpha=1, passes=5)\n",
    "top_words3 = lda_model.show_topics(num_topics=40, num_words=10, formatted=False)\n",
    "lda_model3.show_topics(num_topics=40, num_words=10, formatted=True)"
   ]
  },
  {
   "cell_type": "code",
   "execution_count": 175,
   "metadata": {
    "ExecuteTime": {
     "end_time": "2019-12-09T11:35:33.299205Z",
     "start_time": "2019-12-09T11:35:08.565737Z"
    }
   },
   "outputs": [
    {
     "data": {
      "text/plain": [
       "(194090, 1590960)"
      ]
     },
     "execution_count": 175,
     "metadata": {},
     "output_type": "execute_result"
    }
   ],
   "source": [
    "count_without_alpha = sum([len(x) for x in lda_model2.get_document_topics(bow=corpus2, minimum_probability=0.01)])\n",
    "count_with_alpha = sum([len(x) for x in lda_model3.get_document_topics(bow=corpus2, minimum_probability=0.01)])\n",
    "count_without_alpha, count_with_alpha"
   ]
  },
  {
   "cell_type": "code",
   "execution_count": 177,
   "metadata": {
    "ExecuteTime": {
     "end_time": "2019-12-09T11:35:38.043155Z",
     "start_time": "2019-12-09T11:35:38.038159Z"
    },
    "scrolled": true
   },
   "outputs": [],
   "source": [
    "save_answers4(count_without_alpha, count_with_alpha)"
   ]
  },
  {
   "cell_type": "code",
   "execution_count": 176,
   "metadata": {
    "ExecuteTime": {
     "end_time": "2019-12-09T11:35:33.309198Z",
     "start_time": "2019-12-09T11:35:33.302203Z"
    }
   },
   "outputs": [],
   "source": [
    "def save_answers4(count_model2, count_model3):\n",
    "    with open(\"cooking_LDA_pa_task4.txt\", \"w\") as fout:\n",
    "        fout.write(\" \".join([str(el) for el in [count_model2, count_model3]]))"
   ]
  },
  {
   "cell_type": "markdown",
   "metadata": {},
   "source": [
    "Таким образом, гиперпараметр __alpha__ влияет на разреженность распределений тем в документах. Аналогично гиперпараметр __eta__ влияет на разреженность распределений слов в темах."
   ]
  },
  {
   "cell_type": "markdown",
   "metadata": {},
   "source": [
    "### LDA как способ понижения размерности\n",
    "Иногда, распределения над темами, найденные с помощью LDA, добавляют в матрицу объекты-признаки как дополнительные, семантические, признаки, и это может улучшить качество решения задачи. Для простоты давайте просто обучим классификатор рецептов на кухни на признаках, полученных из LDA, и измерим точность (accuracy).\n",
    "\n",
    "__Задание 5.__ Используйте модель, построенную по сокращенной выборке с alpha по умолчанию (вторую модель). Составьте матрицу $\\Theta = p(t|d)$ вероятностей тем в документах; вы можете использовать тот же метод get_document_topics, а также вектор правильных ответов y (в том же порядке, в котором рецепты идут в переменной recipes). Создайте объект RandomForestClassifier со 100 деревьями, с помощью функции cross_val_score вычислите среднюю accuracy по трем фолдам (перемешивать данные не нужно) и передайте в функцию save_answers5."
   ]
  },
  {
   "cell_type": "code",
   "execution_count": 178,
   "metadata": {
    "ExecuteTime": {
     "end_time": "2019-12-09T11:39:24.197086Z",
     "start_time": "2019-12-09T11:39:23.764322Z"
    }
   },
   "outputs": [],
   "source": [
    "from sklearn.ensemble import RandomForestClassifier\n",
    "from sklearn.model_selection import cross_val_score"
   ]
  },
  {
   "cell_type": "code",
   "execution_count": 220,
   "metadata": {
    "ExecuteTime": {
     "end_time": "2019-12-09T13:28:27.717946Z",
     "start_time": "2019-12-09T13:27:12.755636Z"
    }
   },
   "outputs": [],
   "source": [
    "y = [recipe[\"cuisine\"] for recipe in recipes]\n",
    "\n",
    "theta = (lda_model2.get_document_topics(corpus2[0],minimum_probability = 0))\n",
    "THETA = np.array(list(map(lambda x: x[1], theta)))\n",
    "for i in range(1, len(corpus2)):\n",
    "    THETA = np.vstack((THETA,np.array(list(map(lambda x: x[1], lda_model2.get_document_topics(corpus2[i], minimum_probability = 0))))))"
   ]
  },
  {
   "cell_type": "code",
   "execution_count": 221,
   "metadata": {
    "ExecuteTime": {
     "end_time": "2019-12-09T13:29:18.478710Z",
     "start_time": "2019-12-09T13:28:27.722938Z"
    }
   },
   "outputs": [
    {
     "data": {
      "text/plain": [
       "0.5545327621176855"
      ]
     },
     "execution_count": 221,
     "metadata": {},
     "output_type": "execute_result"
    }
   ],
   "source": [
    "clf = RandomForestClassifier(n_estimators = 100)\n",
    "scores = cross_val_score(clf,THETA,y, cv=3)\n",
    "np.mean(scores)"
   ]
  },
  {
   "cell_type": "code",
   "execution_count": 222,
   "metadata": {
    "ExecuteTime": {
     "end_time": "2019-12-09T13:29:18.489702Z",
     "start_time": "2019-12-09T13:29:18.480707Z"
    }
   },
   "outputs": [],
   "source": [
    "def save_answers5(accuracy):\n",
    "     with open(\"cooking_LDA_pa_task5.txt\", \"w\") as fout:\n",
    "        fout.write(str(accuracy))"
   ]
  },
  {
   "cell_type": "code",
   "execution_count": 223,
   "metadata": {
    "ExecuteTime": {
     "end_time": "2019-12-09T13:29:18.502694Z",
     "start_time": "2019-12-09T13:29:18.491701Z"
    }
   },
   "outputs": [],
   "source": [
    "save_answers5(np.mean(scores))"
   ]
  },
  {
   "cell_type": "markdown",
   "metadata": {},
   "source": [
    "Для такого большого количества классов это неплохая точность. Вы можете попроовать обучать RandomForest на исходной матрице частот слов, имеющей значительно большую размерность, и увидеть, что accuracy увеличивается на 10–15%. Таким образом, LDA собрал не всю, но достаточно большую часть информации из выборки, в матрице низкого ранга."
   ]
  },
  {
   "cell_type": "markdown",
   "metadata": {},
   "source": [
    "### LDA — вероятностная модель\n",
    "Матричное разложение, использующееся в LDA, интерпретируется как следующий процесс генерации документов.\n",
    "\n",
    "Для документа $d$ длины $n_d$:\n",
    "1. Из априорного распределения Дирихле с параметром alpha сгенерировать распределение над множеством тем: $\\theta_d \\sim Dirichlet(\\alpha)$\n",
    "1. Для каждого слова $w = 1, \\dots, n_d$:\n",
    "    1. Сгенерировать тему из дискретного распределения $t \\sim \\theta_{d}$\n",
    "    1. Сгенерировать слово из дискретного распределения $w \\sim \\phi_{t}$.\n",
    "    \n",
    "Подробнее об этом в [Википедии](https://en.wikipedia.org/wiki/Latent_Dirichlet_allocation).\n",
    "\n",
    "В контексте нашей задачи получается, что, используя данный генеративный процесс, можно создавать новые рецепты. Вы можете передать в функцию модель и число ингредиентов и сгенерировать рецепт :)"
   ]
  },
  {
   "cell_type": "code",
   "execution_count": 273,
   "metadata": {
    "ExecuteTime": {
     "end_time": "2019-12-09T13:46:30.008704Z",
     "start_time": "2019-12-09T13:46:29.992714Z"
    }
   },
   "outputs": [],
   "source": [
    "def generate_recipe(model, num_ingredients):\n",
    "    theta = np.random.dirichlet(model.alpha)\n",
    "    items = []\n",
    "    for i in range(num_ingredients):\n",
    "        t = np.random.choice(np.arange(model.num_topics), p=theta)\n",
    "        topic = model.show_topic(t, topn=model.num_terms)\n",
    "        topic_distr = [x[1] for x in topic]\n",
    "        terms = [x[0] for x in topic]\n",
    "        w = np.random.choice(terms, p=topic_distr)\n",
    "        if w not in items:\n",
    "            items.append(w)\n",
    "    \n",
    "    return items"
   ]
  },
  {
   "cell_type": "code",
   "execution_count": 277,
   "metadata": {
    "ExecuteTime": {
     "end_time": "2019-12-09T13:46:38.741517Z",
     "start_time": "2019-12-09T13:46:37.308399Z"
    }
   },
   "outputs": [
    {
     "name": "stdout",
     "output_type": "stream",
     "text": [
      "['bacon slices', 'shredded cheddar cheese', 'fresh mozzarella', 'ham', 'carrots', 'boiling water', 'starch', 'fresh basil leaves', 'sausage links', 'shredded swiss cheese']\n",
      "10\n",
      "56\n"
     ]
    }
   ],
   "source": [
    "counter = 0\n",
    "while True:\n",
    "    try:\n",
    "        items = generate_recipe(lda_model2, 10)\n",
    "        print(items)\n",
    "        print(len(items))\n",
    "        break\n",
    "    except: \n",
    "        counter += 1\n",
    "        continue\n",
    "\n",
    "print(counter)"
   ]
  },
  {
   "cell_type": "markdown",
   "metadata": {},
   "source": [
    "### Интерпретация построенной модели\n",
    "Вы можете рассмотреть топы ингредиентов каждой темы. Большиснтво тем сами по себе похожи на рецепты; в некоторых собираются продукты одного вида, например, свежие фрукты или разные виды сыра.\n",
    "\n",
    "Попробуем эмпирически соотнести наши темы с национальными кухнями (cuisine). Построим матрицу $A$ размера темы $x$ кухни, ее элементы $a_{tc}$ — суммы $p(t|d)$ по всем документам $d$, которые отнесены к кухне $c$. Нормируем матрицу на частоты рецептов по разным кухням, чтобы избежать дисбаланса между кухнями. Следующая функция получает на вход объект модели, объект корпуса и исходные данные и возвращает нормированную матрицу $A$. Ее удобно визуализировать с помощью seaborn."
   ]
  },
  {
   "cell_type": "code",
   "execution_count": 278,
   "metadata": {
    "ExecuteTime": {
     "end_time": "2019-12-09T13:47:13.690338Z",
     "start_time": "2019-12-09T13:47:12.192086Z"
    }
   },
   "outputs": [],
   "source": [
    "import pandas\n",
    "import seaborn\n",
    "from matplotlib import pyplot as plt\n",
    "%matplotlib inline"
   ]
  },
  {
   "cell_type": "code",
   "execution_count": 279,
   "metadata": {
    "ExecuteTime": {
     "end_time": "2019-12-09T13:47:15.885105Z",
     "start_time": "2019-12-09T13:47:15.864117Z"
    }
   },
   "outputs": [],
   "source": [
    "def compute_topic_cuisine_matrix(model, corpus, recipes):\n",
    "    # составляем вектор целевых признаков\n",
    "    targets = list(set([recipe[\"cuisine\"] for recipe in recipes]))\n",
    "    # составляем матрицу\n",
    "    tc_matrix = pandas.DataFrame(data=np.zeros((model.num_topics, len(targets))), columns=targets)\n",
    "    for recipe, bow in zip(recipes, corpus):\n",
    "        recipe_topic = model.get_document_topics(bow)\n",
    "        for t, prob in recipe_topic:\n",
    "            tc_matrix[recipe[\"cuisine\"]][t] += prob\n",
    "    # нормируем матрицу\n",
    "    target_sums = pandas.DataFrame(data=np.zeros((1, len(targets))), columns=targets)\n",
    "    for recipe in recipes:\n",
    "        target_sums[recipe[\"cuisine\"]] += 1\n",
    "    return pandas.DataFrame(tc_matrix.values/target_sums.values, columns=tc_matrix.columns)"
   ]
  },
  {
   "cell_type": "code",
   "execution_count": 280,
   "metadata": {
    "ExecuteTime": {
     "end_time": "2019-12-09T13:47:17.409396Z",
     "start_time": "2019-12-09T13:47:17.405398Z"
    }
   },
   "outputs": [],
   "source": [
    "def plot_matrix(tc_matrix):\n",
    "    plt.figure(figsize=(10, 10))\n",
    "    seaborn.heatmap(tc_matrix, square=True)"
   ]
  },
  {
   "cell_type": "code",
   "execution_count": 282,
   "metadata": {
    "ExecuteTime": {
     "end_time": "2019-12-09T14:02:28.285641Z",
     "start_time": "2019-12-09T14:01:40.052622Z"
    }
   },
   "outputs": [
    {
     "data": {
      "image/png": "[encoded data removed]",
      "text/plain": [
       "<Figure size 720x720 with 2 Axes>"
      ]
     },
     "metadata": {
      "needs_background": "light"
     },
     "output_type": "display_data"
    }
   ],
   "source": [
    "# Визуализируйте матрицу\n",
    "\n",
    "asd = compute_topic_cuisine_matrix(lda_model, corpus, recipes)\n",
    "plot_matrix(asd)"
   ]
  },
  {
   "cell_type": "markdown",
   "metadata": {},
   "source": [
    "Чем темнее квадрат в матрице, тем больше связь этой темы с данной кухней. Мы видим, что у нас есть темы, которые связаны с несколькими кухнями. Такие темы показывают набор ингредиентов, которые популярны в кухнях нескольких народов, то есть указывают на схожесть кухонь этих народов. Некоторые темы распределены по всем кухням равномерно, они показывают наборы продуктов, которые часто используются в кулинарии всех стран. "
   ]
  },
  {
   "cell_type": "markdown",
   "metadata": {},
   "source": [
    "Жаль, что в датасете нет названий рецептов, иначе темы было бы проще интерпретировать..."
   ]
  },
  {
   "cell_type": "markdown",
   "metadata": {},
   "source": [
    "### Заключение\n",
    "В этом задании вы построили несколько моделей LDA, посмотрели, на что влияют гиперпараметры модели и как можно использовать построенную модель. "
   ]
  }
 ],
 "metadata": {
  "kernelspec": {
   "display_name": "Python 3",
   "language": "python",
   "name": "python3"
  },
  "language_info": {
   "codemirror_mode": {
    "name": "ipython",
    "version": 3
   },
   "file_extension": ".py",
   "mimetype": "text/x-python",
   "name": "python",
   "nbconvert_exporter": "python",
   "pygments_lexer": "ipython3",
   "version": "3.6.4"
  },
  "toc": {
   "base_numbering": 1,
   "nav_menu": {},
   "number_sections": true,
   "sideBar": true,
   "skip_h1_title": false,
   "title_cell": "Table of Contents",
   "title_sidebar": "Contents",
   "toc_cell": true,
   "toc_position": {},
   "toc_section_display": true,
   "toc_window_display": false
  }
 },
 "nbformat": 4,
 "nbformat_minor": 1
}
