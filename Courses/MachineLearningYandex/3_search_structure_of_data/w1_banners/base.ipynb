{
 "cells": [
  {
   "cell_type": "code",
   "execution_count": 171,
   "metadata": {},
   "outputs": [],
   "source": [
    "import numpy as np\n",
    "import pandas as pd\n",
    "import matplotlib.pyplot as plt\n",
    "import seaborn as sns\n",
    "from sklearn.cluster import MeanShift\n",
    "\n",
    "import warnings\n",
    "warnings.filterwarnings(\"ignore\")\n",
    "\n",
    "from scipy.spatial import distance"
   ]
  },
  {
   "cell_type": "code",
   "execution_count": 63,
   "metadata": {},
   "outputs": [],
   "source": [
    "df = pd.read_table('data/checkins.csv', sep='|')\n",
    "df.columns = ['id', 'user_id', 'venue_id', 'latitude', 'longitude', 'created_at']\n",
    "df.replace('                   ', np.NaN, inplace=True)\n",
    "df.dropna(inplace=True)"
   ]
  },
  {
   "cell_type": "code",
   "execution_count": 64,
   "metadata": {},
   "outputs": [
    {
     "data": {
      "text/html": [
       "<div>\n",
       "<style scoped>\n",
       "    .dataframe tbody tr th:only-of-type {\n",
       "        vertical-align: middle;\n",
       "    }\n",
       "\n",
       "    .dataframe tbody tr th {\n",
       "        vertical-align: top;\n",
       "    }\n",
       "\n",
       "    .dataframe thead th {\n",
       "        text-align: right;\n",
       "    }\n",
       "</style>\n",
       "<table border=\"1\" class=\"dataframe\">\n",
       "  <thead>\n",
       "    <tr style=\"text-align: right;\">\n",
       "      <th></th>\n",
       "      <th>id</th>\n",
       "      <th>user_id</th>\n",
       "      <th>venue_id</th>\n",
       "      <th>latitude</th>\n",
       "      <th>longitude</th>\n",
       "      <th>created_at</th>\n",
       "    </tr>\n",
       "  </thead>\n",
       "  <tbody>\n",
       "    <tr>\n",
       "      <td>1</td>\n",
       "      <td>984222</td>\n",
       "      <td>15824.0</td>\n",
       "      <td>5222.0</td>\n",
       "      <td>38.8951118</td>\n",
       "      <td>-77.0363658</td>\n",
       "      <td>2012-04-21 17:43:47</td>\n",
       "    </tr>\n",
       "    <tr>\n",
       "      <td>3</td>\n",
       "      <td>984234</td>\n",
       "      <td>44652.0</td>\n",
       "      <td>5222.0</td>\n",
       "      <td>33.800745</td>\n",
       "      <td>-84.41052</td>\n",
       "      <td>2012-04-21 17:43:43</td>\n",
       "    </tr>\n",
       "    <tr>\n",
       "      <td>7</td>\n",
       "      <td>984291</td>\n",
       "      <td>105054.0</td>\n",
       "      <td>5222.0</td>\n",
       "      <td>45.5234515</td>\n",
       "      <td>-122.6762071</td>\n",
       "      <td>2012-04-21 17:39:22</td>\n",
       "    </tr>\n",
       "    <tr>\n",
       "      <td>9</td>\n",
       "      <td>984318</td>\n",
       "      <td>2146539.0</td>\n",
       "      <td>5222.0</td>\n",
       "      <td>40.764462</td>\n",
       "      <td>-111.904565</td>\n",
       "      <td>2012-04-21 17:35:46</td>\n",
       "    </tr>\n",
       "    <tr>\n",
       "      <td>10</td>\n",
       "      <td>984232</td>\n",
       "      <td>93870.0</td>\n",
       "      <td>380645.0</td>\n",
       "      <td>33.4483771</td>\n",
       "      <td>-112.0740373</td>\n",
       "      <td>2012-04-21 17:38:18</td>\n",
       "    </tr>\n",
       "    <tr>\n",
       "      <td>...</td>\n",
       "      <td>...</td>\n",
       "      <td>...</td>\n",
       "      <td>...</td>\n",
       "      <td>...</td>\n",
       "      <td>...</td>\n",
       "      <td>...</td>\n",
       "    </tr>\n",
       "    <tr>\n",
       "      <td>1021959</td>\n",
       "      <td>955561</td>\n",
       "      <td>626076.0</td>\n",
       "      <td>20073.0</td>\n",
       "      <td>40.8501002</td>\n",
       "      <td>-73.8662464</td>\n",
       "      <td>2012-04-13 09:56:48</td>\n",
       "    </tr>\n",
       "    <tr>\n",
       "      <td>1021960</td>\n",
       "      <td>955892</td>\n",
       "      <td>674797.0</td>\n",
       "      <td>2297.0</td>\n",
       "      <td>33.7489954</td>\n",
       "      <td>-84.3879824</td>\n",
       "      <td>2012-04-13 10:56:03</td>\n",
       "    </tr>\n",
       "    <tr>\n",
       "      <td>1021961</td>\n",
       "      <td>956377</td>\n",
       "      <td>845102.0</td>\n",
       "      <td>11195.0</td>\n",
       "      <td>42.7653662</td>\n",
       "      <td>-71.467566</td>\n",
       "      <td>2012-04-13 12:08:45</td>\n",
       "    </tr>\n",
       "    <tr>\n",
       "      <td>1021962</td>\n",
       "      <td>956119</td>\n",
       "      <td>1139114.0</td>\n",
       "      <td>29488.0</td>\n",
       "      <td>42.439479</td>\n",
       "      <td>-83.7438303</td>\n",
       "      <td>2012-04-13 11:36:44</td>\n",
       "    </tr>\n",
       "    <tr>\n",
       "      <td>1021964</td>\n",
       "      <td>956733</td>\n",
       "      <td>960666.0</td>\n",
       "      <td>60.0</td>\n",
       "      <td>42.331427</td>\n",
       "      <td>-83.0457538</td>\n",
       "      <td>2012-04-13 21:56:19</td>\n",
       "    </tr>\n",
       "  </tbody>\n",
       "</table>\n",
       "<p>396634 rows × 6 columns</p>\n",
       "</div>"
      ],
      "text/plain": [
       "                id    user_id  venue_id             latitude  \\\n",
       "1           984222    15824.0    5222.0          38.8951118    \n",
       "3           984234    44652.0    5222.0           33.800745    \n",
       "7           984291   105054.0    5222.0          45.5234515    \n",
       "9           984318  2146539.0    5222.0           40.764462    \n",
       "10          984232    93870.0  380645.0          33.4483771    \n",
       "...            ...        ...       ...                  ...   \n",
       "1021959    955561    626076.0   20073.0          40.8501002    \n",
       "1021960    955892    674797.0    2297.0          33.7489954    \n",
       "1021961    956377    845102.0   11195.0          42.7653662    \n",
       "1021962    956119   1139114.0   29488.0           42.439479    \n",
       "1021964    956733    960666.0      60.0           42.331427    \n",
       "\n",
       "                   longitude            created_at  \n",
       "1               -77.0363658    2012-04-21 17:43:47  \n",
       "3                 -84.41052    2012-04-21 17:43:43  \n",
       "7              -122.6762071    2012-04-21 17:39:22  \n",
       "9               -111.904565    2012-04-21 17:35:46  \n",
       "10             -112.0740373    2012-04-21 17:38:18  \n",
       "...                      ...                   ...  \n",
       "1021959         -73.8662464    2012-04-13 09:56:48  \n",
       "1021960         -84.3879824    2012-04-13 10:56:03  \n",
       "1021961          -71.467566    2012-04-13 12:08:45  \n",
       "1021962         -83.7438303    2012-04-13 11:36:44  \n",
       "1021964         -83.0457538    2012-04-13 21:56:19  \n",
       "\n",
       "[396634 rows x 6 columns]"
      ]
     },
     "execution_count": 64,
     "metadata": {},
     "output_type": "execute_result"
    }
   ],
   "source": [
    "df"
   ]
  },
  {
   "cell_type": "code",
   "execution_count": 65,
   "metadata": {},
   "outputs": [
    {
     "data": {
      "text/plain": [
       "<matplotlib.axes._subplots.AxesSubplot at 0x22802e68588>"
      ]
     },
     "execution_count": 65,
     "metadata": {},
     "output_type": "execute_result"
    },
    {
     "data": {
      "image/png": "[encoded data removed]",
      "text/plain": [
       "<Figure size 432x288 with 1 Axes>"
      ]
     },
     "metadata": {
      "needs_background": "light"
     },
     "output_type": "display_data"
    }
   ],
   "source": [
    "df[['latitude', 'longitude']].astype(float).plot.scatter(x='latitude', y='longitude')"
   ]
  },
  {
   "cell_type": "code",
   "execution_count": null,
   "metadata": {},
   "outputs": [],
   "source": []
  },
  {
   "cell_type": "code",
   "execution_count": 66,
   "metadata": {},
   "outputs": [
    {
     "data": {
      "text/plain": [
       "array([ 5,  7, 30, ..., 25, 19,  4], dtype=int64)"
      ]
     },
     "execution_count": 66,
     "metadata": {},
     "output_type": "execute_result"
    }
   ],
   "source": [
    "model = MeanShift(bandwidth=0.1, n_jobs=-1)\n",
    "model.fit_predict(df[['latitude', 'longitude']][:100000])"
   ]
  },
  {
   "cell_type": "code",
   "execution_count": 67,
   "metadata": {},
   "outputs": [
    {
     "data": {
      "text/plain": [
       "<matplotlib.axes._subplots.AxesSubplot at 0x2287e274828>"
      ]
     },
     "execution_count": 67,
     "metadata": {},
     "output_type": "execute_result"
    },
    {
     "data": {
      "image/png": "[encoded data removed]",
      "text/plain": [
       "<Figure size 432x288 with 1 Axes>"
      ]
     },
     "metadata": {
      "needs_background": "light"
     },
     "output_type": "display_data"
    }
   ],
   "source": [
    "df[['latitude', 'longitude']][:100000].astype(float).plot.scatter(x='latitude', y='longitude', c=model.labels_)"
   ]
  },
  {
   "cell_type": "code",
   "execution_count": 129,
   "metadata": {},
   "outputs": [],
   "source": [
    "df_short = df[['latitude', 'longitude']][:100000]\n",
    "df_short['pred_class'] = model.labels_\n",
    "\n",
    "value_counts = df_short['pred_class'].value_counts()\n",
    "classes_to_drop = value_counts[value_counts<=15].index \n",
    "df_final = df_short[~df_short.pred_class.isin(classes_to_drop)] # drop clusters if they have less 16 elements"
   ]
  },
  {
   "cell_type": "code",
   "execution_count": 152,
   "metadata": {},
   "outputs": [],
   "source": [
    "unique_clusters = pd.DataFrame(df_final.pred_class.unique(), columns=['cluster'])\n",
    "unique_clusters['latitude'] = [model.cluster_centers_[x][0] for x in unique_clusters['cluster']]\n",
    "unique_clusters['longitude'] = [model.cluster_centers_[x][1] for x in unique_clusters['cluster']]"
   ]
  },
  {
   "cell_type": "code",
   "execution_count": 182,
   "metadata": {},
   "outputs": [
    {
     "data": {
      "text/html": [
       "<div>\n",
       "<style scoped>\n",
       "    .dataframe tbody tr th:only-of-type {\n",
       "        vertical-align: middle;\n",
       "    }\n",
       "\n",
       "    .dataframe tbody tr th {\n",
       "        vertical-align: top;\n",
       "    }\n",
       "\n",
       "    .dataframe thead th {\n",
       "        text-align: right;\n",
       "    }\n",
       "</style>\n",
       "<table border=\"1\" class=\"dataframe\">\n",
       "  <thead>\n",
       "    <tr style=\"text-align: right;\">\n",
       "      <th></th>\n",
       "      <th>cluster</th>\n",
       "      <th>latitude</th>\n",
       "      <th>longitude</th>\n",
       "    </tr>\n",
       "  </thead>\n",
       "  <tbody>\n",
       "    <tr>\n",
       "      <td>0</td>\n",
       "      <td>5</td>\n",
       "      <td>38.886165</td>\n",
       "      <td>-77.048783</td>\n",
       "    </tr>\n",
       "    <tr>\n",
       "      <td>1</td>\n",
       "      <td>7</td>\n",
       "      <td>33.766636</td>\n",
       "      <td>-84.393289</td>\n",
       "    </tr>\n",
       "    <tr>\n",
       "      <td>2</td>\n",
       "      <td>30</td>\n",
       "      <td>45.523483</td>\n",
       "      <td>-122.676280</td>\n",
       "    </tr>\n",
       "    <tr>\n",
       "      <td>3</td>\n",
       "      <td>65</td>\n",
       "      <td>40.759600</td>\n",
       "      <td>-111.896078</td>\n",
       "    </tr>\n",
       "    <tr>\n",
       "      <td>4</td>\n",
       "      <td>1</td>\n",
       "      <td>33.449438</td>\n",
       "      <td>-112.002140</td>\n",
       "    </tr>\n",
       "    <tr>\n",
       "      <td>...</td>\n",
       "      <td>...</td>\n",
       "      <td>...</td>\n",
       "      <td>...</td>\n",
       "    </tr>\n",
       "    <tr>\n",
       "      <td>587</td>\n",
       "      <td>571</td>\n",
       "      <td>-33.050462</td>\n",
       "      <td>-71.616452</td>\n",
       "    </tr>\n",
       "    <tr>\n",
       "      <td>588</td>\n",
       "      <td>359</td>\n",
       "      <td>-8.664363</td>\n",
       "      <td>115.211340</td>\n",
       "    </tr>\n",
       "    <tr>\n",
       "      <td>589</td>\n",
       "      <td>573</td>\n",
       "      <td>50.111512</td>\n",
       "      <td>8.680506</td>\n",
       "    </tr>\n",
       "    <tr>\n",
       "      <td>590</td>\n",
       "      <td>342</td>\n",
       "      <td>42.016667</td>\n",
       "      <td>-94.376667</td>\n",
       "    </tr>\n",
       "    <tr>\n",
       "      <td>591</td>\n",
       "      <td>590</td>\n",
       "      <td>37.204643</td>\n",
       "      <td>-80.412689</td>\n",
       "    </tr>\n",
       "  </tbody>\n",
       "</table>\n",
       "<p>592 rows × 3 columns</p>\n",
       "</div>"
      ],
      "text/plain": [
       "     cluster   latitude   longitude\n",
       "0          5  38.886165  -77.048783\n",
       "1          7  33.766636  -84.393289\n",
       "2         30  45.523483 -122.676280\n",
       "3         65  40.759600 -111.896078\n",
       "4          1  33.449438 -112.002140\n",
       "..       ...        ...         ...\n",
       "587      571 -33.050462  -71.616452\n",
       "588      359  -8.664363  115.211340\n",
       "589      573  50.111512    8.680506\n",
       "590      342  42.016667  -94.376667\n",
       "591      590  37.204643  -80.412689\n",
       "\n",
       "[592 rows x 3 columns]"
      ]
     },
     "execution_count": 182,
     "metadata": {},
     "output_type": "execute_result"
    }
   ],
   "source": [
    "unique_clusters"
   ]
  },
  {
   "cell_type": "code",
   "execution_count": 155,
   "metadata": {},
   "outputs": [
    {
     "data": {
      "text/plain": [
       "<matplotlib.axes._subplots.AxesSubplot at 0x2287b0e6780>"
      ]
     },
     "execution_count": 155,
     "metadata": {},
     "output_type": "execute_result"
    },
    {
     "data": {
      "image/png": "[encoded data removed]",
      "text/plain": [
       "<Figure size 432x288 with 2 Axes>"
      ]
     },
     "metadata": {
      "needs_background": "light"
     },
     "output_type": "display_data"
    }
   ],
   "source": [
    "unique_clusters.plot.scatter(x='latitude', y='longitude', c='cluster')"
   ]
  },
  {
   "cell_type": "code",
   "execution_count": 177,
   "metadata": {},
   "outputs": [
    {
     "data": {
      "text/html": [
       "<div>\n",
       "<style scoped>\n",
       "    .dataframe tbody tr th:only-of-type {\n",
       "        vertical-align: middle;\n",
       "    }\n",
       "\n",
       "    .dataframe tbody tr th {\n",
       "        vertical-align: top;\n",
       "    }\n",
       "\n",
       "    .dataframe thead th {\n",
       "        text-align: right;\n",
       "    }\n",
       "</style>\n",
       "<table border=\"1\" class=\"dataframe\">\n",
       "  <thead>\n",
       "    <tr style=\"text-align: right;\">\n",
       "      <th></th>\n",
       "      <th>lat</th>\n",
       "      <th>long</th>\n",
       "      <th>city</th>\n",
       "    </tr>\n",
       "  </thead>\n",
       "  <tbody>\n",
       "    <tr>\n",
       "      <td>0</td>\n",
       "      <td>33.751277</td>\n",
       "      <td>-118.18874</td>\n",
       "      <td>Los Angeles</td>\n",
       "    </tr>\n",
       "    <tr>\n",
       "      <td>1</td>\n",
       "      <td>25.867736</td>\n",
       "      <td>-80.324116</td>\n",
       "      <td>Miami</td>\n",
       "    </tr>\n",
       "    <tr>\n",
       "      <td>2</td>\n",
       "      <td>51.503016</td>\n",
       "      <td>-0.075479</td>\n",
       "      <td>London</td>\n",
       "    </tr>\n",
       "    <tr>\n",
       "      <td>3</td>\n",
       "      <td>52.378894</td>\n",
       "      <td>4.885084</td>\n",
       "      <td>Amsterdam</td>\n",
       "    </tr>\n",
       "    <tr>\n",
       "      <td>4</td>\n",
       "      <td>39.366487</td>\n",
       "      <td>117.036146</td>\n",
       "      <td>Beijing</td>\n",
       "    </tr>\n",
       "    <tr>\n",
       "      <td>5</td>\n",
       "      <td>-33.868457</td>\n",
       "      <td>151.205134</td>\n",
       "      <td>Sydney</td>\n",
       "    </tr>\n",
       "  </tbody>\n",
       "</table>\n",
       "</div>"
      ],
      "text/plain": [
       "          lat        long         city\n",
       "0   33.751277  -118.18874  Los Angeles\n",
       "1   25.867736  -80.324116        Miami\n",
       "2   51.503016   -0.075479       London\n",
       "3   52.378894    4.885084    Amsterdam\n",
       "4   39.366487  117.036146      Beijing\n",
       "5  -33.868457  151.205134       Sydney"
      ]
     },
     "execution_count": 177,
     "metadata": {},
     "output_type": "execute_result"
    }
   ],
   "source": [
    "offices = pd.DataFrame(np.array([\n",
    "    [33.751277, -118.188740, \"Los Angeles\"],\n",
    "    [25.867736, -80.324116, \"Miami\"],\n",
    "    [51.503016, -0.075479, \"London\"],\n",
    "    [52.378894, 4.885084, \"Amsterdam\"],\n",
    "    [39.366487, 117.036146, \"Beijing\"],\n",
    "    [-33.868457, 151.205134, \"Sydney\"]\n",
    "]), columns=['lat', 'long', 'city'])\n",
    "\n",
    "offices"
   ]
  },
  {
   "cell_type": "code",
   "execution_count": 180,
   "metadata": {},
   "outputs": [
    {
     "data": {
      "text/plain": [
       "<matplotlib.axes._subplots.AxesSubplot at 0x228817cfcf8>"
      ]
     },
     "execution_count": 180,
     "metadata": {},
     "output_type": "execute_result"
    },
    {
     "data": {
      "image/png": "[encoded data removed]",
      "text/plain": [
       "<Figure size 432x288 with 1 Axes>"
      ]
     },
     "metadata": {
      "needs_background": "light"
     },
     "output_type": "display_data"
    },
    {
     "data": {
      "image/png": "[encoded data removed]",
      "text/plain": [
       "<Figure size 432x288 with 1 Axes>"
      ]
     },
     "metadata": {
      "needs_background": "light"
     },
     "output_type": "display_data"
    }
   ],
   "source": [
    "unique_clusters.plot.scatter(x='latitude', y='longitude')\n",
    "offices[['lat', 'long']].astype(float).plot.scatter(x='lat', y='long')"
   ]
  },
  {
   "cell_type": "code",
   "execution_count": 214,
   "metadata": {},
   "outputs": [],
   "source": [
    "result = []\n",
    "\n",
    "for cluster in unique_clusters.values:\n",
    "    for office in offices.values:\n",
    "        x = [float(cluster[1]), float(cluster[2])]\n",
    "        y = [float(office[0]), float(office[1])]\n",
    "        dist = distance.euclidean(x, y)\n",
    "        result.append([cluster[0], cluster[1], cluster[2], office[2], dist])"
   ]
  },
  {
   "cell_type": "code",
   "execution_count": 219,
   "metadata": {},
   "outputs": [
    {
     "data": {
      "text/html": [
       "<div>\n",
       "<style scoped>\n",
       "    .dataframe tbody tr th:only-of-type {\n",
       "        vertical-align: middle;\n",
       "    }\n",
       "\n",
       "    .dataframe tbody tr th {\n",
       "        vertical-align: top;\n",
       "    }\n",
       "\n",
       "    .dataframe thead th {\n",
       "        text-align: right;\n",
       "    }\n",
       "</style>\n",
       "<table border=\"1\" class=\"dataframe\">\n",
       "  <thead>\n",
       "    <tr style=\"text-align: right;\">\n",
       "      <th></th>\n",
       "      <th>cluster</th>\n",
       "      <th>lat</th>\n",
       "      <th>long</th>\n",
       "      <th>city</th>\n",
       "      <th>distance</th>\n",
       "    </tr>\n",
       "  </thead>\n",
       "  <tbody>\n",
       "    <tr>\n",
       "      <td>0</td>\n",
       "      <td>420.0</td>\n",
       "      <td>-33.860630</td>\n",
       "      <td>151.204776</td>\n",
       "      <td>Sydney</td>\n",
       "      <td>0.007835</td>\n",
       "    </tr>\n",
       "    <tr>\n",
       "      <td>1</td>\n",
       "      <td>370.0</td>\n",
       "      <td>52.372964</td>\n",
       "      <td>4.892317</td>\n",
       "      <td>Amsterdam</td>\n",
       "      <td>0.009353</td>\n",
       "    </tr>\n",
       "    <tr>\n",
       "      <td>2</td>\n",
       "      <td>419.0</td>\n",
       "      <td>25.845672</td>\n",
       "      <td>-80.318891</td>\n",
       "      <td>Miami</td>\n",
       "      <td>0.022674</td>\n",
       "    </tr>\n",
       "    <tr>\n",
       "      <td>3</td>\n",
       "      <td>58.0</td>\n",
       "      <td>51.502991</td>\n",
       "      <td>-0.125537</td>\n",
       "      <td>London</td>\n",
       "      <td>0.050058</td>\n",
       "    </tr>\n",
       "    <tr>\n",
       "      <td>4</td>\n",
       "      <td>51.0</td>\n",
       "      <td>33.809878</td>\n",
       "      <td>-118.148924</td>\n",
       "      <td>Los Angeles</td>\n",
       "      <td>0.070848</td>\n",
       "    </tr>\n",
       "    <tr>\n",
       "      <td>...</td>\n",
       "      <td>...</td>\n",
       "      <td>...</td>\n",
       "      <td>...</td>\n",
       "      <td>...</td>\n",
       "      <td>...</td>\n",
       "    </tr>\n",
       "    <tr>\n",
       "      <td>3547</td>\n",
       "      <td>69.0</td>\n",
       "      <td>49.240172</td>\n",
       "      <td>-123.111860</td>\n",
       "      <td>Sydney</td>\n",
       "      <td>286.630176</td>\n",
       "    </tr>\n",
       "    <tr>\n",
       "      <td>3548</td>\n",
       "      <td>539.0</td>\n",
       "      <td>48.433061</td>\n",
       "      <td>-123.361905</td>\n",
       "      <td>Sydney</td>\n",
       "      <td>286.636701</td>\n",
       "    </tr>\n",
       "    <tr>\n",
       "      <td>3549</td>\n",
       "      <td>172.0</td>\n",
       "      <td>21.305571</td>\n",
       "      <td>-157.856817</td>\n",
       "      <td>Sydney</td>\n",
       "      <td>313.948185</td>\n",
       "    </tr>\n",
       "    <tr>\n",
       "      <td>3550</td>\n",
       "      <td>403.0</td>\n",
       "      <td>21.377810</td>\n",
       "      <td>-158.003045</td>\n",
       "      <td>Sydney</td>\n",
       "      <td>314.104836</td>\n",
       "    </tr>\n",
       "    <tr>\n",
       "      <td>3551</td>\n",
       "      <td>421.0</td>\n",
       "      <td>61.218056</td>\n",
       "      <td>-149.900278</td>\n",
       "      <td>Sydney</td>\n",
       "      <td>315.762433</td>\n",
       "    </tr>\n",
       "  </tbody>\n",
       "</table>\n",
       "<p>3552 rows × 5 columns</p>\n",
       "</div>"
      ],
      "text/plain": [
       "      cluster        lat        long         city    distance\n",
       "0       420.0 -33.860630  151.204776       Sydney    0.007835\n",
       "1       370.0  52.372964    4.892317    Amsterdam    0.009353\n",
       "2       419.0  25.845672  -80.318891        Miami    0.022674\n",
       "3        58.0  51.502991   -0.125537       London    0.050058\n",
       "4        51.0  33.809878 -118.148924  Los Angeles    0.070848\n",
       "...       ...        ...         ...          ...         ...\n",
       "3547     69.0  49.240172 -123.111860       Sydney  286.630176\n",
       "3548    539.0  48.433061 -123.361905       Sydney  286.636701\n",
       "3549    172.0  21.305571 -157.856817       Sydney  313.948185\n",
       "3550    403.0  21.377810 -158.003045       Sydney  314.104836\n",
       "3551    421.0  61.218056 -149.900278       Sydney  315.762433\n",
       "\n",
       "[3552 rows x 5 columns]"
      ]
     },
     "execution_count": 219,
     "metadata": {},
     "output_type": "execute_result"
    }
   ],
   "source": [
    "result.sort(key=lambda x: x[4])\n",
    "pd.DataFrame(result, columns=['cluster', 'lat', 'long', 'city', 'distance'])"
   ]
  },
  {
   "cell_type": "code",
   "execution_count": 221,
   "metadata": {},
   "outputs": [],
   "source": [
    "with open('result.txt', 'w') as file:\n",
    "    file.write(f'{result[0][1]} {result[0][2]}')"
   ]
  }
 ],
 "metadata": {
  "kernelspec": {
   "display_name": "Python 3",
   "language": "python",
   "name": "python3"
  },
  "language_info": {
   "codemirror_mode": {
    "name": "ipython",
    "version": 3
   },
   "file_extension": ".py",
   "mimetype": "text/x-python",
   "name": "python",
   "nbconvert_exporter": "python",
   "pygments_lexer": "ipython3",
   "version": "3.7.3"
  }
 },
 "nbformat": 4,
 "nbformat_minor": 4
}
