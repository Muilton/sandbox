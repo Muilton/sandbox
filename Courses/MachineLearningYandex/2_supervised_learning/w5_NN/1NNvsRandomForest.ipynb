{
 "cells": [
  {
   "cell_type": "code",
   "execution_count": 211,
   "metadata": {},
   "outputs": [],
   "source": [
    "import numpy as np\n",
    "import pandas as pd\n",
    "from sklearn import datasets\n",
    "from sklearn.model_selection import train_test_split\n",
    "from sklearn.ensemble import RandomForestClassifier\n",
    "from sklearn.metrics.pairwise import euclidean_distances\n",
    "from sklearn.neighbors import KNeighborsClassifier\n",
    "from sklearn.metrics import accuracy_score\n",
    "from matplotlib import pyplot as plt"
   ]
  },
  {
   "cell_type": "code",
   "execution_count": 196,
   "metadata": {},
   "outputs": [],
   "source": [
    "data = datasets.load_digits()\n",
    "cutter = int(data['data'].shape[0] * 0.75)\n",
    "X_train, X_test, y_train, y_test = data['data'][:cutter], data['data'][cutter:], \\\n",
    "                                    data['target'][:cutter], data['target'][cutter:]"
   ]
  },
  {
   "cell_type": "code",
   "execution_count": 197,
   "metadata": {},
   "outputs": [],
   "source": [
    "def best_euclid_distance(test, train, target):\n",
    "    buffer = []\n",
    "    for idx, x in enumerate(test):\n",
    "        buffer.append([])\n",
    "        for idy, y in enumerate(train):\n",
    "            distance = ((x @ x) - 2 * (x @ y) + (y @ y))**0.5\n",
    "            buffer[idx].append([distance, int(target[idy])])\n",
    "        buffer[idx] = sorted(buffer[idx], key=lambda x:x[0]) \n",
    "\n",
    "    return np.array(buffer)[:, :1, 1]"
   ]
  },
  {
   "cell_type": "code",
   "execution_count": 198,
   "metadata": {},
   "outputs": [
    {
     "data": {
      "text/plain": [
       "0.0377777777777778"
      ]
     },
     "execution_count": 198,
     "metadata": {},
     "output_type": "execute_result"
    }
   ],
   "source": [
    "predict = best_euclid_distance(X_test, X_train, y_train)\n",
    "1 - float(sum(predict == y_test.reshape(y_test.shape[0], 1))/ predict.shape[0])"
   ]
  },
  {
   "cell_type": "code",
   "execution_count": 214,
   "metadata": {},
   "outputs": [
    {
     "name": "stdout",
     "output_type": "stream",
     "text": [
      "0.9622222222222222\n"
     ]
    },
    {
     "data": {
      "image/png": "[encoded data removed]",
      "text/plain": [
       "<Figure size 432x288 with 1 Axes>"
      ]
     },
     "metadata": {},
     "output_type": "display_data"
    }
   ],
   "source": [
    "neib = KNeighborsClassifier(metric='euclidean', n_neighbors=1)\n",
    "\n",
    "neib.fit(X_train, y_train)\n",
    "print(accuracy_score(neib.predict(X_test), y_test))\n",
    "\n",
    "\n",
    "for i in range(1, 20, 1):\n",
    "    neib = KNeighborsClassifier(metric='euclidean', n_neighbors=i)\n",
    "    neib.fit(X_train, y_train)\n",
    "    \n",
    "    plt.scatter(i, accuracy_score(neib.predict(X_test), y_test))"
   ]
  },
  {
   "cell_type": "code",
   "execution_count": 200,
   "metadata": {},
   "outputs": [
    {
     "data": {
      "text/plain": [
       "0.9622222222222222"
      ]
     },
     "execution_count": 200,
     "metadata": {},
     "output_type": "execute_result"
    }
   ],
   "source": [
    "float(sum(predict == y_test.reshape(y_test.shape[0], 1))/ predict.shape[0])"
   ]
  },
  {
   "cell_type": "code",
   "execution_count": null,
   "metadata": {},
   "outputs": [],
   "source": []
  },
  {
   "cell_type": "code",
   "execution_count": null,
   "metadata": {},
   "outputs": [],
   "source": []
  },
  {
   "cell_type": "code",
   "execution_count": 202,
   "metadata": {},
   "outputs": [
    {
     "data": {
      "text/plain": [
       "0.06666666666666665"
      ]
     },
     "execution_count": 202,
     "metadata": {},
     "output_type": "execute_result"
    }
   ],
   "source": [
    "forest = RandomForestClassifier(n_estimators=1000)\n",
    "\n",
    "forest.fit(X_train, y_train)\n",
    "\n",
    "1 - accuracy_score(forest.predict(X_test), y_test)"
   ]
  },
  {
   "cell_type": "code",
   "execution_count": null,
   "metadata": {},
   "outputs": [],
   "source": []
  },
  {
   "cell_type": "code",
   "execution_count": null,
   "metadata": {},
   "outputs": [],
   "source": []
  },
  {
   "cell_type": "code",
   "execution_count": null,
   "metadata": {},
   "outputs": [],
   "source": []
  }
 ],
 "metadata": {
  "kernelspec": {
   "display_name": "Python 3",
   "language": "python",
   "name": "python3"
  },
  "language_info": {
   "codemirror_mode": {
    "name": "ipython",
    "version": 3
   },
   "file_extension": ".py",
   "mimetype": "text/x-python",
   "name": "python",
   "nbconvert_exporter": "python",
   "pygments_lexer": "ipython3",
   "version": "3.6.5"
  }
 },
 "nbformat": 4,
 "nbformat_minor": 2
}
