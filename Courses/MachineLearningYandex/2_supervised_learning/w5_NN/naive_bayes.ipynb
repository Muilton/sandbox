{
 "cells": [
  {
   "cell_type": "code",
   "execution_count": 3,
   "metadata": {},
   "outputs": [],
   "source": [
    "import numpy as np\n",
    "import pandas as pd\n",
    "from matplotlib import pyplot as plt\n",
    "from sklearn import datasets\n",
    "from sklearn.cross_validation import cross_val_score\n",
    "from sklearn.naive_bayes import GaussianNB, BernoulliNB, MultinomialNB\n",
    "from sklearn.model_selection import train_test_split\n"
   ]
  },
  {
   "cell_type": "code",
   "execution_count": 16,
   "metadata": {},
   "outputs": [],
   "source": [
    "digits = datasets.load_digits()"
   ]
  },
  {
   "cell_type": "code",
   "execution_count": 17,
   "metadata": {},
   "outputs": [],
   "source": [
    "breast = datasets.load_breast_cancer()"
   ]
  },
  {
   "cell_type": "code",
   "execution_count": 23,
   "metadata": {},
   "outputs": [
    {
     "name": "stdout",
     "output_type": "stream",
     "text": [
      "Digits Gaussian: 0.8186003803550138\n",
      "Digits Bernoulli: 0.8258236507780582\n",
      "Digits Multinomial: 0.8708771489735053\n"
     ]
    }
   ],
   "source": [
    "print(\"Digits Gaussian:\", cross_val_score(GaussianNB(), digits['data'], digits['target']).mean())\n",
    "print(\"Digits Bernoulli:\", cross_val_score(BernoulliNB(), digits['data'], digits['target']).mean())\n",
    "print(\"Digits Multinomial:\", cross_val_score(MultinomialNB(), digits['data'], digits['target']).mean())"
   ]
  },
  {
   "cell_type": "code",
   "execution_count": 35,
   "metadata": {},
   "outputs": [
    {
     "name": "stdout",
     "output_type": "stream",
     "text": [
      "Breast Gaussian: 0.9367492806089297\n",
      "Breast Bernoulli: 0.6274204028589994\n",
      "Breast Multinomial: 0.8945790401930752\n"
     ]
    }
   ],
   "source": [
    "print(\"Breast Gaussian:\", cross_val_score(GaussianNB(), breast['data'], breast['target']).mean())\n",
    "print(\"Breast Bernoulli:\", cross_val_score(BernoulliNB(), breast['data'], breast['target']).mean())\n",
    "print(\"Breast Multinomial:\", cross_val_score(MultinomialNB(), breast['data'], breast['target']).mean())"
   ]
  },
  {
   "cell_type": "markdown",
   "metadata": {},
   "source": [
    "Ответы\n",
    "1. Breast MAX: 0.9367492806089297\n",
    "2. Digits MAX:  0.8708771489735053\n",
    "3. 3 4"
   ]
  }
 ],
 "metadata": {
  "kernelspec": {
   "display_name": "Python 3",
   "language": "python",
   "name": "python3"
  },
  "language_info": {
   "codemirror_mode": {
    "name": "ipython",
    "version": 3
   },
   "file_extension": ".py",
   "mimetype": "text/x-python",
   "name": "python",
   "nbconvert_exporter": "python",
   "pygments_lexer": "ipython3",
   "version": "3.6.5"
  }
 },
 "nbformat": 4,
 "nbformat_minor": 2
}
