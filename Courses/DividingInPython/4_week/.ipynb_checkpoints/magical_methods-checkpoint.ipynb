{
 "cells": [
  {
   "cell_type": "code",
   "execution_count": 72,
   "metadata": {},
   "outputs": [],
   "source": [
    "import os\n",
    "import tempfile\n",
    "\n",
    "\n",
    "class File:\n",
    "    def __init__(self, path):\n",
    "        self.path = path\n",
    "        self.current_position = 0\n",
    "    \n",
    "    def read(self):\n",
    "        with open(self.path, 'r') as f:\n",
    "            return f.read()\n",
    "    \n",
    "    def write(self, content):\n",
    "        with open(self.path, 'w') as f:\n",
    "            f.write(content)\n",
    "    \n",
    "    def __add__(self, obj):\n",
    "        new_file = type(self)(os.path.join(tempfile.gettempdir(), 'temp.txt'))\n",
    "        new_file.write(self.read() + obj.read())\n",
    "        return new_file\n",
    "            \n",
    "    def __str__(self):\n",
    "        return self.path\n",
    "    \n",
    "    def __iter__(self):\n",
    "        return self\n",
    "    \n",
    "    def __next__(self):\n",
    "        with open(self.path, 'r') as f:\n",
    "            f.seek(self.current_position)\n",
    "            \n",
    "            line = f.readline()\n",
    "            \n",
    "            if not line:\n",
    "                self.current_position = 0\n",
    "                raise StopIteration('EOF')\n",
    "                \n",
    "            self.current_position = f.tell()\n",
    "            \n",
    "            return line\n",
    "    \n",
    "    "
   ]
  },
  {
   "cell_type": "code",
   "execution_count": 73,
   "metadata": {},
   "outputs": [
    {
     "name": "stdout",
     "output_type": "stream",
     "text": [
      "Hello\n",
      "@fuckin@\n",
      "World\n"
     ]
    }
   ],
   "source": [
    "a = File('asd.txt')\n",
    "a.write(\"Hello\\n@fuckin@\\n\")\n",
    "b = File('dsd.txt')\n",
    "b.write(\"World\")\n",
    "c = a+b\n",
    "with open(c.path, \"r\") as f:\n",
    "    print(f.read())\n",
    "    \n",
    "    \n",
    "# print(a)"
   ]
  },
  {
   "cell_type": "code",
   "execution_count": 74,
   "metadata": {},
   "outputs": [
    {
     "name": "stdout",
     "output_type": "stream",
     "text": [
      "Hello\n",
      "\n",
      "@fuckin@\n",
      "\n",
      "World\n"
     ]
    }
   ],
   "source": [
    "for i in c:\n",
    "    print(i)"
   ]
  }
 ],
 "metadata": {
  "kernelspec": {
   "display_name": "Python 3",
   "language": "python",
   "name": "python3"
  },
  "language_info": {
   "codemirror_mode": {
    "name": "ipython",
    "version": 3
   },
   "file_extension": ".py",
   "mimetype": "text/x-python",
   "name": "python",
   "nbconvert_exporter": "python",
   "pygments_lexer": "ipython3",
   "version": "3.6.4"
  }
 },
 "nbformat": 4,
 "nbformat_minor": 2
}
