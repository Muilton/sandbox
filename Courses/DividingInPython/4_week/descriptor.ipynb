{
 "cells": [
  {
   "cell_type": "code",
   "execution_count": 60,
   "metadata": {},
   "outputs": [],
   "source": [
    "class Value:\n",
    "    def __set__(self, obj, value):\n",
    "        self.amount = value - value * obj.commission\n",
    "        \n",
    "    \n",
    "    def __get__(self, obj, obj_type):\n",
    "        return self.amount\n",
    "\n",
    "class Account:\n",
    "    amount = Value()\n",
    "    \n",
    "    def __init__(self, commission):\n",
    "        self.commission = commission\n",
    "         "
   ]
  },
  {
   "cell_type": "code",
   "execution_count": 61,
   "metadata": {},
   "outputs": [
    {
     "data": {
      "text/plain": [
       "90.0"
      ]
     },
     "execution_count": 61,
     "metadata": {},
     "output_type": "execute_result"
    }
   ],
   "source": [
    "new_account = Account(0.1)\n",
    "new_account.amount = 100\n",
    "new_account.amount"
   ]
  }
 ],
 "metadata": {
  "kernelspec": {
   "display_name": "Python 3",
   "language": "python",
   "name": "python3"
  },
  "language_info": {
   "codemirror_mode": {
    "name": "ipython",
    "version": 3
   },
   "file_extension": ".py",
   "mimetype": "text/x-python",
   "name": "python",
   "nbconvert_exporter": "python",
   "pygments_lexer": "ipython3",
   "version": "3.6.5"
  }
 },
 "nbformat": 4,
 "nbformat_minor": 2
}
