{
 "cells": [
  {
   "cell_type": "code",
   "execution_count": null,
   "metadata": {},
   "outputs": [],
   "source": [
    "class SomeObject:\n",
    "    def __init__(self):\n",
    "        self.integer_field = 20\n",
    "        self.float_field = 3.3\n",
    "        self.string_field = \"rock'n'roll\"\n",
    "        \n",
    "        \n",
    "class NullHandle:\n",
    "    def __init__(self, successor=None):\n",
    "        self.successor = successor\n",
    "    \n",
    "    def handle(self, character, event):\n",
    "        if self.successor is not None:\n",
    "            self.successor.handle(character, event)\n",
    "    \n",
    "    \n",
    "class IntHandler(NullHandle):\n",
    "    pass\n",
    "\n",
    "\n",
    "class FloatHandler(NullHandle):\n",
    "    pass\n",
    "\n",
    "\n",
    "class StrHandler(NullHandle):\n",
    "    pass\n",
    "\n",
    "\n",
    "\n",
    "        \n",
    "\n",
    "        "
   ]
  },
  {
   "cell_type": "code",
   "execution_count": 138,
   "metadata": {},
   "outputs": [
    {
     "name": "stdout",
     "output_type": "stream",
     "text": [
      "<class 'int'>\n"
     ]
    }
   ],
   "source": [
    "def func(var):\n",
    "    a = 1\n",
    "    return a if isinstance(var, (int | str | float )) else"
   ]
  },
  {
   "cell_type": "code",
   "execution_count": 161,
   "metadata": {},
   "outputs": [],
   "source": [
    "var = str"
   ]
  },
  {
   "cell_type": "code",
   "execution_count": 162,
   "metadata": {},
   "outputs": [
    {
     "data": {
      "text/plain": [
       "' '"
      ]
     },
     "execution_count": 162,
     "metadata": {},
     "output_type": "execute_result"
    }
   ],
   "source": []
  }
 ],
 "metadata": {
  "kernelspec": {
   "display_name": "Python 3",
   "language": "python",
   "name": "python3"
  },
  "language_info": {
   "codemirror_mode": {
    "name": "ipython",
    "version": 3
   },
   "file_extension": ".py",
   "mimetype": "text/x-python",
   "name": "python",
   "nbconvert_exporter": "python",
   "pygments_lexer": "ipython3",
   "version": "3.6.5"
  }
 },
 "nbformat": 4,
 "nbformat_minor": 2
}
