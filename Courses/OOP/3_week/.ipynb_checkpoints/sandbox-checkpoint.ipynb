{
 "cells": [
  {
   "cell_type": "code",
   "execution_count": 123,
   "metadata": {},
   "outputs": [],
   "source": [
    "from abc import ABC, abstractmethod\n",
    "\n",
    "\n",
    "class Engine:\n",
    "    pass\n",
    "\n",
    "\n",
    "class ObservableEngine(Engine):\n",
    "    def __init__(self):\n",
    "        self.subscribers = set()\n",
    "    \n",
    "    def subscribe(self, subscriber):\n",
    "        self.subscribers.add(subscriber)\n",
    "        \n",
    "    def unsubscribe(self, subscriber):\n",
    "        self.subscribers.remove(subscriber)\n",
    "        \n",
    "    def notify(self, message):\n",
    "        for subscriber in self.subscribers:\n",
    "            subscriber.update((message['title'], message['text']))\n",
    "\n",
    "            \n",
    "class AbstractObserver(ABC):\n",
    "    \n",
    "    @abstractmethod\n",
    "    def update(self):\n",
    "        pass\n",
    "\n",
    "    \n",
    "class ShortNotificationPrinter(AbstractObserver):\n",
    "    def __init__(self):\n",
    "        self.achievements = set()\n",
    "    \n",
    "    def update(self, achievement):\n",
    "        self.achievements.add(achievement[0])\n",
    "\n",
    "\n",
    "class FullNotificationPrinter(AbstractObserver):\n",
    "    def __init__(self):\n",
    "        self.achievements = []\n",
    "    \n",
    "    def update(self, achievement):\n",
    "        achievement = {'title' : achievement[0], 'text' : achievement[1]}\n",
    "        if not achievement in self.achievements: \n",
    "            self.achievements.append(achievement)\n"
   ]
  },
  {
   "cell_type": "code",
   "execution_count": 124,
   "metadata": {},
   "outputs": [],
   "source": [
    "shortprinter = ShortNotificationPrinter()\n",
    "fullprinter = FullNotificationPrinter()\n",
    "engine = ObservableEngine()"
   ]
  },
  {
   "cell_type": "code",
   "execution_count": 125,
   "metadata": {},
   "outputs": [],
   "source": [
    "engine.subscribe(shortprinter)\n",
    "engine.subscribe(fullprinter)"
   ]
  },
  {
   "cell_type": "code",
   "execution_count": 133,
   "metadata": {},
   "outputs": [],
   "source": [
    "engine.notify({\"title\": \"Виy\", \"text\": \"Дается при убийстве всех противников\"})"
   ]
  },
  {
   "cell_type": "code",
   "execution_count": 135,
   "metadata": {},
   "outputs": [
    {
     "data": {
      "text/plain": [
       "({'Ви', 'Виy'},\n",
       " [{'title': 'Ви', 'text': 'Дается при убийстве всех противников'},\n",
       "  {'title': 'Виy', 'text': 'Дается при убийстве всех противников'}])"
      ]
     },
     "execution_count": 135,
     "metadata": {},
     "output_type": "execute_result"
    }
   ],
   "source": [
    "shortprinter.achievements, fullprinter.achievements"
   ]
  },
  {
   "cell_type": "code",
   "execution_count": null,
   "metadata": {},
   "outputs": [],
   "source": []
  }
 ],
 "metadata": {
  "kernelspec": {
   "display_name": "Python 3",
   "language": "python",
   "name": "python3"
  },
  "language_info": {
   "codemirror_mode": {
    "name": "ipython",
    "version": 3
   },
   "file_extension": ".py",
   "mimetype": "text/x-python",
   "name": "python",
   "nbconvert_exporter": "python",
   "pygments_lexer": "ipython3",
   "version": "3.6.5"
  }
 },
 "nbformat": 4,
 "nbformat_minor": 2
}
