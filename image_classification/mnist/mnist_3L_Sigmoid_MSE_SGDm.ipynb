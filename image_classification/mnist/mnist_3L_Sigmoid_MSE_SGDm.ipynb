{
 "cells": [
  {
   "cell_type": "code",
   "execution_count": 1,
   "metadata": {},
   "outputs": [],
   "source": [
    "import numpy as np\n",
    "import pandas as pd\n",
    "from sklearn.model_selection import train_test_split # деление на обучающую и проверочную выборку\n",
    "from sklearn.preprocessing import OneHotEncoder # кодирует целочисленные значения у в массив\n",
    "from sklearn.metrics import accuracy_score # подсчет точности предсказаний\n",
    "from sklearn.preprocessing import StandardScaler"
   ]
  },
  {
   "cell_type": "markdown",
   "metadata": {},
   "source": [
    "# Подготовка данных"
   ]
  },
  {
   "cell_type": "code",
   "execution_count": 2,
   "metadata": {},
   "outputs": [
    {
     "data": {
      "text/plain": [
       "'\\nПосле всех преобразований получили размерности:\\nX - [29400x784]\\ny - [29400x1]\\ny_onehotenc - [29400x10]\\n\\nx_test - [12600x784]\\ny_test - [12600x1]\\n'"
      ]
     },
     "execution_count": 2,
     "metadata": {},
     "output_type": "execute_result"
    }
   ],
   "source": [
    "df = pd.read_csv('data/train.csv')\n",
    "\n",
    "df_X = df.drop('label', axis=1) \n",
    "df_y = df['label']\n",
    "\n",
    "train_x, test_x, train_y, test_y = train_test_split(df_X, df_y, test_size=0.1, random_state=20) \n",
    "\n",
    "# отложенные данные для теста\n",
    "X_test = np.array(test_x) / 255 #  масштабируем чтобы значения были в даипозоне [0 - 1]\n",
    "y_test = np.array([test_y]).T\n",
    "\n",
    "\n",
    "# данные для обучения модели \n",
    "X = np.array(train_x) / 255 #  масштабируем чтобы значения были в даипозоне [0 - 1]\n",
    "y = np.array([train_y]).T\n",
    "\n",
    "y_onehotenc = OneHotEncoder().fit_transform(y).toarray()\n",
    "\n",
    "'''\n",
    "После всех преобразований получили размерности:\n",
    "X - [29400x784]\n",
    "y - [29400x1]\n",
    "y_onehotenc - [29400x10]\n",
    "\n",
    "x_test - [12600x784]\n",
    "y_test - [12600x1]\n",
    "'''\n"
   ]
  },
  {
   "cell_type": "code",
   "execution_count": null,
   "metadata": {},
   "outputs": [],
   "source": []
  },
  {
   "cell_type": "markdown",
   "metadata": {},
   "source": [
    "# Функция активации и ее производная"
   ]
  },
  {
   "cell_type": "code",
   "execution_count": 3,
   "metadata": {},
   "outputs": [],
   "source": [
    "# ф-я активации, при флаге True возвращает производную (для подсчета градиента)\n",
    "def sigmoid(x, derivative=False):\n",
    "    if derivative == True:\n",
    "        return x * (1 - x)\n",
    "    return 1 / (1 + np.exp(-x))"
   ]
  },
  {
   "cell_type": "markdown",
   "metadata": {},
   "source": [
    "# Функция ошибки и ее производная"
   ]
  },
  {
   "cell_type": "code",
   "execution_count": 4,
   "metadata": {},
   "outputs": [],
   "source": [
    "# ф-я ошибки, при флаге True возвращает производную (для подсчета градиента)\n",
    "def loss(y, y_, derivative=False):\n",
    "    if derivative == True:\n",
    "        return y - y_\n",
    "    return (y - y_)**2"
   ]
  },
  {
   "cell_type": "markdown",
   "metadata": {},
   "source": [
    "# Математическое обоснование"
   ]
  },
  {
   "cell_type": "markdown",
   "metadata": {},
   "source": [
    "Описание параметров:\n",
    " - Ф-я активации (activation) - $SIGMOID$ (logistic regression)\n",
    " - Ф-я ошибки (loss) - $MSE$ (mean squared error)\n",
    " - Оптимизатор (optimizer) - $SGDm$ (Stochastic gradient descent)\n",
    " - Размер батча обучения (batch) - 32\n",
    " - Используется инерционность ($momentum$)\n",
    "\n",
    "\n",
    "Ф-я активации СИГМОИД ($A$): $ \\frac{1}{(1+e^{-\\alpha})}$, где $\\alpha$ считается как $ X_{input} * w + b$\n",
    "\n",
    "Производная ф-ии активации: $dA = \\alpha*(1-\\alpha)$\n",
    "\n",
    "Ф-я ошибки MSE ($E$): $\\frac{\\sum{(y-y^{'})^2}}{n}$, где $y$ - правильный ответ, а $y^{'}$ - предсказания сети\n",
    "\n",
    "Производная ф-ии ошибки MSE: $dE = \\frac{-2 (y-y^{'})}{n}$\n",
    "\n",
    "Рекуретное отношение последнего слоя: $ \\delta_{n} = dE_n * dA_n$\n",
    "\n",
    "Рекуретное отношение скрытого слоя: $ \\delta_{n} = \\delta_{n+1} * w_{n+1} * dA$\n",
    "\n",
    "Частная производная ф-ии ошибки по весам $w$:  $\\frac{dE}{dw} = \\delta * X_{input}$ --- градиент весов\n",
    "\n",
    "\n",
    "Частная производная ф-ии ошибки по биасам $b$:  $\\frac{dE}{db} = \\delta$  --- градиент биасов\n",
    "\n",
    "Уравнение обновления весов и биасов ($SGDm$): $\\omega = \\omega - \\alpha * \\triangledown \\omega$ => $\\omega = \\omega + \\triangledown \\omega$, т.к. антиградиент с \"-\" и $-\\alpha$  дают \"+\". $\\alpha$ заменяем learning rate\n",
    "\n",
    "Добавить в формулу обновления весов - $w = w_{old} + lr * (w_{delta} + momentum * w_{old}) $"
   ]
  },
  {
   "cell_type": "markdown",
   "metadata": {},
   "source": [
    "# Архитектура и обучение NN (3 слоя)"
   ]
  },
  {
   "cell_type": "code",
   "execution_count": 60,
   "metadata": {
    "scrolled": false
   },
   "outputs": [
    {
     "name": "stdout",
     "output_type": "stream",
     "text": [
      "Epoch 0. Error:0.1800619564622661\n",
      "Train score:  0.09656084656084656\n",
      "Test score:  0.09833333333333333\n",
      "___________________________________________\n",
      "Epoch 10. Error:0.009487894921538566\n",
      "Train score:  0.9777513227513227\n",
      "Test score:  0.9635714285714285\n",
      "___________________________________________\n",
      "Epoch 20. Error:0.003417135077640958\n",
      "Train score:  0.9935978835978836\n",
      "Test score:  0.9702380952380952\n",
      "___________________________________________\n",
      "Epoch 30. Error:0.0017092196479927256\n",
      "Train score:  0.9962433862433863\n",
      "Test score:  0.9716666666666667\n",
      "___________________________________________\n",
      "Epoch 40. Error:0.00126747911939265\n",
      "Train score:  0.9968253968253968\n",
      "Test score:  0.9730952380952381\n",
      "___________________________________________\n",
      "Epoch 50. Error:0.0010170488646845418\n",
      "Train score:  0.997010582010582\n",
      "Test score:  0.9723809523809523\n",
      "___________________________________________\n",
      "Epoch 60. Error:0.0009043226751913659\n",
      "Train score:  0.9971164021164021\n",
      "Test score:  0.9733333333333334\n",
      "___________________________________________\n",
      "Epoch 70. Error:0.0008531446186939947\n",
      "Train score:  0.9972486772486773\n",
      "Test score:  0.9726190476190476\n",
      "___________________________________________\n",
      "Epoch 80. Error:0.0007780437608929568\n",
      "Train score:  0.9973544973544973\n",
      "Test score:  0.9730952380952381\n",
      "___________________________________________\n",
      "Epoch 90. Error:0.0007346458592204806\n",
      "Train score:  0.9974338624338625\n",
      "Test score:  0.9735714285714285\n",
      "___________________________________________\n",
      "Epoch 100. Error:0.000682734891210004\n",
      "Train score:  0.9975661375661375\n",
      "Test score:  0.9738095238095238\n",
      "___________________________________________\n",
      "Epoch 110. Error:0.0006460360256500667\n",
      "Train score:  0.9975661375661375\n",
      "Test score:  0.9733333333333334\n",
      "___________________________________________\n",
      "Epoch 120. Error:0.0006300329641401851\n",
      "Train score:  0.9976190476190476\n",
      "Test score:  0.9738095238095238\n",
      "___________________________________________\n",
      "Epoch 130. Error:0.0006018621486473529\n",
      "Train score:  0.9976190476190476\n",
      "Test score:  0.9735714285714285\n",
      "___________________________________________\n",
      "Epoch 140. Error:0.0005841687027041896\n",
      "Train score:  0.9976190476190476\n",
      "Test score:  0.9733333333333334\n",
      "___________________________________________\n",
      "Epoch 150. Error:0.0005688171440167454\n",
      "Train score:  0.9976190476190476\n",
      "Test score:  0.9733333333333334\n",
      "___________________________________________\n"
     ]
    }
   ],
   "source": [
    "epoches = 151 # кол-во эпох обучения\n",
    "batch = 32 # размер батча\n",
    "lr = 1e-1 # learning rate\n",
    "momentum = 0.9 # коэффициент инерционности \n",
    "\n",
    "dE_dw1_old = 0\n",
    "dE_db1_old = 0\n",
    "dE_dw2_old = 0\n",
    "dE_db2_old = 0\n",
    "dE_dw3_old = 0\n",
    "dE_db3_old = 0\n",
    "\n",
    "\n",
    "w1 = np.random.random((784, 128)) / 1e4   # рандомно создаем матрицу весов для 1-го слоя и масштабируем\n",
    "w2 = np.random.random((128, 32)) / 1e4   # рандомно создаем матрицу весов для 2-го слоя и масштабируем\n",
    "w3 = np.random.random((32, 10)) / 1e4   # рандомно создаем матрицу весов для 3-го слоя и масштабируем\n",
    "\n",
    "b1 = np.zeros((1,128))  # создаем матрицу нулевых биасов для 1-го слоя\n",
    "b2 = np.zeros((1,32))  # создаем матрицу нулевых биасов для 2-го слоя\n",
    "b3 = np.zeros((1,10))  # создаем матрицу нулевых биасов для 3-го слоя\n",
    "\n",
    "\n",
    "for _ in range(epoches):\n",
    "    for i in range(X.shape[0] // batch):\n",
    "        batch_ids = np.random.choice(X.shape[0], batch, replace=False)\n",
    "        \n",
    "        y1 = sigmoid(X[batch_ids] @ w1 + b1) # предсказание 1-го слоя\n",
    "        y2 = sigmoid(y1 @ w2 + b2) # предсказание 2-го слоя\n",
    "        y3 = sigmoid(y2 @ w3 + b3) # предсказание 3-го слоя\n",
    "        \n",
    "        dE = loss(y_onehotenc[batch_ids], y3, True)  # берем производную по ф-ии ошибки\n",
    "\n",
    "        # анти-градиент последнего слоя\n",
    "        tmp3 = dE * sigmoid(y3, True) # рекурентное соотношение\n",
    "        dE_dw3 = y2.T @ tmp3 # градиент последнего слоя с нормированием по размеру батча\n",
    "        dE_db3 = np.mean(tmp3, axis=0) # градиент биасов последнего слоя\n",
    "\n",
    "        # анти-градиент 2 слоя\n",
    "        tmp2 = (tmp3 @ w3.T) * sigmoid(y2, True) # рекурентное соотношение\n",
    "        dE_dw2 = y1.T @ tmp2 # градиент скрытого слоя нормированный по размеру батча\n",
    "        dE_db2 = np.mean(tmp2, axis=0) # градиент биасов скрытого слоя\n",
    "        \n",
    "        # анти-градиент 1 слоя\n",
    "        tmp1 = (tmp2 @ w2.T) * sigmoid(y1, True) # рекурентное соотношение\n",
    "        dE_dw1 = X[batch_ids].T @ tmp1 # градиент скрытого слоя нормированный по размеру батча\n",
    "        dE_db1 = np.mean(tmp1, axis=0) # градиент биасов скрытого слоя\n",
    "\n",
    "        # обновляем веса и биасы\n",
    "        w1 += lr * (dE_dw1 + momentum * dE_dw1_old) \n",
    "        b1 += lr * (dE_db1 + momentum * dE_db1_old)\n",
    "        w2 += lr * (dE_dw2 + momentum * dE_dw2_old) \n",
    "        b2 += lr * (dE_db2 + momentum * dE_db2_old) \n",
    "        w3 += lr * (dE_dw3 + momentum * dE_dw3_old) \n",
    "        b3 += lr * (dE_db3 + momentum * dE_db3_old)\n",
    "        \n",
    "        dE_dw1_old = dE_dw1\n",
    "        dE_db1_old = dE_db1\n",
    "        dE_dw2_old = dE_dw2\n",
    "        dE_db2_old = dE_db2\n",
    "        dE_dw3_old = dE_dw3\n",
    "        dE_db3_old = dE_db3\n",
    "\n",
    "    \n",
    "    if (_ % 10) == 0:  # показываем MSE каждые 10 эпох обучения\n",
    "        error = y_onehotenc - sigmoid(sigmoid(sigmoid(X @ w1 + b1) @ w2 + b2) @ w3 + b3)\n",
    "        print(f\"Epoch {_}. Error:\" +  str(np.mean(np.abs(error))))\n",
    "    \n",
    "        # считаем точность на обученной выборке\n",
    "        train_predict_matrix = sigmoid(sigmoid(sigmoid(X @ w1 + b1) @ w2 + b2) @ w3 + b3)\n",
    "        train_predict_vector = train_predict_matrix.argmax(axis=1).T\n",
    "        print(\"Train score: \", accuracy_score(y, train_predict_vector))\n",
    "        \n",
    "        # проверка точности на отложенной выборке\n",
    "        test_predict_matrix = sigmoid(sigmoid(sigmoid(X_test @ w1 + b1) @ w2 + b2) @ w3 + b3)\n",
    "        test_predict_vector = test_predict_matrix.argmax(axis=1).T\n",
    "        print(\"Test score: \",  accuracy_score(y_test, test_predict_vector))   # without bias 0.901984126984127\n",
    "        \n",
    "        # разделитель\n",
    "        print(\"___________________________________________\")"
   ]
  },
  {
   "cell_type": "code",
   "execution_count": 53,
   "metadata": {},
   "outputs": [
    {
     "name": "stderr",
     "output_type": "stream",
     "text": [
      "C:\\Anaconda3\\lib\\site-packages\\sklearn\\utils\\validation.py:475: DataConversionWarning: Data with input dtype int64 was converted to float64 by StandardScaler.\n",
      "  warnings.warn(msg, DataConversionWarning)\n"
     ]
    }
   ],
   "source": [
    "df_test = pd.read_csv('data/test.csv')\n",
    "\n",
    "test = np.array(df_test) / 255\n",
    "\n",
    "    \n",
    "predict_matrix = sigmoid(sigmoid(sigmoid(test @ w1 + b1) @ w2 + b2) @ w3 + b3)\n",
    "predict_vector = predict_matrix.argmax(axis=1).T\n",
    "\n",
    "# pd.DataFrame(predict_vector, columns=['ImageId', 'Label']).to_csv('submission.csv')\n",
    "\n",
    "predicted_df = pd.DataFrame(predict_vector,\n",
    "                            index = np.arange(1, predict_vector.shape[0] + 1),\n",
    "                            columns=['Label'])\n",
    "predicted_df.to_csv('submission.csv', index_label='ImageId')"
   ]
  }
 ],
 "metadata": {
  "kernelspec": {
   "display_name": "Python 3",
   "language": "python",
   "name": "python3"
  },
  "language_info": {
   "codemirror_mode": {
    "name": "ipython",
    "version": 3
   },
   "file_extension": ".py",
   "mimetype": "text/x-python",
   "name": "python",
   "nbconvert_exporter": "python",
   "pygments_lexer": "ipython3",
   "version": "3.7.3"
  }
 },
 "nbformat": 4,
 "nbformat_minor": 2
}
